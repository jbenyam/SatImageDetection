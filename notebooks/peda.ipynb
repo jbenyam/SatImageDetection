{
 "cells": [
  {
   "cell_type": "markdown",
   "metadata": {},
   "source": [
    "### Preliminary Exploratory Analysis\n",
    "##### Objective: Train a Convolutional Neural Network to conduct Binary-Classification from Maritime Vessel Satelite Imagery\n",
    "##### Method: Binary Classification & Transfer-Learning w.YOLO model\n",
    "\n",
    "**Dataset:** This dataset contains a vast collection of 26.9k images, which have been carefully annotated for the specific purpose of ship detection. The bounding box annotations are presented in the YOLO format, which allows for accurate and efficient detection of the ships in the images. The dataset has been curated to include images of only one class - \"ship\" - thus enabling streamlined and precise analysis.\n",
    "\n",
    "**Transfer Learning:** YOLOv8 can be fine-tuned for specific object detection tasks. Fine-tuning involves taking a pre-trained YOLOv8 model and further training it on a custom dataset related to the particular objects of interest. The process typically includes preparing the dataset, configuring the YOLOv8 model for the task, and training the model on the new data. Fine-tuning allows users to adapt the model to their specific use case, achieving better performance on their target objects."
   ]
  },
  {
   "cell_type": "markdown",
   "metadata": {},
   "source": [
    "###### Step 1. Preparing the Dataset\n",
    "- train directory with images and corresponding label files\n",
    "- valid directory with images and corresponding label files\n",
    "- test directory with images and corresponding label files\n",
    "- data.yaml file with correct paths and class names"
   ]
  },
  {
   "cell_type": "code",
   "execution_count": null,
   "metadata": {},
   "outputs": [],
   "source": [
    "###### Step 2. Setting up YOLOv8 for Transfer Learning\n",
    "model.train(\n",
    "    data='/home/jbenyam/cnnsat/data/data.yaml',\n",
    "    epochs=100,\n",
    "    imgsz=640,\n",
    "    batch=16,\n",
    "    name='yolov8_ship_detection',\n",
    "    verbose=True\n",
    ")\n"
   ]
  },
  {
   "cell_type": "markdown",
   "metadata": {},
   "source": [
    "##### Finetuning YOLOv8 on the Dataset\n",
    "#### Parameters:\n",
    "- data: Path to the data.yaml file.\n",
    "- epochs: Number of training epochs.\n",
    "- imgsz: Image size for training.\n",
    "- batch: Batch size (adjust based on the GPU memory)\n",
    "- name: Name of training run"
   ]
  },
  {
   "cell_type": "code",
   "execution_count": null,
   "metadata": {},
   "outputs": [],
   "source": [
    "###### Step 2. Setting up YOLOv8 for Transfer Learning\n",
    "model.train(\n",
    "    data='/home/jbenyam/cnnsat/data/data.yaml',\n",
    "    epochs=100,\n",
    "    imgsz=640,\n",
    "    batch=16,\n",
    "    name='yolov8_ship_detection',\n",
    "    verbose=True\n",
    ")\n"
   ]
  },
  {
   "cell_type": "markdown",
   "metadata": {},
   "source": []
  }
 ],
 "metadata": {
  "kernelspec": {
   "display_name": "cnnsat",
   "language": "python",
   "name": "python3"
  },
  "language_info": {
   "name": "python",
   "version": "3.10.14"
  }
 },
 "nbformat": 4,
 "nbformat_minor": 2
}
