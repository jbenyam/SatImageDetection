{
 "cells": [
  {
   "cell_type": "markdown",
   "metadata": {},
   "source": [
    "### Preliminary Exploratory Analysis\n",
    "##### Objective: Train a Convolutional Neural Network to conduct Binary-Classification from Maritime Vessel Satelite Imagery\n",
    "##### Method: Binary Classification & Transfer-Learning w.YOLO model\n",
    "\n",
    "**Dataset:** This dataset contains a vast collection of 26.9k images, which have been carefully annotated for the specific purpose of ship detection. The bounding box annotations are presented in the YOLO format, which allows for accurate and efficient detection of the ships in the images. The dataset has been curated to include images of only one class - \"ship\" - thus enabling streamlined and precise analysis.\n",
    "\n",
    "**Transfer Learning:** YOLOv8 can be fine-tuned for specific object detection tasks. Fine-tuning involves taking a pre-trained YOLOv8 model and further training it on a custom dataset related to the particular objects of interest. The process typically includes preparing the dataset, configuring the YOLOv8 model for the task, and training the model on the new data. Fine-tuning allows users to adapt the model to their specific use case, achieving better performance on their target objects."
   ]
  },
  {
   "cell_type": "markdown",
   "metadata": {},
   "source": [
    "###### Step 1. Preparing the Dataset\n",
    "- train directory with images and corresponding label files\n",
    "- valid directory with images and corresponding label files\n",
    "- test directory with images and corresponding label files\n",
    "- data.yaml file with correct paths and class names"
   ]
  },
  {
   "cell_type": "code",
   "execution_count": 1,
   "metadata": {},
   "outputs": [],
   "source": [
    "import torch\n",
    "from ultralytics import YOLO\n"
   ]
  },
  {
   "cell_type": "markdown",
   "metadata": {},
   "source": [
    "##### Finetuning YOLOv8 on the Dataset\n",
    "#### Parameters:\n",
    "- data: Path to the data.yaml file.\n",
    "- epochs: Number of training epochs.\n",
    "- imgsz: Image size for training.\n",
    "- batch: Batch size (adjust based on the GPU memory)\n",
    "- name: Name of training run"
   ]
  },
  {
   "cell_type": "code",
   "execution_count": 2,
   "metadata": {},
   "outputs": [
    {
     "name": "stdout",
     "output_type": "stream",
     "text": [
      "Downloading https://github.com/ultralytics/assets/releases/download/v8.2.0/yolov8n.pt to 'yolov8n.pt'...\n"
     ]
    },
    {
     "name": "stderr",
     "output_type": "stream",
     "text": [
      "100%|██████████| 6.25M/6.25M [00:00<00:00, 7.07MB/s]\n"
     ]
    },
    {
     "name": "stdout",
     "output_type": "stream",
     "text": [
      "Ultralytics YOLOv8.2.96 🚀 Python-3.10.14 torch-2.4.1+cu121 CUDA:0 (NVIDIA GeForce RTX 4080 SUPER, 16376MiB)\n",
      "\u001b[34m\u001b[1mengine/trainer: \u001b[0mtask=detect, mode=train, model=yolov8n.pt, data=/home/jbenyam/cnnsat/data/data.yaml, epochs=10, time=None, patience=100, batch=8, imgsz=640, save=True, save_period=-1, cache=False, device=None, workers=8, project=/home/jbenyam/cnnsat/runs, name=yolov8_ship_detection, exist_ok=False, pretrained=True, optimizer=auto, verbose=True, seed=0, deterministic=True, single_cls=False, rect=False, cos_lr=False, close_mosaic=10, resume=False, amp=True, fraction=1.0, profile=False, freeze=None, multi_scale=False, overlap_mask=True, mask_ratio=4, dropout=0.0, val=True, split=val, save_json=False, save_hybrid=False, conf=None, iou=0.7, max_det=300, half=False, dnn=False, plots=True, source=None, vid_stride=1, stream_buffer=False, visualize=False, augment=False, agnostic_nms=False, classes=None, retina_masks=False, embed=None, show=False, save_frames=False, save_txt=False, save_conf=False, save_crop=False, show_labels=True, show_conf=True, show_boxes=True, line_width=None, format=torchscript, keras=False, optimize=False, int8=False, dynamic=False, simplify=False, opset=None, workspace=4, nms=False, lr0=0.01, lrf=0.01, momentum=0.937, weight_decay=0.0005, warmup_epochs=3.0, warmup_momentum=0.8, warmup_bias_lr=0.1, box=7.5, cls=0.5, dfl=1.5, pose=12.0, kobj=1.0, label_smoothing=0.0, nbs=64, hsv_h=0.015, hsv_s=0.7, hsv_v=0.4, degrees=0.0, translate=0.1, scale=0.5, shear=0.0, perspective=0.0, flipud=0.0, fliplr=0.5, bgr=0.0, mosaic=1.0, mixup=0.0, copy_paste=0.0, auto_augment=randaugment, erasing=0.4, crop_fraction=1.0, cfg=None, tracker=botsort.yaml, save_dir=/home/jbenyam/cnnsat/runs/yolov8_ship_detection\n",
      "Downloading https://ultralytics.com/assets/Arial.ttf to '/home/jbenyam/.config/Ultralytics/Arial.ttf'...\n"
     ]
    },
    {
     "name": "stderr",
     "output_type": "stream",
     "text": [
      "100%|██████████| 755k/755k [00:00<00:00, 1.28MB/s]"
     ]
    },
    {
     "name": "stdout",
     "output_type": "stream",
     "text": [
      "Overriding model.yaml nc=80 with nc=1\n",
      "\n",
      "                   from  n    params  module                                       arguments                     \n"
     ]
    },
    {
     "name": "stderr",
     "output_type": "stream",
     "text": [
      "\n"
     ]
    },
    {
     "name": "stdout",
     "output_type": "stream",
     "text": [
      "  0                  -1  1       464  ultralytics.nn.modules.conv.Conv             [3, 16, 3, 2]                 \n",
      "  1                  -1  1      4672  ultralytics.nn.modules.conv.Conv             [16, 32, 3, 2]                \n",
      "  2                  -1  1      7360  ultralytics.nn.modules.block.C2f             [32, 32, 1, True]             \n",
      "  3                  -1  1     18560  ultralytics.nn.modules.conv.Conv             [32, 64, 3, 2]                \n",
      "  4                  -1  2     49664  ultralytics.nn.modules.block.C2f             [64, 64, 2, True]             \n",
      "  5                  -1  1     73984  ultralytics.nn.modules.conv.Conv             [64, 128, 3, 2]               \n",
      "  6                  -1  2    197632  ultralytics.nn.modules.block.C2f             [128, 128, 2, True]           \n",
      "  7                  -1  1    295424  ultralytics.nn.modules.conv.Conv             [128, 256, 3, 2]              \n",
      "  8                  -1  1    460288  ultralytics.nn.modules.block.C2f             [256, 256, 1, True]           \n",
      "  9                  -1  1    164608  ultralytics.nn.modules.block.SPPF            [256, 256, 5]                 \n",
      " 10                  -1  1         0  torch.nn.modules.upsampling.Upsample         [None, 2, 'nearest']          \n",
      " 11             [-1, 6]  1         0  ultralytics.nn.modules.conv.Concat           [1]                           \n",
      " 12                  -1  1    148224  ultralytics.nn.modules.block.C2f             [384, 128, 1]                 \n",
      " 13                  -1  1         0  torch.nn.modules.upsampling.Upsample         [None, 2, 'nearest']          \n",
      " 14             [-1, 4]  1         0  ultralytics.nn.modules.conv.Concat           [1]                           \n",
      " 15                  -1  1     37248  ultralytics.nn.modules.block.C2f             [192, 64, 1]                  \n",
      " 16                  -1  1     36992  ultralytics.nn.modules.conv.Conv             [64, 64, 3, 2]                \n",
      " 17            [-1, 12]  1         0  ultralytics.nn.modules.conv.Concat           [1]                           \n",
      " 18                  -1  1    123648  ultralytics.nn.modules.block.C2f             [192, 128, 1]                 \n",
      " 19                  -1  1    147712  ultralytics.nn.modules.conv.Conv             [128, 128, 3, 2]              \n",
      " 20             [-1, 9]  1         0  ultralytics.nn.modules.conv.Concat           [1]                           \n",
      " 21                  -1  1    493056  ultralytics.nn.modules.block.C2f             [384, 256, 1]                 \n",
      " 22        [15, 18, 21]  1    751507  ultralytics.nn.modules.head.Detect           [1, [64, 128, 256]]           \n",
      "Model summary: 225 layers, 3,011,043 parameters, 3,011,027 gradients, 8.2 GFLOPs\n",
      "\n",
      "Transferred 319/355 items from pretrained weights\n",
      "\u001b[34m\u001b[1mTensorBoard: \u001b[0mStart with 'tensorboard --logdir /home/jbenyam/cnnsat/runs/yolov8_ship_detection', view at http://localhost:6006/\n",
      "Freezing layer 'model.22.dfl.conv.weight'\n",
      "\u001b[34m\u001b[1mAMP: \u001b[0mrunning Automatic Mixed Precision (AMP) checks with YOLOv8n...\n",
      "\u001b[34m\u001b[1mAMP: \u001b[0mchecks passed ✅\n"
     ]
    },
    {
     "name": "stderr",
     "output_type": "stream",
     "text": [
      "\u001b[34m\u001b[1mtrain: \u001b[0mScanning /home/jbenyam/cnnsat/data/train/labels... 9697 images, 351 backgrounds, 2 corrupt: 100%|██████████| 9697/9697 [00:06<00:00, 1515.68it/s]"
     ]
    },
    {
     "name": "stdout",
     "output_type": "stream",
     "text": [
      "\u001b[34m\u001b[1mtrain: \u001b[0mWARNING ⚠️ /home/jbenyam/cnnsat/data/train/images/1__20180714_180427_1029__-118-20071740708637_33-73029905538088_png.rf.330efa80ecbf49d6ceac7071288d64b4.jpg: ignoring corrupt image/label: non-normalized or out of bounds coordinates [1.0248994]\n",
      "\u001b[34m\u001b[1mtrain: \u001b[0mWARNING ⚠️ /home/jbenyam/cnnsat/data/train/images/1__20180714_180427_1029__-118-21100741654266_33-732092454738826_png.rf.7243f2b58b505e51950850f4b26081ba.jpg: ignoring corrupt image/label: non-normalized or out of bounds coordinates [1.0078689]\n",
      "\u001b[34m\u001b[1mtrain: \u001b[0mNew cache created: /home/jbenyam/cnnsat/data/train/labels.cache\n",
      "WARNING ⚠️ Box and segment counts should be equal, but got len(segments) = 709, len(boxes) = 19454. To resolve this only boxes will be used and all segments will be removed. To avoid this please supply either a detect or segment dataset, not a detect-segment mixed dataset.\n"
     ]
    },
    {
     "name": "stderr",
     "output_type": "stream",
     "text": [
      "\n",
      "\u001b[34m\u001b[1mval: \u001b[0mScanning /home/jbenyam/cnnsat/data/valid/labels... 2165 images, 68 backgrounds, 0 corrupt: 100%|██████████| 2165/2165 [00:01<00:00, 1332.66it/s]"
     ]
    },
    {
     "name": "stdout",
     "output_type": "stream",
     "text": [
      "\u001b[34m\u001b[1mval: \u001b[0mNew cache created: /home/jbenyam/cnnsat/data/valid/labels.cache\n",
      "WARNING ⚠️ Box and segment counts should be equal, but got len(segments) = 172, len(boxes) = 3720. To resolve this only boxes will be used and all segments will be removed. To avoid this please supply either a detect or segment dataset, not a detect-segment mixed dataset.\n"
     ]
    },
    {
     "name": "stderr",
     "output_type": "stream",
     "text": [
      "\n"
     ]
    },
    {
     "name": "stdout",
     "output_type": "stream",
     "text": [
      "Plotting labels to /home/jbenyam/cnnsat/runs/yolov8_ship_detection/labels.jpg... \n",
      "\u001b[34m\u001b[1moptimizer:\u001b[0m 'optimizer=auto' found, ignoring 'lr0=0.01' and 'momentum=0.937' and determining best 'optimizer', 'lr0' and 'momentum' automatically... \n",
      "\u001b[34m\u001b[1moptimizer:\u001b[0m AdamW(lr=0.002, momentum=0.9) with parameter groups 57 weight(decay=0.0), 64 weight(decay=0.0005), 63 bias(decay=0.0)\n",
      "\u001b[34m\u001b[1mTensorBoard: \u001b[0mmodel graph visualization added ✅\n",
      "Image sizes 640 train, 640 val\n",
      "Using 8 dataloader workers\n",
      "Logging results to \u001b[1m/home/jbenyam/cnnsat/runs/yolov8_ship_detection\u001b[0m\n",
      "Starting training for 10 epochs...\n",
      "Closing dataloader mosaic\n",
      "\n",
      "      Epoch    GPU_mem   box_loss   cls_loss   dfl_loss  Instances       Size\n"
     ]
    },
    {
     "name": "stderr",
     "output_type": "stream",
     "text": [
      "       1/10      1.77G      1.819      2.628      1.618          8        640: 100%|██████████| 1212/1212 [00:55<00:00, 21.67it/s]\n",
      "                 Class     Images  Instances      Box(P          R      mAP50  mAP50-95): 100%|██████████| 136/136 [00:07<00:00, 19.40it/s]"
     ]
    },
    {
     "name": "stdout",
     "output_type": "stream",
     "text": [
      "                   all       2165       3720       0.32      0.271      0.226      0.101\n"
     ]
    },
    {
     "name": "stderr",
     "output_type": "stream",
     "text": [
      "\n"
     ]
    },
    {
     "name": "stdout",
     "output_type": "stream",
     "text": [
      "\n",
      "      Epoch    GPU_mem   box_loss   cls_loss   dfl_loss  Instances       Size\n"
     ]
    },
    {
     "name": "stderr",
     "output_type": "stream",
     "text": [
      "       2/10      1.71G      1.828       1.87      1.637          7        640: 100%|██████████| 1212/1212 [00:53<00:00, 22.76it/s]\n",
      "                 Class     Images  Instances      Box(P          R      mAP50  mAP50-95): 100%|██████████| 136/136 [00:07<00:00, 19.38it/s]"
     ]
    },
    {
     "name": "stdout",
     "output_type": "stream",
     "text": [
      "                   all       2165       3720      0.601        0.2      0.246      0.114\n"
     ]
    },
    {
     "name": "stderr",
     "output_type": "stream",
     "text": [
      "\n"
     ]
    },
    {
     "name": "stdout",
     "output_type": "stream",
     "text": [
      "\n",
      "      Epoch    GPU_mem   box_loss   cls_loss   dfl_loss  Instances       Size\n"
     ]
    },
    {
     "name": "stderr",
     "output_type": "stream",
     "text": [
      "       3/10      1.68G      1.753      1.708      1.563         10        640: 100%|██████████| 1212/1212 [00:50<00:00, 23.87it/s]\n",
      "                 Class     Images  Instances      Box(P          R      mAP50  mAP50-95): 100%|██████████| 136/136 [00:06<00:00, 20.98it/s]\n"
     ]
    },
    {
     "name": "stdout",
     "output_type": "stream",
     "text": [
      "                   all       2165       3720      0.399      0.233      0.238      0.109\n",
      "\n",
      "      Epoch    GPU_mem   box_loss   cls_loss   dfl_loss  Instances       Size\n"
     ]
    },
    {
     "name": "stderr",
     "output_type": "stream",
     "text": [
      "       4/10      1.87G      1.698        1.6      1.529          8        640: 100%|██████████| 1212/1212 [00:51<00:00, 23.68it/s]\n",
      "                 Class     Images  Instances      Box(P          R      mAP50  mAP50-95): 100%|██████████| 136/136 [00:06<00:00, 21.28it/s]"
     ]
    },
    {
     "name": "stdout",
     "output_type": "stream",
     "text": [
      "                   all       2165       3720      0.321      0.308      0.271      0.135\n"
     ]
    },
    {
     "name": "stderr",
     "output_type": "stream",
     "text": [
      "\n"
     ]
    },
    {
     "name": "stdout",
     "output_type": "stream",
     "text": [
      "\n",
      "      Epoch    GPU_mem   box_loss   cls_loss   dfl_loss  Instances       Size\n"
     ]
    },
    {
     "name": "stderr",
     "output_type": "stream",
     "text": [
      "       5/10      1.75G        1.6      1.464      1.461          6        640: 100%|██████████| 1212/1212 [00:50<00:00, 24.03it/s]\n",
      "                 Class     Images  Instances      Box(P          R      mAP50  mAP50-95): 100%|██████████| 136/136 [00:06<00:00, 20.69it/s]\n"
     ]
    },
    {
     "name": "stdout",
     "output_type": "stream",
     "text": [
      "                   all       2165       3720      0.491      0.333      0.359      0.197\n",
      "\n",
      "      Epoch    GPU_mem   box_loss   cls_loss   dfl_loss  Instances       Size\n"
     ]
    },
    {
     "name": "stderr",
     "output_type": "stream",
     "text": [
      "       6/10      1.71G      1.536      1.361      1.418          8        640: 100%|██████████| 1212/1212 [00:49<00:00, 24.44it/s]\n",
      "                 Class     Images  Instances      Box(P          R      mAP50  mAP50-95): 100%|██████████| 136/136 [00:06<00:00, 20.99it/s]\n"
     ]
    },
    {
     "name": "stdout",
     "output_type": "stream",
     "text": [
      "                   all       2165       3720      0.532      0.335      0.378       0.21\n",
      "\n",
      "      Epoch    GPU_mem   box_loss   cls_loss   dfl_loss  Instances       Size\n"
     ]
    },
    {
     "name": "stderr",
     "output_type": "stream",
     "text": [
      "       7/10      1.88G      1.487      1.297      1.385         25        640: 100%|██████████| 1212/1212 [00:49<00:00, 24.36it/s]\n",
      "                 Class     Images  Instances      Box(P          R      mAP50  mAP50-95): 100%|██████████| 136/136 [00:06<00:00, 21.62it/s]\n"
     ]
    },
    {
     "name": "stdout",
     "output_type": "stream",
     "text": [
      "                   all       2165       3720       0.53      0.348       0.38      0.214\n",
      "\n",
      "      Epoch    GPU_mem   box_loss   cls_loss   dfl_loss  Instances       Size\n"
     ]
    },
    {
     "name": "stderr",
     "output_type": "stream",
     "text": [
      "       8/10      1.59G      1.449      1.224      1.351          7        640: 100%|██████████| 1212/1212 [00:50<00:00, 24.02it/s]\n",
      "                 Class     Images  Instances      Box(P          R      mAP50  mAP50-95): 100%|██████████| 136/136 [00:06<00:00, 20.08it/s]"
     ]
    },
    {
     "name": "stdout",
     "output_type": "stream",
     "text": [
      "                   all       2165       3720      0.476      0.371      0.385      0.219\n"
     ]
    },
    {
     "name": "stderr",
     "output_type": "stream",
     "text": [
      "\n"
     ]
    },
    {
     "name": "stdout",
     "output_type": "stream",
     "text": [
      "\n",
      "      Epoch    GPU_mem   box_loss   cls_loss   dfl_loss  Instances       Size\n"
     ]
    },
    {
     "name": "stderr",
     "output_type": "stream",
     "text": [
      "       9/10         2G      1.405      1.178      1.319          7        640: 100%|██████████| 1212/1212 [00:52<00:00, 23.30it/s]\n",
      "                 Class     Images  Instances      Box(P          R      mAP50  mAP50-95): 100%|██████████| 136/136 [00:06<00:00, 20.69it/s]"
     ]
    },
    {
     "name": "stdout",
     "output_type": "stream",
     "text": [
      "                   all       2165       3720      0.511      0.392      0.417      0.244\n"
     ]
    },
    {
     "name": "stderr",
     "output_type": "stream",
     "text": [
      "\n"
     ]
    },
    {
     "name": "stdout",
     "output_type": "stream",
     "text": [
      "\n",
      "      Epoch    GPU_mem   box_loss   cls_loss   dfl_loss  Instances       Size\n"
     ]
    },
    {
     "name": "stderr",
     "output_type": "stream",
     "text": [
      "      10/10       1.9G      1.361       1.11      1.291         13        640: 100%|██████████| 1212/1212 [00:51<00:00, 23.66it/s]\n",
      "                 Class     Images  Instances      Box(P          R      mAP50  mAP50-95): 100%|██████████| 136/136 [00:06<00:00, 20.49it/s]\n"
     ]
    },
    {
     "name": "stdout",
     "output_type": "stream",
     "text": [
      "                   all       2165       3720      0.538      0.396       0.43      0.255\n",
      "\n",
      "10 epochs completed in 0.163 hours.\n",
      "Optimizer stripped from /home/jbenyam/cnnsat/runs/yolov8_ship_detection/weights/last.pt, 6.2MB\n",
      "Optimizer stripped from /home/jbenyam/cnnsat/runs/yolov8_ship_detection/weights/best.pt, 6.2MB\n",
      "\n",
      "Validating /home/jbenyam/cnnsat/runs/yolov8_ship_detection/weights/best.pt...\n",
      "Ultralytics YOLOv8.2.96 🚀 Python-3.10.14 torch-2.4.1+cu121 CUDA:0 (NVIDIA GeForce RTX 4080 SUPER, 16376MiB)\n",
      "Model summary (fused): 168 layers, 3,005,843 parameters, 0 gradients, 8.1 GFLOPs\n"
     ]
    },
    {
     "name": "stderr",
     "output_type": "stream",
     "text": [
      "                 Class     Images  Instances      Box(P          R      mAP50  mAP50-95): 100%|██████████| 136/136 [00:06<00:00, 20.24it/s]\n"
     ]
    },
    {
     "name": "stdout",
     "output_type": "stream",
     "text": [
      "                   all       2165       3720      0.539      0.396      0.431      0.255\n",
      "Speed: 0.1ms preprocess, 0.6ms inference, 0.0ms loss, 0.7ms postprocess per image\n",
      "Results saved to \u001b[1m/home/jbenyam/cnnsat/runs/yolov8_ship_detection\u001b[0m\n"
     ]
    },
    {
     "data": {
      "text/plain": [
       "ultralytics.utils.metrics.DetMetrics object with attributes:\n",
       "\n",
       "ap_class_index: array([0])\n",
       "box: ultralytics.utils.metrics.Metric object\n",
       "confusion_matrix: <ultralytics.utils.metrics.ConfusionMatrix object at 0x7f5d342e4d00>\n",
       "curves: ['Precision-Recall(B)', 'F1-Confidence(B)', 'Precision-Confidence(B)', 'Recall-Confidence(B)']\n",
       "curves_results: [[array([          0,    0.001001,    0.002002,    0.003003,    0.004004,    0.005005,    0.006006,    0.007007,    0.008008,    0.009009,     0.01001,    0.011011,    0.012012,    0.013013,    0.014014,    0.015015,    0.016016,    0.017017,    0.018018,    0.019019,     0.02002,    0.021021,    0.022022,    0.023023,\n",
       "          0.024024,    0.025025,    0.026026,    0.027027,    0.028028,    0.029029,     0.03003,    0.031031,    0.032032,    0.033033,    0.034034,    0.035035,    0.036036,    0.037037,    0.038038,    0.039039,     0.04004,    0.041041,    0.042042,    0.043043,    0.044044,    0.045045,    0.046046,    0.047047,\n",
       "          0.048048,    0.049049,     0.05005,    0.051051,    0.052052,    0.053053,    0.054054,    0.055055,    0.056056,    0.057057,    0.058058,    0.059059,     0.06006,    0.061061,    0.062062,    0.063063,    0.064064,    0.065065,    0.066066,    0.067067,    0.068068,    0.069069,     0.07007,    0.071071,\n",
       "          0.072072,    0.073073,    0.074074,    0.075075,    0.076076,    0.077077,    0.078078,    0.079079,     0.08008,    0.081081,    0.082082,    0.083083,    0.084084,    0.085085,    0.086086,    0.087087,    0.088088,    0.089089,     0.09009,    0.091091,    0.092092,    0.093093,    0.094094,    0.095095,\n",
       "          0.096096,    0.097097,    0.098098,    0.099099,      0.1001,      0.1011,      0.1021,      0.1031,      0.1041,     0.10511,     0.10611,     0.10711,     0.10811,     0.10911,     0.11011,     0.11111,     0.11211,     0.11311,     0.11411,     0.11512,     0.11612,     0.11712,     0.11812,     0.11912,\n",
       "           0.12012,     0.12112,     0.12212,     0.12312,     0.12412,     0.12513,     0.12613,     0.12713,     0.12813,     0.12913,     0.13013,     0.13113,     0.13213,     0.13313,     0.13413,     0.13514,     0.13614,     0.13714,     0.13814,     0.13914,     0.14014,     0.14114,     0.14214,     0.14314,\n",
       "           0.14414,     0.14515,     0.14615,     0.14715,     0.14815,     0.14915,     0.15015,     0.15115,     0.15215,     0.15315,     0.15415,     0.15516,     0.15616,     0.15716,     0.15816,     0.15916,     0.16016,     0.16116,     0.16216,     0.16316,     0.16416,     0.16517,     0.16617,     0.16717,\n",
       "           0.16817,     0.16917,     0.17017,     0.17117,     0.17217,     0.17317,     0.17417,     0.17518,     0.17618,     0.17718,     0.17818,     0.17918,     0.18018,     0.18118,     0.18218,     0.18318,     0.18418,     0.18519,     0.18619,     0.18719,     0.18819,     0.18919,     0.19019,     0.19119,\n",
       "           0.19219,     0.19319,     0.19419,      0.1952,      0.1962,      0.1972,      0.1982,      0.1992,      0.2002,      0.2012,      0.2022,      0.2032,      0.2042,     0.20521,     0.20621,     0.20721,     0.20821,     0.20921,     0.21021,     0.21121,     0.21221,     0.21321,     0.21421,     0.21522,\n",
       "           0.21622,     0.21722,     0.21822,     0.21922,     0.22022,     0.22122,     0.22222,     0.22322,     0.22422,     0.22523,     0.22623,     0.22723,     0.22823,     0.22923,     0.23023,     0.23123,     0.23223,     0.23323,     0.23423,     0.23524,     0.23624,     0.23724,     0.23824,     0.23924,\n",
       "           0.24024,     0.24124,     0.24224,     0.24324,     0.24424,     0.24525,     0.24625,     0.24725,     0.24825,     0.24925,     0.25025,     0.25125,     0.25225,     0.25325,     0.25425,     0.25526,     0.25626,     0.25726,     0.25826,     0.25926,     0.26026,     0.26126,     0.26226,     0.26326,\n",
       "           0.26426,     0.26527,     0.26627,     0.26727,     0.26827,     0.26927,     0.27027,     0.27127,     0.27227,     0.27327,     0.27427,     0.27528,     0.27628,     0.27728,     0.27828,     0.27928,     0.28028,     0.28128,     0.28228,     0.28328,     0.28428,     0.28529,     0.28629,     0.28729,\n",
       "           0.28829,     0.28929,     0.29029,     0.29129,     0.29229,     0.29329,     0.29429,      0.2953,      0.2963,      0.2973,      0.2983,      0.2993,      0.3003,      0.3013,      0.3023,      0.3033,      0.3043,     0.30531,     0.30631,     0.30731,     0.30831,     0.30931,     0.31031,     0.31131,\n",
       "           0.31231,     0.31331,     0.31431,     0.31532,     0.31632,     0.31732,     0.31832,     0.31932,     0.32032,     0.32132,     0.32232,     0.32332,     0.32432,     0.32533,     0.32633,     0.32733,     0.32833,     0.32933,     0.33033,     0.33133,     0.33233,     0.33333,     0.33433,     0.33534,\n",
       "           0.33634,     0.33734,     0.33834,     0.33934,     0.34034,     0.34134,     0.34234,     0.34334,     0.34434,     0.34535,     0.34635,     0.34735,     0.34835,     0.34935,     0.35035,     0.35135,     0.35235,     0.35335,     0.35435,     0.35536,     0.35636,     0.35736,     0.35836,     0.35936,\n",
       "           0.36036,     0.36136,     0.36236,     0.36336,     0.36436,     0.36537,     0.36637,     0.36737,     0.36837,     0.36937,     0.37037,     0.37137,     0.37237,     0.37337,     0.37437,     0.37538,     0.37638,     0.37738,     0.37838,     0.37938,     0.38038,     0.38138,     0.38238,     0.38338,\n",
       "           0.38438,     0.38539,     0.38639,     0.38739,     0.38839,     0.38939,     0.39039,     0.39139,     0.39239,     0.39339,     0.39439,      0.3954,      0.3964,      0.3974,      0.3984,      0.3994,      0.4004,      0.4014,      0.4024,      0.4034,      0.4044,     0.40541,     0.40641,     0.40741,\n",
       "           0.40841,     0.40941,     0.41041,     0.41141,     0.41241,     0.41341,     0.41441,     0.41542,     0.41642,     0.41742,     0.41842,     0.41942,     0.42042,     0.42142,     0.42242,     0.42342,     0.42442,     0.42543,     0.42643,     0.42743,     0.42843,     0.42943,     0.43043,     0.43143,\n",
       "           0.43243,     0.43343,     0.43443,     0.43544,     0.43644,     0.43744,     0.43844,     0.43944,     0.44044,     0.44144,     0.44244,     0.44344,     0.44444,     0.44545,     0.44645,     0.44745,     0.44845,     0.44945,     0.45045,     0.45145,     0.45245,     0.45345,     0.45445,     0.45546,\n",
       "           0.45646,     0.45746,     0.45846,     0.45946,     0.46046,     0.46146,     0.46246,     0.46346,     0.46446,     0.46547,     0.46647,     0.46747,     0.46847,     0.46947,     0.47047,     0.47147,     0.47247,     0.47347,     0.47447,     0.47548,     0.47648,     0.47748,     0.47848,     0.47948,\n",
       "           0.48048,     0.48148,     0.48248,     0.48348,     0.48448,     0.48549,     0.48649,     0.48749,     0.48849,     0.48949,     0.49049,     0.49149,     0.49249,     0.49349,     0.49449,      0.4955,      0.4965,      0.4975,      0.4985,      0.4995,      0.5005,      0.5015,      0.5025,      0.5035,\n",
       "            0.5045,     0.50551,     0.50651,     0.50751,     0.50851,     0.50951,     0.51051,     0.51151,     0.51251,     0.51351,     0.51451,     0.51552,     0.51652,     0.51752,     0.51852,     0.51952,     0.52052,     0.52152,     0.52252,     0.52352,     0.52452,     0.52553,     0.52653,     0.52753,\n",
       "           0.52853,     0.52953,     0.53053,     0.53153,     0.53253,     0.53353,     0.53453,     0.53554,     0.53654,     0.53754,     0.53854,     0.53954,     0.54054,     0.54154,     0.54254,     0.54354,     0.54454,     0.54555,     0.54655,     0.54755,     0.54855,     0.54955,     0.55055,     0.55155,\n",
       "           0.55255,     0.55355,     0.55455,     0.55556,     0.55656,     0.55756,     0.55856,     0.55956,     0.56056,     0.56156,     0.56256,     0.56356,     0.56456,     0.56557,     0.56657,     0.56757,     0.56857,     0.56957,     0.57057,     0.57157,     0.57257,     0.57357,     0.57457,     0.57558,\n",
       "           0.57658,     0.57758,     0.57858,     0.57958,     0.58058,     0.58158,     0.58258,     0.58358,     0.58458,     0.58559,     0.58659,     0.58759,     0.58859,     0.58959,     0.59059,     0.59159,     0.59259,     0.59359,     0.59459,      0.5956,      0.5966,      0.5976,      0.5986,      0.5996,\n",
       "            0.6006,      0.6016,      0.6026,      0.6036,      0.6046,     0.60561,     0.60661,     0.60761,     0.60861,     0.60961,     0.61061,     0.61161,     0.61261,     0.61361,     0.61461,     0.61562,     0.61662,     0.61762,     0.61862,     0.61962,     0.62062,     0.62162,     0.62262,     0.62362,\n",
       "           0.62462,     0.62563,     0.62663,     0.62763,     0.62863,     0.62963,     0.63063,     0.63163,     0.63263,     0.63363,     0.63463,     0.63564,     0.63664,     0.63764,     0.63864,     0.63964,     0.64064,     0.64164,     0.64264,     0.64364,     0.64464,     0.64565,     0.64665,     0.64765,\n",
       "           0.64865,     0.64965,     0.65065,     0.65165,     0.65265,     0.65365,     0.65465,     0.65566,     0.65666,     0.65766,     0.65866,     0.65966,     0.66066,     0.66166,     0.66266,     0.66366,     0.66466,     0.66567,     0.66667,     0.66767,     0.66867,     0.66967,     0.67067,     0.67167,\n",
       "           0.67267,     0.67367,     0.67467,     0.67568,     0.67668,     0.67768,     0.67868,     0.67968,     0.68068,     0.68168,     0.68268,     0.68368,     0.68468,     0.68569,     0.68669,     0.68769,     0.68869,     0.68969,     0.69069,     0.69169,     0.69269,     0.69369,     0.69469,      0.6957,\n",
       "            0.6967,      0.6977,      0.6987,      0.6997,      0.7007,      0.7017,      0.7027,      0.7037,      0.7047,     0.70571,     0.70671,     0.70771,     0.70871,     0.70971,     0.71071,     0.71171,     0.71271,     0.71371,     0.71471,     0.71572,     0.71672,     0.71772,     0.71872,     0.71972,\n",
       "           0.72072,     0.72172,     0.72272,     0.72372,     0.72472,     0.72573,     0.72673,     0.72773,     0.72873,     0.72973,     0.73073,     0.73173,     0.73273,     0.73373,     0.73473,     0.73574,     0.73674,     0.73774,     0.73874,     0.73974,     0.74074,     0.74174,     0.74274,     0.74374,\n",
       "           0.74474,     0.74575,     0.74675,     0.74775,     0.74875,     0.74975,     0.75075,     0.75175,     0.75275,     0.75375,     0.75475,     0.75576,     0.75676,     0.75776,     0.75876,     0.75976,     0.76076,     0.76176,     0.76276,     0.76376,     0.76476,     0.76577,     0.76677,     0.76777,\n",
       "           0.76877,     0.76977,     0.77077,     0.77177,     0.77277,     0.77377,     0.77477,     0.77578,     0.77678,     0.77778,     0.77878,     0.77978,     0.78078,     0.78178,     0.78278,     0.78378,     0.78478,     0.78579,     0.78679,     0.78779,     0.78879,     0.78979,     0.79079,     0.79179,\n",
       "           0.79279,     0.79379,     0.79479,      0.7958,      0.7968,      0.7978,      0.7988,      0.7998,      0.8008,      0.8018,      0.8028,      0.8038,      0.8048,     0.80581,     0.80681,     0.80781,     0.80881,     0.80981,     0.81081,     0.81181,     0.81281,     0.81381,     0.81481,     0.81582,\n",
       "           0.81682,     0.81782,     0.81882,     0.81982,     0.82082,     0.82182,     0.82282,     0.82382,     0.82482,     0.82583,     0.82683,     0.82783,     0.82883,     0.82983,     0.83083,     0.83183,     0.83283,     0.83383,     0.83483,     0.83584,     0.83684,     0.83784,     0.83884,     0.83984,\n",
       "           0.84084,     0.84184,     0.84284,     0.84384,     0.84484,     0.84585,     0.84685,     0.84785,     0.84885,     0.84985,     0.85085,     0.85185,     0.85285,     0.85385,     0.85485,     0.85586,     0.85686,     0.85786,     0.85886,     0.85986,     0.86086,     0.86186,     0.86286,     0.86386,\n",
       "           0.86486,     0.86587,     0.86687,     0.86787,     0.86887,     0.86987,     0.87087,     0.87187,     0.87287,     0.87387,     0.87487,     0.87588,     0.87688,     0.87788,     0.87888,     0.87988,     0.88088,     0.88188,     0.88288,     0.88388,     0.88488,     0.88589,     0.88689,     0.88789,\n",
       "           0.88889,     0.88989,     0.89089,     0.89189,     0.89289,     0.89389,     0.89489,      0.8959,      0.8969,      0.8979,      0.8989,      0.8999,      0.9009,      0.9019,      0.9029,      0.9039,      0.9049,     0.90591,     0.90691,     0.90791,     0.90891,     0.90991,     0.91091,     0.91191,\n",
       "           0.91291,     0.91391,     0.91491,     0.91592,     0.91692,     0.91792,     0.91892,     0.91992,     0.92092,     0.92192,     0.92292,     0.92392,     0.92492,     0.92593,     0.92693,     0.92793,     0.92893,     0.92993,     0.93093,     0.93193,     0.93293,     0.93393,     0.93493,     0.93594,\n",
       "           0.93694,     0.93794,     0.93894,     0.93994,     0.94094,     0.94194,     0.94294,     0.94394,     0.94494,     0.94595,     0.94695,     0.94795,     0.94895,     0.94995,     0.95095,     0.95195,     0.95295,     0.95395,     0.95495,     0.95596,     0.95696,     0.95796,     0.95896,     0.95996,\n",
       "           0.96096,     0.96196,     0.96296,     0.96396,     0.96496,     0.96597,     0.96697,     0.96797,     0.96897,     0.96997,     0.97097,     0.97197,     0.97297,     0.97397,     0.97497,     0.97598,     0.97698,     0.97798,     0.97898,     0.97998,     0.98098,     0.98198,     0.98298,     0.98398,\n",
       "           0.98498,     0.98599,     0.98699,     0.98799,     0.98899,     0.98999,     0.99099,     0.99199,     0.99299,     0.99399,     0.99499,       0.996,       0.997,       0.998,       0.999,           1]), array([[          1,           1,           1,           1,           1,           1,           1,           1,           1,           1,           1,           1,           1,           1,           1,           1,           1,           1,           1,           1,           1,           1,           1,\n",
       "                  1,           1,           1,           1,           1,           1,           1,           1,           1,           1,           1,           1,           1,           1,           1,           1,           1,           1,           1,           1,           1,           1,           1,\n",
       "                  1,           1,           1,           1,           1,     0.99485,     0.99187,     0.99187,     0.99187,     0.99187,     0.99187,     0.99187,     0.99187,     0.99187,     0.99187,     0.99187,     0.99187,     0.99187,     0.99187,     0.99187,     0.98864,     0.98864,     0.98864,\n",
       "            0.98864,     0.98864,      0.9883,      0.9883,      0.9883,      0.9883,      0.9883,      0.9883,      0.9883,      0.9883,      0.9883,      0.9883,      0.9883,      0.9883,      0.9883,      0.9883,      0.9883,      0.9883,      0.9883,      0.9883,      0.9883,      0.9883,     0.98607,\n",
       "            0.98607,     0.98607,     0.98607,     0.98607,     0.98223,     0.98223,     0.98223,     0.98223,     0.98223,     0.98223,     0.98223,     0.98223,     0.98068,     0.98068,     0.98068,     0.98068,     0.98068,     0.98068,     0.97852,     0.97647,     0.97577,     0.97577,     0.97577,\n",
       "            0.97577,     0.97577,     0.97577,     0.97577,      0.9757,      0.9757,      0.9757,      0.9757,      0.9757,      0.9757,      0.9757,      0.9757,      0.9757,      0.9757,      0.9757,      0.9757,      0.9757,      0.9757,      0.9757,      0.9757,      0.9757,      0.9757,      0.9757,\n",
       "             0.9757,      0.9757,      0.9757,     0.97336,     0.97336,     0.97336,     0.97336,     0.97336,     0.97336,     0.97336,     0.97018,     0.96918,     0.96918,     0.96918,     0.96791,     0.96791,      0.9665,     0.96333,     0.96192,     0.96091,     0.96091,     0.95961,     0.95833,\n",
       "            0.95694,     0.95625,     0.95625,     0.95625,     0.95497,     0.95406,     0.95406,     0.94721,     0.94502,     0.94502,     0.94477,     0.94477,     0.94477,     0.94477,     0.94382,     0.94382,     0.94382,     0.94382,     0.94382,     0.94382,     0.94337,     0.94337,     0.94337,\n",
       "            0.94005,     0.94005,      0.9385,      0.9385,      0.9385,     0.93684,     0.93684,     0.93684,     0.93595,      0.9359,      0.9359,      0.9359,      0.9359,     0.93401,     0.93199,     0.93108,     0.93069,     0.93069,     0.92972,     0.92901,     0.92668,     0.92668,     0.92668,\n",
       "            0.92668,     0.92628,     0.92628,     0.92479,     0.92479,      0.9229,     0.92139,     0.92139,     0.92078,      0.9179,     0.91657,     0.91657,     0.91582,      0.9102,     0.90849,     0.90333,     0.90333,     0.90333,     0.90333,     0.90247,     0.89768,     0.89768,     0.89601,\n",
       "            0.89097,     0.88946,     0.88434,     0.88211,     0.87487,     0.87376,     0.87376,     0.86974,     0.86974,     0.86829,     0.86738,     0.86513,     0.85905,     0.85391,     0.85192,     0.84708,     0.84573,     0.84573,     0.84153,     0.83982,     0.83813,     0.83557,     0.83245,\n",
       "            0.82719,      0.8218,      0.8218,     0.81818,     0.81463,     0.81319,     0.81176,     0.81104,        0.81,     0.80677,     0.80328,     0.79741,     0.79661,     0.78839,     0.78408,     0.77605,      0.7735,     0.77147,     0.76649,     0.76453,     0.75952,     0.75686,     0.75441,\n",
       "            0.75367,     0.75346,     0.75236,      0.7448,     0.73972,     0.73888,     0.73754,      0.7284,     0.72485,     0.72283,     0.72154,     0.72132,     0.71581,     0.71514,     0.71222,     0.71222,     0.70955,     0.70955,     0.70893,     0.70858,     0.70408,     0.70375,     0.70032,\n",
       "            0.69931,     0.69875,     0.69757,     0.69573,     0.69477,     0.69424,     0.69348,     0.69296,     0.69184,     0.68918,     0.68918,     0.68791,     0.68702,     0.68192,     0.68026,     0.67944,     0.67882,     0.67527,     0.67446,     0.67195,     0.67005,     0.66704,      0.6663,\n",
       "            0.66372,      0.6619,     0.66101,     0.65944,     0.65944,     0.65928,     0.65208,     0.65042,     0.64976,     0.64694,     0.64528,     0.64134,     0.63697,      0.6342,       0.632,     0.63161,        0.63,     0.62948,      0.6291,     0.62902,     0.62672,     0.62512,     0.62488,\n",
       "            0.62373,     0.62349,     0.62253,     0.62099,     0.61728,     0.61615,     0.61408,     0.61052,     0.60964,     0.60672,     0.60494,     0.60191,     0.59937,     0.59732,     0.59555,     0.59451,     0.59356,     0.59149,     0.59057,     0.58752,     0.58588,     0.58473,     0.58469,\n",
       "            0.57897,     0.57628,     0.57585,     0.57202,      0.5692,     0.56688,     0.56621,      0.5652,     0.56441,     0.56313,     0.56208,     0.56165,     0.56025,     0.55954,     0.55543,     0.55504,     0.55255,     0.55086,     0.54895,     0.54871,     0.54673,     0.54597,     0.54563,\n",
       "            0.54447,     0.54356,     0.54343,      0.5419,     0.54041,     0.53891,     0.53461,     0.53461,     0.53219,      0.5321,     0.52979,     0.52508,     0.52408,     0.52293,     0.52138,     0.52138,     0.51969,     0.51926,     0.51925,     0.51623,     0.51359,     0.51338,      0.5113,\n",
       "            0.50956,     0.50956,     0.50604,     0.50536,     0.50536,     0.50436,     0.50435,     0.50353,     0.50272,     0.50175,     0.50111,     0.50032,     0.49843,     0.49595,      0.4958,      0.4952,     0.49233,     0.49188,     0.48951,     0.48542,     0.48355,     0.48173,     0.48033,\n",
       "            0.47953,     0.47859,     0.47626,     0.47521,     0.47417,     0.47254,     0.47254,      0.4722,     0.46866,     0.46828,     0.46704,     0.46583,     0.46364,     0.46364,     0.46116,     0.46049,      0.4603,     0.45926,     0.45925,     0.45896,     0.45876,     0.45823,     0.45588,\n",
       "            0.45525,     0.45447,     0.45135,     0.45074,      0.4505,     0.44951,     0.44951,     0.44831,     0.44589,      0.4422,     0.44054,     0.44054,     0.43972,      0.4394,     0.43637,     0.43636,     0.43552,     0.43331,     0.43218,     0.42998,     0.42891,     0.42687,     0.42606,\n",
       "            0.42419,     0.42394,     0.42309,     0.42201,     0.42166,     0.41832,     0.41722,     0.41572,     0.41427,     0.41396,     0.41351,     0.41228,     0.41182,     0.41182,     0.41156,     0.40984,     0.40902,     0.40899,     0.40858,     0.40696,     0.40449,     0.40409,     0.40158,\n",
       "            0.40064,     0.39975,     0.39911,     0.39682,     0.39534,     0.39531,     0.39328,     0.39072,      0.3899,     0.38499,     0.38241,     0.38048,     0.38015,     0.37469,      0.3705,     0.36901,     0.36638,     0.36455,      0.3635,      0.3613,     0.35938,     0.35933,     0.35743,\n",
       "            0.35451,     0.35256,     0.35133,     0.34987,     0.34874,     0.34483,     0.33964,     0.33541,     0.33462,      0.3335,     0.33075,     0.32967,     0.32732,     0.32644,     0.32498,     0.31976,     0.31739,     0.31579,     0.31281,     0.31042,     0.30855,     0.30664,     0.30641,\n",
       "             0.3047,      0.3006,     0.29741,     0.29236,     0.28656,     0.28558,     0.28024,     0.27543,     0.27322,     0.27237,      0.2701,     0.26961,     0.26869,     0.26589,     0.26546,     0.26499,     0.26253,     0.26209,     0.25921,     0.25857,     0.25796,     0.25726,     0.25452,\n",
       "            0.25203,     0.25108,      0.2507,     0.24936,     0.24807,     0.24776,     0.24524,     0.24392,     0.24112,     0.23918,     0.23806,     0.23483,     0.23317,     0.23011,     0.22857,     0.22703,     0.22482,     0.22302,     0.22004,     0.21912,     0.21876,     0.21771,     0.21624,\n",
       "            0.21605,     0.21319,     0.21081,      0.2096,     0.20883,     0.20706,     0.20635,     0.20583,     0.20346,      0.2026,     0.20025,     0.19834,     0.19722,     0.19495,     0.19482,     0.19073,     0.18764,       0.182,     0.18076,     0.17878,     0.17508,     0.17304,     0.17161,\n",
       "            0.16793,     0.16406,     0.16199,     0.15935,     0.15879,     0.15487,     0.15318,     0.14939,     0.14444,     0.14321,     0.14056,     0.13877,     0.13405,     0.13265,     0.12971,     0.12173,     0.11778,     0.11689,     0.10799,     0.10577,     0.10149,     0.10033,    0.095827,\n",
       "           0.088462,    0.086437,    0.082001,    0.078267,    0.076312,     0.07283,    0.068634,    0.066387,    0.059456,    0.054485,    0.052002,    0.049318,    0.048725,    0.045077,    0.039032,    0.037804,    0.035909,    0.033878,    0.031552,    0.031458,    0.031365,    0.031271,    0.031177,\n",
       "           0.031084,     0.03099,    0.030897,    0.030803,    0.030709,    0.030616,    0.030522,    0.030428,    0.030335,    0.030241,    0.030148,    0.030054,     0.02996,    0.029867,    0.029773,    0.029679,    0.029586,    0.029492,    0.029399,    0.029305,    0.029211,    0.029118,    0.029024,\n",
       "            0.02893,    0.028837,    0.028743,     0.02865,    0.028556,    0.028462,    0.028369,    0.028275,    0.028181,    0.028088,    0.027994,    0.027901,    0.027807,    0.027713,     0.02762,    0.027526,    0.027432,    0.027339,    0.027245,    0.027152,    0.027058,    0.026964,    0.026871,\n",
       "           0.026777,    0.026683,     0.02659,    0.026496,    0.026403,    0.026309,    0.026215,    0.026122,    0.026028,    0.025934,    0.025841,    0.025747,    0.025654,     0.02556,    0.025466,    0.025373,    0.025279,    0.025185,    0.025092,    0.024998,    0.024905,    0.024811,    0.024717,\n",
       "           0.024624,     0.02453,    0.024436,    0.024343,    0.024249,    0.024156,    0.024062,    0.023968,    0.023875,    0.023781,    0.023687,    0.023594,      0.0235,    0.023406,    0.023313,    0.023219,    0.023126,    0.023032,    0.022938,    0.022845,    0.022751,    0.022657,    0.022564,\n",
       "            0.02247,    0.022377,    0.022283,    0.022189,    0.022096,    0.022002,    0.021908,    0.021815,    0.021721,    0.021628,    0.021534,     0.02144,    0.021347,    0.021253,    0.021159,    0.021066,    0.020972,    0.020879,    0.020785,    0.020691,    0.020598,    0.020504,     0.02041,\n",
       "           0.020317,    0.020223,     0.02013,    0.020036,    0.019942,    0.019849,    0.019755,    0.019661,    0.019568,    0.019474,    0.019381,    0.019287,    0.019193,      0.0191,    0.019006,    0.018912,    0.018819,    0.018725,    0.018632,    0.018538,    0.018444,    0.018351,    0.018257,\n",
       "           0.018163,     0.01807,    0.017976,    0.017883,    0.017789,    0.017695,    0.017602,    0.017508,    0.017414,    0.017321,    0.017227,    0.017134,     0.01704,    0.016946,    0.016853,    0.016759,    0.016665,    0.016572,    0.016478,    0.016385,    0.016291,    0.016197,    0.016104,\n",
       "            0.01601,    0.015916,    0.015823,    0.015729,    0.015636,    0.015542,    0.015448,    0.015355,    0.015261,    0.015167,    0.015074,     0.01498,    0.014887,    0.014793,    0.014699,    0.014606,    0.014512,    0.014418,    0.014325,    0.014231,    0.014138,    0.014044,     0.01395,\n",
       "           0.013857,    0.013763,    0.013669,    0.013576,    0.013482,    0.013389,    0.013295,    0.013201,    0.013108,    0.013014,     0.01292,    0.012827,    0.012733,     0.01264,    0.012546,    0.012452,    0.012359,    0.012265,    0.012171,    0.012078,    0.011984,     0.01189,    0.011797,\n",
       "           0.011703,     0.01161,    0.011516,    0.011422,    0.011329,    0.011235,    0.011141,    0.011048,    0.010954,    0.010861,    0.010767,    0.010673,     0.01058,    0.010486,    0.010392,    0.010299,    0.010205,    0.010112,    0.010018,   0.0099244,   0.0098307,   0.0097371,   0.0096435,\n",
       "          0.0095498,   0.0094562,   0.0093626,    0.009269,   0.0091753,   0.0090817,   0.0089881,   0.0088945,   0.0088008,   0.0087072,   0.0086136,     0.00852,   0.0084263,   0.0083327,   0.0082391,   0.0081455,   0.0080518,   0.0079582,   0.0078646,    0.007771,   0.0076773,   0.0075837,   0.0074901,\n",
       "          0.0073965,   0.0073028,   0.0072092,   0.0071156,   0.0070219,   0.0069283,   0.0068347,   0.0067411,   0.0066474,   0.0065538,   0.0064602,   0.0063666,   0.0062729,   0.0061793,   0.0060857,   0.0059921,   0.0058984,   0.0058048,   0.0057112,   0.0056176,   0.0055239,   0.0054303,   0.0053367,\n",
       "          0.0052431,   0.0051494,   0.0050558,   0.0049622,   0.0048686,   0.0047749,   0.0046813,   0.0045877,    0.004494,   0.0044004,   0.0043068,   0.0042132,   0.0041195,   0.0040259,   0.0039323,   0.0038387,    0.003745,   0.0036514,   0.0035578,   0.0034642,   0.0033705,   0.0032769,   0.0031833,\n",
       "          0.0030897,    0.002996,   0.0029024,   0.0028088,   0.0027152,   0.0026215,   0.0025279,   0.0024343,   0.0023406,    0.002247,   0.0021534,   0.0020598,   0.0019661,   0.0018725,   0.0017789,   0.0016853,   0.0015916,    0.001498,   0.0014044,   0.0013108,   0.0012171,   0.0011235,   0.0010299,\n",
       "         0.00093626,  0.00084263,  0.00074901,  0.00065538,  0.00056176,  0.00046813,   0.0003745,  0.00028088,  0.00018725,  9.3626e-05,           0]]), 'Recall', 'Precision'], [array([          0,    0.001001,    0.002002,    0.003003,    0.004004,    0.005005,    0.006006,    0.007007,    0.008008,    0.009009,     0.01001,    0.011011,    0.012012,    0.013013,    0.014014,    0.015015,    0.016016,    0.017017,    0.018018,    0.019019,     0.02002,    0.021021,    0.022022,    0.023023,\n",
       "          0.024024,    0.025025,    0.026026,    0.027027,    0.028028,    0.029029,     0.03003,    0.031031,    0.032032,    0.033033,    0.034034,    0.035035,    0.036036,    0.037037,    0.038038,    0.039039,     0.04004,    0.041041,    0.042042,    0.043043,    0.044044,    0.045045,    0.046046,    0.047047,\n",
       "          0.048048,    0.049049,     0.05005,    0.051051,    0.052052,    0.053053,    0.054054,    0.055055,    0.056056,    0.057057,    0.058058,    0.059059,     0.06006,    0.061061,    0.062062,    0.063063,    0.064064,    0.065065,    0.066066,    0.067067,    0.068068,    0.069069,     0.07007,    0.071071,\n",
       "          0.072072,    0.073073,    0.074074,    0.075075,    0.076076,    0.077077,    0.078078,    0.079079,     0.08008,    0.081081,    0.082082,    0.083083,    0.084084,    0.085085,    0.086086,    0.087087,    0.088088,    0.089089,     0.09009,    0.091091,    0.092092,    0.093093,    0.094094,    0.095095,\n",
       "          0.096096,    0.097097,    0.098098,    0.099099,      0.1001,      0.1011,      0.1021,      0.1031,      0.1041,     0.10511,     0.10611,     0.10711,     0.10811,     0.10911,     0.11011,     0.11111,     0.11211,     0.11311,     0.11411,     0.11512,     0.11612,     0.11712,     0.11812,     0.11912,\n",
       "           0.12012,     0.12112,     0.12212,     0.12312,     0.12412,     0.12513,     0.12613,     0.12713,     0.12813,     0.12913,     0.13013,     0.13113,     0.13213,     0.13313,     0.13413,     0.13514,     0.13614,     0.13714,     0.13814,     0.13914,     0.14014,     0.14114,     0.14214,     0.14314,\n",
       "           0.14414,     0.14515,     0.14615,     0.14715,     0.14815,     0.14915,     0.15015,     0.15115,     0.15215,     0.15315,     0.15415,     0.15516,     0.15616,     0.15716,     0.15816,     0.15916,     0.16016,     0.16116,     0.16216,     0.16316,     0.16416,     0.16517,     0.16617,     0.16717,\n",
       "           0.16817,     0.16917,     0.17017,     0.17117,     0.17217,     0.17317,     0.17417,     0.17518,     0.17618,     0.17718,     0.17818,     0.17918,     0.18018,     0.18118,     0.18218,     0.18318,     0.18418,     0.18519,     0.18619,     0.18719,     0.18819,     0.18919,     0.19019,     0.19119,\n",
       "           0.19219,     0.19319,     0.19419,      0.1952,      0.1962,      0.1972,      0.1982,      0.1992,      0.2002,      0.2012,      0.2022,      0.2032,      0.2042,     0.20521,     0.20621,     0.20721,     0.20821,     0.20921,     0.21021,     0.21121,     0.21221,     0.21321,     0.21421,     0.21522,\n",
       "           0.21622,     0.21722,     0.21822,     0.21922,     0.22022,     0.22122,     0.22222,     0.22322,     0.22422,     0.22523,     0.22623,     0.22723,     0.22823,     0.22923,     0.23023,     0.23123,     0.23223,     0.23323,     0.23423,     0.23524,     0.23624,     0.23724,     0.23824,     0.23924,\n",
       "           0.24024,     0.24124,     0.24224,     0.24324,     0.24424,     0.24525,     0.24625,     0.24725,     0.24825,     0.24925,     0.25025,     0.25125,     0.25225,     0.25325,     0.25425,     0.25526,     0.25626,     0.25726,     0.25826,     0.25926,     0.26026,     0.26126,     0.26226,     0.26326,\n",
       "           0.26426,     0.26527,     0.26627,     0.26727,     0.26827,     0.26927,     0.27027,     0.27127,     0.27227,     0.27327,     0.27427,     0.27528,     0.27628,     0.27728,     0.27828,     0.27928,     0.28028,     0.28128,     0.28228,     0.28328,     0.28428,     0.28529,     0.28629,     0.28729,\n",
       "           0.28829,     0.28929,     0.29029,     0.29129,     0.29229,     0.29329,     0.29429,      0.2953,      0.2963,      0.2973,      0.2983,      0.2993,      0.3003,      0.3013,      0.3023,      0.3033,      0.3043,     0.30531,     0.30631,     0.30731,     0.30831,     0.30931,     0.31031,     0.31131,\n",
       "           0.31231,     0.31331,     0.31431,     0.31532,     0.31632,     0.31732,     0.31832,     0.31932,     0.32032,     0.32132,     0.32232,     0.32332,     0.32432,     0.32533,     0.32633,     0.32733,     0.32833,     0.32933,     0.33033,     0.33133,     0.33233,     0.33333,     0.33433,     0.33534,\n",
       "           0.33634,     0.33734,     0.33834,     0.33934,     0.34034,     0.34134,     0.34234,     0.34334,     0.34434,     0.34535,     0.34635,     0.34735,     0.34835,     0.34935,     0.35035,     0.35135,     0.35235,     0.35335,     0.35435,     0.35536,     0.35636,     0.35736,     0.35836,     0.35936,\n",
       "           0.36036,     0.36136,     0.36236,     0.36336,     0.36436,     0.36537,     0.36637,     0.36737,     0.36837,     0.36937,     0.37037,     0.37137,     0.37237,     0.37337,     0.37437,     0.37538,     0.37638,     0.37738,     0.37838,     0.37938,     0.38038,     0.38138,     0.38238,     0.38338,\n",
       "           0.38438,     0.38539,     0.38639,     0.38739,     0.38839,     0.38939,     0.39039,     0.39139,     0.39239,     0.39339,     0.39439,      0.3954,      0.3964,      0.3974,      0.3984,      0.3994,      0.4004,      0.4014,      0.4024,      0.4034,      0.4044,     0.40541,     0.40641,     0.40741,\n",
       "           0.40841,     0.40941,     0.41041,     0.41141,     0.41241,     0.41341,     0.41441,     0.41542,     0.41642,     0.41742,     0.41842,     0.41942,     0.42042,     0.42142,     0.42242,     0.42342,     0.42442,     0.42543,     0.42643,     0.42743,     0.42843,     0.42943,     0.43043,     0.43143,\n",
       "           0.43243,     0.43343,     0.43443,     0.43544,     0.43644,     0.43744,     0.43844,     0.43944,     0.44044,     0.44144,     0.44244,     0.44344,     0.44444,     0.44545,     0.44645,     0.44745,     0.44845,     0.44945,     0.45045,     0.45145,     0.45245,     0.45345,     0.45445,     0.45546,\n",
       "           0.45646,     0.45746,     0.45846,     0.45946,     0.46046,     0.46146,     0.46246,     0.46346,     0.46446,     0.46547,     0.46647,     0.46747,     0.46847,     0.46947,     0.47047,     0.47147,     0.47247,     0.47347,     0.47447,     0.47548,     0.47648,     0.47748,     0.47848,     0.47948,\n",
       "           0.48048,     0.48148,     0.48248,     0.48348,     0.48448,     0.48549,     0.48649,     0.48749,     0.48849,     0.48949,     0.49049,     0.49149,     0.49249,     0.49349,     0.49449,      0.4955,      0.4965,      0.4975,      0.4985,      0.4995,      0.5005,      0.5015,      0.5025,      0.5035,\n",
       "            0.5045,     0.50551,     0.50651,     0.50751,     0.50851,     0.50951,     0.51051,     0.51151,     0.51251,     0.51351,     0.51451,     0.51552,     0.51652,     0.51752,     0.51852,     0.51952,     0.52052,     0.52152,     0.52252,     0.52352,     0.52452,     0.52553,     0.52653,     0.52753,\n",
       "           0.52853,     0.52953,     0.53053,     0.53153,     0.53253,     0.53353,     0.53453,     0.53554,     0.53654,     0.53754,     0.53854,     0.53954,     0.54054,     0.54154,     0.54254,     0.54354,     0.54454,     0.54555,     0.54655,     0.54755,     0.54855,     0.54955,     0.55055,     0.55155,\n",
       "           0.55255,     0.55355,     0.55455,     0.55556,     0.55656,     0.55756,     0.55856,     0.55956,     0.56056,     0.56156,     0.56256,     0.56356,     0.56456,     0.56557,     0.56657,     0.56757,     0.56857,     0.56957,     0.57057,     0.57157,     0.57257,     0.57357,     0.57457,     0.57558,\n",
       "           0.57658,     0.57758,     0.57858,     0.57958,     0.58058,     0.58158,     0.58258,     0.58358,     0.58458,     0.58559,     0.58659,     0.58759,     0.58859,     0.58959,     0.59059,     0.59159,     0.59259,     0.59359,     0.59459,      0.5956,      0.5966,      0.5976,      0.5986,      0.5996,\n",
       "            0.6006,      0.6016,      0.6026,      0.6036,      0.6046,     0.60561,     0.60661,     0.60761,     0.60861,     0.60961,     0.61061,     0.61161,     0.61261,     0.61361,     0.61461,     0.61562,     0.61662,     0.61762,     0.61862,     0.61962,     0.62062,     0.62162,     0.62262,     0.62362,\n",
       "           0.62462,     0.62563,     0.62663,     0.62763,     0.62863,     0.62963,     0.63063,     0.63163,     0.63263,     0.63363,     0.63463,     0.63564,     0.63664,     0.63764,     0.63864,     0.63964,     0.64064,     0.64164,     0.64264,     0.64364,     0.64464,     0.64565,     0.64665,     0.64765,\n",
       "           0.64865,     0.64965,     0.65065,     0.65165,     0.65265,     0.65365,     0.65465,     0.65566,     0.65666,     0.65766,     0.65866,     0.65966,     0.66066,     0.66166,     0.66266,     0.66366,     0.66466,     0.66567,     0.66667,     0.66767,     0.66867,     0.66967,     0.67067,     0.67167,\n",
       "           0.67267,     0.67367,     0.67467,     0.67568,     0.67668,     0.67768,     0.67868,     0.67968,     0.68068,     0.68168,     0.68268,     0.68368,     0.68468,     0.68569,     0.68669,     0.68769,     0.68869,     0.68969,     0.69069,     0.69169,     0.69269,     0.69369,     0.69469,      0.6957,\n",
       "            0.6967,      0.6977,      0.6987,      0.6997,      0.7007,      0.7017,      0.7027,      0.7037,      0.7047,     0.70571,     0.70671,     0.70771,     0.70871,     0.70971,     0.71071,     0.71171,     0.71271,     0.71371,     0.71471,     0.71572,     0.71672,     0.71772,     0.71872,     0.71972,\n",
       "           0.72072,     0.72172,     0.72272,     0.72372,     0.72472,     0.72573,     0.72673,     0.72773,     0.72873,     0.72973,     0.73073,     0.73173,     0.73273,     0.73373,     0.73473,     0.73574,     0.73674,     0.73774,     0.73874,     0.73974,     0.74074,     0.74174,     0.74274,     0.74374,\n",
       "           0.74474,     0.74575,     0.74675,     0.74775,     0.74875,     0.74975,     0.75075,     0.75175,     0.75275,     0.75375,     0.75475,     0.75576,     0.75676,     0.75776,     0.75876,     0.75976,     0.76076,     0.76176,     0.76276,     0.76376,     0.76476,     0.76577,     0.76677,     0.76777,\n",
       "           0.76877,     0.76977,     0.77077,     0.77177,     0.77277,     0.77377,     0.77477,     0.77578,     0.77678,     0.77778,     0.77878,     0.77978,     0.78078,     0.78178,     0.78278,     0.78378,     0.78478,     0.78579,     0.78679,     0.78779,     0.78879,     0.78979,     0.79079,     0.79179,\n",
       "           0.79279,     0.79379,     0.79479,      0.7958,      0.7968,      0.7978,      0.7988,      0.7998,      0.8008,      0.8018,      0.8028,      0.8038,      0.8048,     0.80581,     0.80681,     0.80781,     0.80881,     0.80981,     0.81081,     0.81181,     0.81281,     0.81381,     0.81481,     0.81582,\n",
       "           0.81682,     0.81782,     0.81882,     0.81982,     0.82082,     0.82182,     0.82282,     0.82382,     0.82482,     0.82583,     0.82683,     0.82783,     0.82883,     0.82983,     0.83083,     0.83183,     0.83283,     0.83383,     0.83483,     0.83584,     0.83684,     0.83784,     0.83884,     0.83984,\n",
       "           0.84084,     0.84184,     0.84284,     0.84384,     0.84484,     0.84585,     0.84685,     0.84785,     0.84885,     0.84985,     0.85085,     0.85185,     0.85285,     0.85385,     0.85485,     0.85586,     0.85686,     0.85786,     0.85886,     0.85986,     0.86086,     0.86186,     0.86286,     0.86386,\n",
       "           0.86486,     0.86587,     0.86687,     0.86787,     0.86887,     0.86987,     0.87087,     0.87187,     0.87287,     0.87387,     0.87487,     0.87588,     0.87688,     0.87788,     0.87888,     0.87988,     0.88088,     0.88188,     0.88288,     0.88388,     0.88488,     0.88589,     0.88689,     0.88789,\n",
       "           0.88889,     0.88989,     0.89089,     0.89189,     0.89289,     0.89389,     0.89489,      0.8959,      0.8969,      0.8979,      0.8989,      0.8999,      0.9009,      0.9019,      0.9029,      0.9039,      0.9049,     0.90591,     0.90691,     0.90791,     0.90891,     0.90991,     0.91091,     0.91191,\n",
       "           0.91291,     0.91391,     0.91491,     0.91592,     0.91692,     0.91792,     0.91892,     0.91992,     0.92092,     0.92192,     0.92292,     0.92392,     0.92492,     0.92593,     0.92693,     0.92793,     0.92893,     0.92993,     0.93093,     0.93193,     0.93293,     0.93393,     0.93493,     0.93594,\n",
       "           0.93694,     0.93794,     0.93894,     0.93994,     0.94094,     0.94194,     0.94294,     0.94394,     0.94494,     0.94595,     0.94695,     0.94795,     0.94895,     0.94995,     0.95095,     0.95195,     0.95295,     0.95395,     0.95495,     0.95596,     0.95696,     0.95796,     0.95896,     0.95996,\n",
       "           0.96096,     0.96196,     0.96296,     0.96396,     0.96496,     0.96597,     0.96697,     0.96797,     0.96897,     0.96997,     0.97097,     0.97197,     0.97297,     0.97397,     0.97497,     0.97598,     0.97698,     0.97798,     0.97898,     0.97998,     0.98098,     0.98198,     0.98298,     0.98398,\n",
       "           0.98498,     0.98599,     0.98699,     0.98799,     0.98899,     0.98999,     0.99099,     0.99199,     0.99299,     0.99399,     0.99499,       0.996,       0.997,       0.998,       0.999,           1]), array([[    0.06033,     0.06033,    0.087729,     0.10781,     0.12405,     0.13782,     0.14963,     0.15946,     0.16929,     0.17756,     0.18559,      0.1928,     0.19944,     0.20546,     0.21091,     0.21608,     0.22069,     0.22574,     0.22971,     0.23365,     0.23797,     0.24175,      0.2455,\n",
       "            0.24902,     0.25268,     0.25523,     0.25804,      0.2614,     0.26396,     0.26643,     0.26938,     0.27203,     0.27497,     0.27755,     0.27965,     0.28138,     0.28368,     0.28639,     0.28893,     0.29092,     0.29372,     0.29556,     0.29719,     0.29936,     0.30121,     0.30293,\n",
       "            0.30481,     0.30696,     0.30828,     0.31003,     0.31143,     0.31288,     0.31492,     0.31673,     0.31826,     0.31983,     0.32108,     0.32287,     0.32436,     0.32658,     0.32809,     0.33034,     0.33214,     0.33436,     0.33621,     0.33821,     0.33979,     0.34149,     0.34389,\n",
       "            0.34491,     0.34696,     0.34847,      0.3496,      0.3507,     0.35282,      0.3551,     0.35589,     0.35726,     0.35945,     0.36107,     0.36295,     0.36467,     0.36616,     0.36791,     0.36964,     0.37183,     0.37377,     0.37618,     0.37786,     0.37991,     0.38288,     0.38494,\n",
       "            0.38714,     0.38906,      0.3918,      0.3938,      0.3956,      0.3981,     0.40059,     0.40218,     0.40471,      0.4073,     0.40881,     0.41122,     0.41241,     0.41419,     0.41749,     0.41944,      0.4222,     0.42357,     0.42644,     0.42706,     0.42909,     0.43028,     0.43254,\n",
       "             0.4337,     0.43682,     0.43856,      0.4404,      0.4428,     0.44499,     0.44582,     0.44708,     0.44859,     0.44958,     0.45055,     0.44962,     0.44952,      0.4511,      0.4519,     0.45224,     0.45336,     0.45437,     0.45507,     0.45544,     0.45538,     0.45772,     0.45723,\n",
       "            0.45803,     0.45807,     0.45655,     0.45698,     0.45706,     0.45666,     0.45774,     0.45724,     0.45779,     0.45713,     0.45777,     0.45898,     0.45963,     0.45944,      0.4597,     0.45914,     0.45805,     0.45706,     0.45695,     0.45693,     0.45706,     0.45784,     0.45664,\n",
       "            0.45586,     0.45533,     0.45617,      0.4564,     0.45577,      0.4567,     0.45648,      0.4557,     0.45452,     0.45417,     0.45334,     0.45353,     0.45285,      0.4534,      0.4523,     0.45169,      0.4505,     0.45002,     0.45044,     0.45078,     0.45015,     0.45058,     0.45082,\n",
       "            0.44993,      0.4497,     0.44922,     0.44896,     0.44839,     0.44768,     0.44806,     0.44736,     0.44763,     0.44715,     0.44693,     0.44674,     0.44617,     0.44617,     0.44561,     0.44377,     0.44254,     0.44133,     0.44026,      0.4394,     0.43793,     0.43816,     0.43851,\n",
       "            0.43869,     0.43844,     0.43831,     0.43685,      0.4369,     0.43783,     0.43776,     0.43514,     0.43485,     0.43441,     0.43393,     0.43306,     0.43267,     0.43209,     0.43192,     0.43212,     0.43122,      0.4303,     0.43072,     0.42972,     0.42916,       0.428,     0.42822,\n",
       "            0.42867,     0.42857,     0.42869,     0.42764,     0.42737,     0.42588,      0.4253,     0.42447,     0.42327,     0.42295,     0.42152,     0.42072,     0.41999,     0.42026,     0.41925,     0.41916,     0.41831,     0.41811,     0.41789,     0.41746,     0.41703,     0.41655,     0.41658,\n",
       "            0.41697,     0.41633,      0.4154,     0.41388,       0.414,      0.4135,     0.41217,     0.41244,     0.41209,     0.41131,     0.41075,     0.41088,     0.41041,     0.40976,     0.40978,     0.40881,     0.40829,      0.4081,      0.4079,     0.40786,     0.40749,     0.40751,     0.40785,\n",
       "            0.40812,     0.40803,     0.40778,     0.40735,     0.40719,     0.40685,      0.4064,     0.40605,     0.40635,     0.40628,     0.40611,     0.40598,     0.40615,     0.40634,     0.40642,     0.40661,     0.40645,      0.4065,     0.40673,     0.40654,     0.40648,     0.40592,     0.40551,\n",
       "            0.40403,     0.40272,     0.40261,     0.40227,     0.40175,     0.40188,     0.40202,     0.40145,     0.40158,     0.40177,     0.40181,     0.40166,     0.40112,     0.40125,      0.4006,     0.40011,     0.39987,     0.39995,     0.40015,     0.40031,     0.40026,     0.40003,     0.40012,\n",
       "             0.3996,     0.39895,     0.39885,     0.39858,     0.39867,     0.39861,     0.39822,      0.3984,     0.39864,     0.39879,     0.39828,      0.3982,     0.39795,     0.39813,     0.39794,     0.39768,     0.39785,     0.39762,     0.39778,     0.39796,     0.39805,     0.39742,     0.39722,\n",
       "            0.39703,     0.39679,     0.39683,     0.39686,     0.39682,      0.3966,     0.39668,     0.39644,      0.3967,     0.39664,     0.39635,     0.39605,     0.39575,     0.39531,     0.39512,     0.39463,     0.39333,     0.39337,     0.39334,     0.39296,     0.39288,     0.39296,     0.39236,\n",
       "            0.39241,     0.39223,     0.39145,      0.3915,     0.39071,      0.3908,     0.39094,     0.39097,     0.39099,      0.3907,     0.39044,     0.39018,     0.38993,     0.39003,     0.38953,     0.38922,      0.3886,     0.38841,     0.38806,     0.38794,     0.38798,     0.38806,     0.38786,\n",
       "            0.38799,     0.38805,     0.38774,     0.38757,     0.38767,     0.38781,     0.38784,     0.38787,     0.38782,      0.3877,     0.38757,     0.38711,     0.38707,     0.38709,     0.38712,     0.38682,     0.38636,     0.38629,     0.38633,     0.38636,     0.38613,     0.38609,     0.38574,\n",
       "            0.38564,     0.38571,     0.38575,     0.38553,     0.38519,     0.38485,     0.38487,     0.38491,     0.38439,     0.38371,     0.38352,     0.38331,     0.38335,     0.38351,     0.38334,     0.38266,     0.38248,     0.38226,     0.38192,     0.38124,      0.3811,     0.38112,     0.38114,\n",
       "            0.38116,     0.38067,     0.38033,     0.38006,     0.37971,     0.37937,     0.37937,     0.37953,     0.37977,     0.37959,     0.37928,       0.379,     0.37833,     0.37836,      0.3784,     0.37843,     0.37846,     0.37809,     0.37782,     0.37786,     0.37799,     0.37806,      0.3781,\n",
       "            0.37802,     0.37767,     0.37738,     0.37746,     0.37744,     0.37744,     0.37724,     0.37726,       0.377,     0.37643,     0.37621,     0.37604,     0.37572,     0.37545,      0.3751,     0.37498,      0.3748,     0.37448,     0.37452,     0.37427,     0.37357,     0.37322,     0.37255,\n",
       "            0.37234,     0.37217,     0.37202,     0.37206,     0.37176,     0.37191,     0.37156,     0.37121,     0.37051,     0.37036,      0.3703,     0.36966,     0.36949,      0.3694,     0.36944,     0.36938,     0.36921,     0.36925,     0.36931,     0.36955,     0.36963,     0.36959,     0.36947,\n",
       "            0.36935,     0.36908,       0.369,     0.36904,     0.36878,     0.36843,      0.3685,     0.36787,     0.36759,     0.36739,     0.36743,     0.36711,     0.36716,      0.3672,     0.36697,     0.36661,     0.36636,     0.36607,     0.36589,     0.36541,     0.36477,     0.36481,     0.36494,\n",
       "            0.36509,     0.36479,     0.36451,      0.3638,     0.36274,     0.36253,     0.36234,      0.3624,     0.36204,     0.36188,     0.36175,      0.3616,      0.3616,     0.36153,     0.36146,     0.36139,     0.36132,     0.36106,     0.36046,     0.36028,      0.3601,     0.35992,      0.3596,\n",
       "            0.35889,     0.35782,      0.3571,     0.35689,     0.35671,     0.35662,     0.35653,     0.35604,     0.35606,     0.35611,     0.35615,      0.3555,      0.3552,     0.35524,     0.35478,      0.3546,     0.35468,     0.35461,     0.35449,     0.35437,     0.35405,     0.35369,     0.35377,\n",
       "            0.35385,     0.35342,     0.35323,     0.35288,     0.35294,     0.35186,     0.35148,     0.35108,     0.35096,     0.35084,     0.35056,      0.3502,     0.34962,     0.34921,     0.34928,     0.34936,     0.34888,     0.34869,     0.34815,     0.34796,     0.34773,     0.34761,     0.34748,\n",
       "            0.34736,     0.34685,     0.34666,     0.34575,     0.34557,     0.34525,     0.34481,     0.34462,     0.34424,     0.34391,      0.3438,      0.3437,     0.34285,     0.34266,     0.34249,     0.34237,     0.34225,     0.34174,     0.34158,     0.34125,     0.34088,      0.3405,     0.33968,\n",
       "            0.33959,     0.33949,     0.33901,     0.33867,      0.3379,     0.33772,      0.3374,     0.33666,     0.33629,     0.33591,     0.33563,     0.33498,     0.33439,     0.33454,     0.33444,     0.33379,     0.33364,     0.33349,     0.33275,     0.33244,     0.33214,     0.33139,     0.33061,\n",
       "            0.33008,     0.32934,     0.32886,      0.3289,     0.32827,     0.32781,     0.32782,     0.32763,     0.32701,     0.32651,     0.32509,     0.32441,     0.32441,     0.32444,     0.32241,     0.32202,     0.32164,     0.32014,     0.31922,     0.31813,     0.31779,     0.31782,     0.31757,\n",
       "            0.31722,     0.31684,      0.3157,     0.31541,     0.31511,     0.31473,     0.31428,     0.31391,     0.31314,     0.31211,      0.3118,     0.31141,     0.31102,     0.31007,      0.3101,     0.31012,     0.30981,     0.30955,     0.30921,     0.30882,     0.30793,     0.30764,      0.3072,\n",
       "            0.30671,     0.30517,     0.30478,      0.3042,     0.30385,     0.30359,     0.30321,     0.30289,     0.30115,     0.29999,     0.29902,     0.29786,     0.29747,     0.29721,     0.29686,     0.29655,     0.29556,     0.29477,     0.29425,     0.29318,     0.29288,     0.29248,     0.29157,\n",
       "            0.29071,     0.29032,     0.28964,     0.28923,     0.28723,     0.28683,     0.28652,     0.28655,     0.28544,     0.28507,     0.28496,     0.28469,     0.28358,     0.28323,      0.2823,     0.28177,     0.28136,     0.28052,     0.27963,     0.27907,      0.2788,     0.27802,     0.27682,\n",
       "            0.27602,     0.27554,     0.27527,     0.27376,     0.27259,     0.27223,     0.27124,     0.27043,     0.26902,     0.26869,     0.26766,      0.2672,     0.26714,     0.26671,     0.26644,     0.26617,     0.26423,     0.26321,     0.26231,     0.26103,     0.25863,     0.25781,      0.2553,\n",
       "            0.25427,     0.25302,     0.25126,     0.25097,      0.2501,     0.24684,      0.2465,     0.24626,     0.24404,      0.2432,     0.24071,     0.23976,     0.23882,     0.23823,     0.23795,     0.23609,     0.23549,     0.23502,     0.23336,     0.23208,     0.23039,     0.22911,     0.22764,\n",
       "            0.22486,     0.22424,     0.22149,     0.22047,     0.21847,     0.21747,     0.21459,     0.21225,     0.20774,     0.20677,     0.20425,     0.20329,     0.20161,     0.20024,     0.19814,     0.19705,     0.19642,     0.19453,     0.19247,     0.18969,     0.18587,     0.18364,     0.18256,\n",
       "            0.18005,     0.17698,     0.17599,     0.17418,     0.17352,     0.17199,      0.1676,     0.16699,     0.16521,     0.16173,     0.16063,     0.15696,      0.1544,     0.15235,     0.14911,     0.14587,     0.14491,     0.14258,     0.13791,     0.13585,      0.1346,     0.13208,     0.12999,\n",
       "              0.128,      0.1242,     0.12137,     0.11802,     0.11696,     0.11416,     0.11216,     0.11023,     0.10689,     0.10474,     0.10441,     0.10296,     0.10245,     0.10098,    0.099046,    0.097555,     0.09512,    0.094052,    0.093118,    0.089176,    0.086694,    0.082725,    0.079731,\n",
       "           0.078218,    0.075708,    0.074189,    0.073166,    0.071643,    0.069828,    0.069091,    0.067709,    0.066279,    0.064494,    0.062981,    0.061923,    0.061189,    0.058838,    0.055769,    0.054727,    0.054039,    0.053149,    0.051594,    0.049526,    0.046427,    0.044861,    0.043807,\n",
       "           0.042237,    0.041643,    0.039606,      0.0392,    0.038004,    0.035731,    0.035361,    0.033802,    0.033232,    0.031645,    0.030055,    0.027941,    0.026345,    0.024747,    0.023525,    0.022987,    0.022058,    0.020964,    0.019084,    0.018814,    0.018249,    0.016848,    0.016306,\n",
       "           0.015842,    0.015481,     0.01481,    0.014538,    0.014218,    0.013872,    0.013736,      0.0136,    0.013464,    0.013168,    0.011548,    0.010636,    0.010363,    0.010066,   0.0097026,   0.0083932,    0.007661,   0.0070328,   0.0064854,   0.0063487,   0.0062574,   0.0061661,   0.0060749,\n",
       "          0.0059836,   0.0058452,   0.0051576,    0.004806,   0.0045866,   0.0043672,   0.0042263,   0.0041265,   0.0040268,    0.003927,   0.0038271,   0.0036499,   0.0032837,   0.0031507,   0.0030661,   0.0029816,   0.0028971,   0.0028125,    0.002728,   0.0025509,    0.002276,   0.0020011,    0.001726,\n",
       "          0.0015778,   0.0015199,   0.0014619,    0.001404,   0.0013461,   0.0012881,   0.0012302,   0.0011723,   0.0011143,    0.001053,  0.00098414,  0.00091532,  0.00084649,  0.00077766,  0.00070882,  0.00063999,  0.00057114,           0,           0,           0,           0,           0,           0,\n",
       "                  0,           0,           0,           0,           0,           0,           0,           0,           0,           0,           0,           0,           0,           0,           0,           0,           0,           0,           0,           0,           0,           0,           0,\n",
       "                  0,           0,           0,           0,           0,           0,           0,           0,           0,           0,           0]]), 'Confidence', 'F1'], [array([          0,    0.001001,    0.002002,    0.003003,    0.004004,    0.005005,    0.006006,    0.007007,    0.008008,    0.009009,     0.01001,    0.011011,    0.012012,    0.013013,    0.014014,    0.015015,    0.016016,    0.017017,    0.018018,    0.019019,     0.02002,    0.021021,    0.022022,    0.023023,\n",
       "          0.024024,    0.025025,    0.026026,    0.027027,    0.028028,    0.029029,     0.03003,    0.031031,    0.032032,    0.033033,    0.034034,    0.035035,    0.036036,    0.037037,    0.038038,    0.039039,     0.04004,    0.041041,    0.042042,    0.043043,    0.044044,    0.045045,    0.046046,    0.047047,\n",
       "          0.048048,    0.049049,     0.05005,    0.051051,    0.052052,    0.053053,    0.054054,    0.055055,    0.056056,    0.057057,    0.058058,    0.059059,     0.06006,    0.061061,    0.062062,    0.063063,    0.064064,    0.065065,    0.066066,    0.067067,    0.068068,    0.069069,     0.07007,    0.071071,\n",
       "          0.072072,    0.073073,    0.074074,    0.075075,    0.076076,    0.077077,    0.078078,    0.079079,     0.08008,    0.081081,    0.082082,    0.083083,    0.084084,    0.085085,    0.086086,    0.087087,    0.088088,    0.089089,     0.09009,    0.091091,    0.092092,    0.093093,    0.094094,    0.095095,\n",
       "          0.096096,    0.097097,    0.098098,    0.099099,      0.1001,      0.1011,      0.1021,      0.1031,      0.1041,     0.10511,     0.10611,     0.10711,     0.10811,     0.10911,     0.11011,     0.11111,     0.11211,     0.11311,     0.11411,     0.11512,     0.11612,     0.11712,     0.11812,     0.11912,\n",
       "           0.12012,     0.12112,     0.12212,     0.12312,     0.12412,     0.12513,     0.12613,     0.12713,     0.12813,     0.12913,     0.13013,     0.13113,     0.13213,     0.13313,     0.13413,     0.13514,     0.13614,     0.13714,     0.13814,     0.13914,     0.14014,     0.14114,     0.14214,     0.14314,\n",
       "           0.14414,     0.14515,     0.14615,     0.14715,     0.14815,     0.14915,     0.15015,     0.15115,     0.15215,     0.15315,     0.15415,     0.15516,     0.15616,     0.15716,     0.15816,     0.15916,     0.16016,     0.16116,     0.16216,     0.16316,     0.16416,     0.16517,     0.16617,     0.16717,\n",
       "           0.16817,     0.16917,     0.17017,     0.17117,     0.17217,     0.17317,     0.17417,     0.17518,     0.17618,     0.17718,     0.17818,     0.17918,     0.18018,     0.18118,     0.18218,     0.18318,     0.18418,     0.18519,     0.18619,     0.18719,     0.18819,     0.18919,     0.19019,     0.19119,\n",
       "           0.19219,     0.19319,     0.19419,      0.1952,      0.1962,      0.1972,      0.1982,      0.1992,      0.2002,      0.2012,      0.2022,      0.2032,      0.2042,     0.20521,     0.20621,     0.20721,     0.20821,     0.20921,     0.21021,     0.21121,     0.21221,     0.21321,     0.21421,     0.21522,\n",
       "           0.21622,     0.21722,     0.21822,     0.21922,     0.22022,     0.22122,     0.22222,     0.22322,     0.22422,     0.22523,     0.22623,     0.22723,     0.22823,     0.22923,     0.23023,     0.23123,     0.23223,     0.23323,     0.23423,     0.23524,     0.23624,     0.23724,     0.23824,     0.23924,\n",
       "           0.24024,     0.24124,     0.24224,     0.24324,     0.24424,     0.24525,     0.24625,     0.24725,     0.24825,     0.24925,     0.25025,     0.25125,     0.25225,     0.25325,     0.25425,     0.25526,     0.25626,     0.25726,     0.25826,     0.25926,     0.26026,     0.26126,     0.26226,     0.26326,\n",
       "           0.26426,     0.26527,     0.26627,     0.26727,     0.26827,     0.26927,     0.27027,     0.27127,     0.27227,     0.27327,     0.27427,     0.27528,     0.27628,     0.27728,     0.27828,     0.27928,     0.28028,     0.28128,     0.28228,     0.28328,     0.28428,     0.28529,     0.28629,     0.28729,\n",
       "           0.28829,     0.28929,     0.29029,     0.29129,     0.29229,     0.29329,     0.29429,      0.2953,      0.2963,      0.2973,      0.2983,      0.2993,      0.3003,      0.3013,      0.3023,      0.3033,      0.3043,     0.30531,     0.30631,     0.30731,     0.30831,     0.30931,     0.31031,     0.31131,\n",
       "           0.31231,     0.31331,     0.31431,     0.31532,     0.31632,     0.31732,     0.31832,     0.31932,     0.32032,     0.32132,     0.32232,     0.32332,     0.32432,     0.32533,     0.32633,     0.32733,     0.32833,     0.32933,     0.33033,     0.33133,     0.33233,     0.33333,     0.33433,     0.33534,\n",
       "           0.33634,     0.33734,     0.33834,     0.33934,     0.34034,     0.34134,     0.34234,     0.34334,     0.34434,     0.34535,     0.34635,     0.34735,     0.34835,     0.34935,     0.35035,     0.35135,     0.35235,     0.35335,     0.35435,     0.35536,     0.35636,     0.35736,     0.35836,     0.35936,\n",
       "           0.36036,     0.36136,     0.36236,     0.36336,     0.36436,     0.36537,     0.36637,     0.36737,     0.36837,     0.36937,     0.37037,     0.37137,     0.37237,     0.37337,     0.37437,     0.37538,     0.37638,     0.37738,     0.37838,     0.37938,     0.38038,     0.38138,     0.38238,     0.38338,\n",
       "           0.38438,     0.38539,     0.38639,     0.38739,     0.38839,     0.38939,     0.39039,     0.39139,     0.39239,     0.39339,     0.39439,      0.3954,      0.3964,      0.3974,      0.3984,      0.3994,      0.4004,      0.4014,      0.4024,      0.4034,      0.4044,     0.40541,     0.40641,     0.40741,\n",
       "           0.40841,     0.40941,     0.41041,     0.41141,     0.41241,     0.41341,     0.41441,     0.41542,     0.41642,     0.41742,     0.41842,     0.41942,     0.42042,     0.42142,     0.42242,     0.42342,     0.42442,     0.42543,     0.42643,     0.42743,     0.42843,     0.42943,     0.43043,     0.43143,\n",
       "           0.43243,     0.43343,     0.43443,     0.43544,     0.43644,     0.43744,     0.43844,     0.43944,     0.44044,     0.44144,     0.44244,     0.44344,     0.44444,     0.44545,     0.44645,     0.44745,     0.44845,     0.44945,     0.45045,     0.45145,     0.45245,     0.45345,     0.45445,     0.45546,\n",
       "           0.45646,     0.45746,     0.45846,     0.45946,     0.46046,     0.46146,     0.46246,     0.46346,     0.46446,     0.46547,     0.46647,     0.46747,     0.46847,     0.46947,     0.47047,     0.47147,     0.47247,     0.47347,     0.47447,     0.47548,     0.47648,     0.47748,     0.47848,     0.47948,\n",
       "           0.48048,     0.48148,     0.48248,     0.48348,     0.48448,     0.48549,     0.48649,     0.48749,     0.48849,     0.48949,     0.49049,     0.49149,     0.49249,     0.49349,     0.49449,      0.4955,      0.4965,      0.4975,      0.4985,      0.4995,      0.5005,      0.5015,      0.5025,      0.5035,\n",
       "            0.5045,     0.50551,     0.50651,     0.50751,     0.50851,     0.50951,     0.51051,     0.51151,     0.51251,     0.51351,     0.51451,     0.51552,     0.51652,     0.51752,     0.51852,     0.51952,     0.52052,     0.52152,     0.52252,     0.52352,     0.52452,     0.52553,     0.52653,     0.52753,\n",
       "           0.52853,     0.52953,     0.53053,     0.53153,     0.53253,     0.53353,     0.53453,     0.53554,     0.53654,     0.53754,     0.53854,     0.53954,     0.54054,     0.54154,     0.54254,     0.54354,     0.54454,     0.54555,     0.54655,     0.54755,     0.54855,     0.54955,     0.55055,     0.55155,\n",
       "           0.55255,     0.55355,     0.55455,     0.55556,     0.55656,     0.55756,     0.55856,     0.55956,     0.56056,     0.56156,     0.56256,     0.56356,     0.56456,     0.56557,     0.56657,     0.56757,     0.56857,     0.56957,     0.57057,     0.57157,     0.57257,     0.57357,     0.57457,     0.57558,\n",
       "           0.57658,     0.57758,     0.57858,     0.57958,     0.58058,     0.58158,     0.58258,     0.58358,     0.58458,     0.58559,     0.58659,     0.58759,     0.58859,     0.58959,     0.59059,     0.59159,     0.59259,     0.59359,     0.59459,      0.5956,      0.5966,      0.5976,      0.5986,      0.5996,\n",
       "            0.6006,      0.6016,      0.6026,      0.6036,      0.6046,     0.60561,     0.60661,     0.60761,     0.60861,     0.60961,     0.61061,     0.61161,     0.61261,     0.61361,     0.61461,     0.61562,     0.61662,     0.61762,     0.61862,     0.61962,     0.62062,     0.62162,     0.62262,     0.62362,\n",
       "           0.62462,     0.62563,     0.62663,     0.62763,     0.62863,     0.62963,     0.63063,     0.63163,     0.63263,     0.63363,     0.63463,     0.63564,     0.63664,     0.63764,     0.63864,     0.63964,     0.64064,     0.64164,     0.64264,     0.64364,     0.64464,     0.64565,     0.64665,     0.64765,\n",
       "           0.64865,     0.64965,     0.65065,     0.65165,     0.65265,     0.65365,     0.65465,     0.65566,     0.65666,     0.65766,     0.65866,     0.65966,     0.66066,     0.66166,     0.66266,     0.66366,     0.66466,     0.66567,     0.66667,     0.66767,     0.66867,     0.66967,     0.67067,     0.67167,\n",
       "           0.67267,     0.67367,     0.67467,     0.67568,     0.67668,     0.67768,     0.67868,     0.67968,     0.68068,     0.68168,     0.68268,     0.68368,     0.68468,     0.68569,     0.68669,     0.68769,     0.68869,     0.68969,     0.69069,     0.69169,     0.69269,     0.69369,     0.69469,      0.6957,\n",
       "            0.6967,      0.6977,      0.6987,      0.6997,      0.7007,      0.7017,      0.7027,      0.7037,      0.7047,     0.70571,     0.70671,     0.70771,     0.70871,     0.70971,     0.71071,     0.71171,     0.71271,     0.71371,     0.71471,     0.71572,     0.71672,     0.71772,     0.71872,     0.71972,\n",
       "           0.72072,     0.72172,     0.72272,     0.72372,     0.72472,     0.72573,     0.72673,     0.72773,     0.72873,     0.72973,     0.73073,     0.73173,     0.73273,     0.73373,     0.73473,     0.73574,     0.73674,     0.73774,     0.73874,     0.73974,     0.74074,     0.74174,     0.74274,     0.74374,\n",
       "           0.74474,     0.74575,     0.74675,     0.74775,     0.74875,     0.74975,     0.75075,     0.75175,     0.75275,     0.75375,     0.75475,     0.75576,     0.75676,     0.75776,     0.75876,     0.75976,     0.76076,     0.76176,     0.76276,     0.76376,     0.76476,     0.76577,     0.76677,     0.76777,\n",
       "           0.76877,     0.76977,     0.77077,     0.77177,     0.77277,     0.77377,     0.77477,     0.77578,     0.77678,     0.77778,     0.77878,     0.77978,     0.78078,     0.78178,     0.78278,     0.78378,     0.78478,     0.78579,     0.78679,     0.78779,     0.78879,     0.78979,     0.79079,     0.79179,\n",
       "           0.79279,     0.79379,     0.79479,      0.7958,      0.7968,      0.7978,      0.7988,      0.7998,      0.8008,      0.8018,      0.8028,      0.8038,      0.8048,     0.80581,     0.80681,     0.80781,     0.80881,     0.80981,     0.81081,     0.81181,     0.81281,     0.81381,     0.81481,     0.81582,\n",
       "           0.81682,     0.81782,     0.81882,     0.81982,     0.82082,     0.82182,     0.82282,     0.82382,     0.82482,     0.82583,     0.82683,     0.82783,     0.82883,     0.82983,     0.83083,     0.83183,     0.83283,     0.83383,     0.83483,     0.83584,     0.83684,     0.83784,     0.83884,     0.83984,\n",
       "           0.84084,     0.84184,     0.84284,     0.84384,     0.84484,     0.84585,     0.84685,     0.84785,     0.84885,     0.84985,     0.85085,     0.85185,     0.85285,     0.85385,     0.85485,     0.85586,     0.85686,     0.85786,     0.85886,     0.85986,     0.86086,     0.86186,     0.86286,     0.86386,\n",
       "           0.86486,     0.86587,     0.86687,     0.86787,     0.86887,     0.86987,     0.87087,     0.87187,     0.87287,     0.87387,     0.87487,     0.87588,     0.87688,     0.87788,     0.87888,     0.87988,     0.88088,     0.88188,     0.88288,     0.88388,     0.88488,     0.88589,     0.88689,     0.88789,\n",
       "           0.88889,     0.88989,     0.89089,     0.89189,     0.89289,     0.89389,     0.89489,      0.8959,      0.8969,      0.8979,      0.8989,      0.8999,      0.9009,      0.9019,      0.9029,      0.9039,      0.9049,     0.90591,     0.90691,     0.90791,     0.90891,     0.90991,     0.91091,     0.91191,\n",
       "           0.91291,     0.91391,     0.91491,     0.91592,     0.91692,     0.91792,     0.91892,     0.91992,     0.92092,     0.92192,     0.92292,     0.92392,     0.92492,     0.92593,     0.92693,     0.92793,     0.92893,     0.92993,     0.93093,     0.93193,     0.93293,     0.93393,     0.93493,     0.93594,\n",
       "           0.93694,     0.93794,     0.93894,     0.93994,     0.94094,     0.94194,     0.94294,     0.94394,     0.94494,     0.94595,     0.94695,     0.94795,     0.94895,     0.94995,     0.95095,     0.95195,     0.95295,     0.95395,     0.95495,     0.95596,     0.95696,     0.95796,     0.95896,     0.95996,\n",
       "           0.96096,     0.96196,     0.96296,     0.96396,     0.96496,     0.96597,     0.96697,     0.96797,     0.96897,     0.96997,     0.97097,     0.97197,     0.97297,     0.97397,     0.97497,     0.97598,     0.97698,     0.97798,     0.97898,     0.97998,     0.98098,     0.98198,     0.98298,     0.98398,\n",
       "           0.98498,     0.98599,     0.98699,     0.98799,     0.98899,     0.98999,     0.99099,     0.99199,     0.99299,     0.99399,     0.99499,       0.996,       0.997,       0.998,       0.999,           1]), array([[   0.031605,    0.031605,    0.047003,    0.058757,    0.068558,    0.077106,    0.084612,    0.090991,    0.097474,     0.10305,     0.10855,     0.11353,     0.11821,      0.1225,      0.1264,     0.13017,     0.13359,     0.13733,     0.14037,     0.14342,     0.14673,     0.14965,     0.15259,\n",
       "            0.15539,     0.15828,     0.16039,     0.16273,     0.16543,     0.16751,     0.16962,     0.17206,     0.17433,      0.1768,     0.17901,     0.18085,     0.18242,     0.18436,     0.18668,     0.18889,     0.19067,     0.19311,     0.19484,     0.19638,     0.19841,     0.20013,     0.20174,\n",
       "            0.20356,     0.20558,     0.20701,      0.2087,     0.21013,     0.21162,     0.21356,     0.21532,     0.21692,     0.21859,     0.22003,     0.22178,     0.22338,     0.22562,     0.22726,     0.22954,      0.2314,     0.23374,     0.23568,     0.23774,     0.23953,      0.2414,     0.24391,\n",
       "            0.24522,     0.24739,     0.24928,     0.25064,     0.25218,     0.25464,     0.25708,     0.25834,     0.26023,     0.26291,     0.26489,     0.26733,     0.26951,     0.27152,     0.27396,     0.27601,     0.27852,     0.28098,     0.28378,     0.28599,     0.28848,     0.29207,     0.29463,\n",
       "            0.29729,     0.29987,      0.3033,     0.30636,     0.30931,     0.31272,     0.31627,     0.31861,     0.32227,     0.32577,     0.32838,     0.33253,     0.33461,     0.33759,     0.34233,     0.34541,     0.34939,     0.35257,     0.35717,     0.35929,     0.36293,     0.36543,      0.3695,\n",
       "            0.37189,     0.37706,     0.38039,     0.38435,     0.38848,     0.39359,     0.39619,      0.3995,     0.40378,     0.40716,     0.41147,     0.41287,      0.4146,     0.41906,     0.42186,     0.42491,     0.42879,     0.43323,      0.4363,     0.43963,     0.44209,      0.4479,     0.44992,\n",
       "            0.45508,     0.45834,     0.46019,     0.46353,     0.46665,     0.46846,     0.47226,     0.47521,     0.47926,     0.48171,     0.48513,     0.49026,     0.49386,     0.49739,      0.5002,     0.50269,     0.50423,     0.50665,     0.51029,     0.51357,     0.51514,     0.51926,     0.52098,\n",
       "            0.52322,       0.525,     0.52788,     0.53196,     0.53439,     0.53895,     0.54026,     0.54374,     0.54587,     0.54883,     0.55128,     0.55462,     0.55541,     0.55879,     0.56168,     0.56476,     0.56462,     0.56684,     0.57134,     0.57566,     0.57685,     0.58065,     0.58441,\n",
       "            0.58553,     0.58754,     0.59083,     0.59432,     0.59498,     0.59714,     0.60168,     0.60205,     0.60653,     0.60991,     0.61151,     0.61489,      0.6194,     0.62086,     0.62323,     0.62389,     0.62704,     0.62947,     0.63065,       0.634,      0.6343,     0.63818,     0.63965,\n",
       "            0.64443,     0.64846,      0.6495,     0.65205,     0.65317,     0.65733,     0.65918,      0.6604,     0.66129,     0.66294,      0.6638,      0.6666,     0.66708,     0.67019,     0.67161,     0.67372,      0.6744,       0.676,     0.67809,     0.67934,     0.67994,     0.67957,     0.68197,\n",
       "            0.68558,     0.68632,     0.68694,     0.68849,     0.68904,      0.6896,     0.69137,     0.69309,     0.69358,     0.69464,     0.69539,     0.69633,     0.69704,     0.69851,     0.69847,     0.69997,     0.70021,     0.70123,      0.7035,     0.70355,     0.70416,     0.70506,     0.70618,\n",
       "            0.70855,     0.70857,     0.70839,     0.70916,     0.71081,     0.71173,     0.71189,     0.71347,     0.71468,     0.71503,     0.71554,     0.71726,      0.7214,     0.72144,     0.72229,     0.72316,     0.72512,     0.72802,     0.72792,     0.72943,     0.72994,     0.73078,       0.733,\n",
       "            0.73473,     0.73723,       0.738,     0.73886,      0.7391,     0.73889,      0.7401,      0.7415,      0.7435,     0.74384,     0.74385,     0.74485,     0.74602,     0.74729,     0.74785,     0.74912,     0.74999,     0.75031,     0.75198,     0.75188,     0.75211,     0.75202,     0.75329,\n",
       "            0.75395,     0.75397,     0.75467,     0.75653,     0.75944,     0.76037,     0.76134,     0.76144,     0.76235,     0.76377,     0.76401,     0.76404,      0.7648,     0.76648,     0.76612,     0.76657,     0.76695,     0.76754,     0.76906,     0.77027,     0.77203,     0.77251,     0.77322,\n",
       "            0.77319,      0.7733,       0.775,     0.77495,     0.77569,     0.77744,     0.77899,     0.78038,     0.78224,     0.78403,     0.78412,     0.78579,     0.78615,     0.78761,     0.78823,     0.79115,     0.79248,     0.79308,     0.79437,     0.79578,     0.79649,     0.79634,     0.79739,\n",
       "            0.79851,     0.79853,     0.79891,     0.80086,      0.8013,     0.80197,     0.80264,     0.80317,     0.80532,      0.8057,     0.80618,     0.80667,     0.80758,     0.80882,     0.80999,     0.81103,      0.8105,     0.81085,     0.81169,     0.81151,     0.81188,     0.81258,     0.81251,\n",
       "            0.81316,      0.8131,     0.81289,     0.81405,     0.81452,     0.81531,     0.81654,     0.81678,     0.81701,     0.81695,     0.81749,     0.81803,     0.81858,     0.81948,      0.8206,     0.82159,      0.8213,     0.82121,      0.8215,     0.82235,     0.82353,     0.82426,     0.82534,\n",
       "            0.82649,     0.82718,      0.8271,     0.82845,     0.82936,     0.83064,     0.83089,     0.83114,     0.83125,     0.83119,     0.83113,     0.83233,      0.8325,     0.83276,     0.83301,      0.8329,      0.8334,     0.83415,     0.83454,     0.83553,     0.83563,     0.83612,     0.83597,\n",
       "            0.83699,     0.83762,       0.838,     0.83803,     0.83788,     0.83773,     0.83874,     0.83912,      0.8397,     0.84013,     0.84151,     0.84221,      0.8426,     0.84445,     0.84438,     0.84557,      0.8455,     0.84541,     0.84526,     0.84497,     0.84573,     0.84595,     0.84616,\n",
       "            0.84637,     0.84698,     0.84683,     0.84748,     0.84733,     0.84718,     0.84782,     0.84942,     0.85183,     0.85331,     0.85325,     0.85388,     0.85364,     0.85404,     0.85445,     0.85473,       0.855,     0.85509,     0.85513,     0.85555,     0.85696,      0.8576,     0.85802,\n",
       "            0.85898,     0.85884,     0.86075,      0.8616,     0.86351,     0.86482,     0.86504,      0.8664,     0.86713,     0.86715,     0.86707,       0.867,     0.86755,      0.8676,     0.86746,     0.86824,     0.86817,     0.86843,     0.86887,     0.86961,     0.86935,     0.86922,     0.86902,\n",
       "            0.87055,     0.87048,     0.87048,     0.87093,     0.87132,     0.87373,      0.8736,     0.87347,     0.87322,     0.87427,     0.87483,      0.8746,     0.87454,     0.87468,     0.87513,      0.8762,     0.87635,      0.8768,     0.87749,     0.88018,     0.88109,     0.88143,     0.88139,\n",
       "            0.88135,     0.88126,     0.88154,       0.882,     0.88202,      0.8819,      0.8835,     0.88345,     0.88424,     0.88632,     0.88679,     0.88672,      0.8876,     0.88808,     0.88935,     0.88923,      0.8901,     0.89085,     0.89079,     0.89154,      0.8914,     0.89188,     0.89339,\n",
       "            0.89529,     0.89681,     0.89765,     0.89743,      0.8971,      0.8989,      0.8992,     0.90167,     0.90156,     0.90195,     0.90241,     0.90286,     0.90332,      0.9033,     0.90328,     0.90325,     0.90323,     0.90316,     0.90298,     0.90293,     0.90287,     0.90282,     0.90272,\n",
       "            0.90251,     0.90219,     0.90198,     0.90191,     0.90186,     0.90279,     0.90418,     0.90455,       0.907,     0.90776,     0.90827,     0.90888,      0.9095,     0.91002,     0.91007,     0.91002,     0.91174,       0.912,     0.91197,     0.91194,     0.91185,     0.91259,     0.91364,\n",
       "            0.91468,     0.91569,     0.91564,     0.91554,     0.91656,     0.91629,     0.91619,     0.91608,     0.91605,     0.91602,     0.91594,     0.91755,     0.91774,     0.91837,     0.91945,     0.92053,     0.92065,     0.92061,     0.92047,     0.92042,     0.92036,     0.92137,     0.92134,\n",
       "            0.92131,     0.92118,     0.92114,     0.92091,     0.92086,     0.92246,     0.92278,     0.92273,     0.92335,     0.92469,     0.92466,     0.92464,     0.92443,     0.92438,     0.92434,     0.92431,     0.92428,     0.92523,     0.92609,      0.9262,     0.92611,     0.92602,     0.92581,\n",
       "            0.92579,     0.92577,     0.92565,     0.92666,     0.92648,     0.92643,     0.92636,     0.92618,     0.92608,     0.92599,     0.92592,     0.92576,     0.92599,     0.92829,     0.92897,     0.92882,     0.92878,     0.92875,     0.92857,     0.92963,     0.93069,     0.93052,     0.93033,\n",
       "            0.93021,     0.93003,      0.9303,      0.9309,     0.93093,      0.9311,     0.93198,     0.93193,     0.93179,     0.93363,     0.93368,     0.93471,     0.93525,     0.93586,     0.93544,     0.93536,     0.93527,     0.93493,     0.93481,     0.93569,     0.93575,     0.93683,     0.93678,\n",
       "             0.9367,     0.93662,     0.93636,      0.9363,     0.93623,     0.93614,     0.93728,     0.93843,     0.93826,     0.93804,     0.93797,     0.93788,      0.9378,     0.93759,     0.93803,     0.93846,     0.94005,     0.93999,     0.93992,     0.93984,     0.94092,     0.94113,     0.94333,\n",
       "            0.94323,     0.94291,     0.94283,     0.94271,     0.94264,     0.94258,      0.9425,     0.94375,     0.94339,     0.94314,     0.94294,     0.94269,     0.94261,     0.94255,     0.94248,     0.94241,     0.94355,     0.94474,     0.94463,      0.9444,     0.94434,     0.94426,     0.94407,\n",
       "            0.94388,      0.9438,     0.94365,     0.94495,     0.94453,     0.94445,     0.94635,     0.94693,      0.9484,     0.94852,     0.95118,     0.95401,     0.95382,     0.95375,     0.95358,     0.95495,     0.95488,     0.95621,     0.95606,     0.95596,     0.95591,     0.95578,     0.95556,\n",
       "            0.95605,     0.95685,      0.9568,     0.95883,     0.95941,     0.96091,     0.96075,     0.96062,     0.96039,     0.96079,     0.96175,     0.96358,     0.96647,     0.96641,     0.96638,     0.96634,      0.9677,     0.96756,     0.96909,     0.96892,      0.9686,     0.97008,     0.97329,\n",
       "            0.97317,     0.97302,     0.97281,     0.97277,     0.97267,     0.97227,     0.97274,     0.97399,     0.97555,     0.97546,     0.97518,     0.97507,     0.97496,     0.97489,     0.97486,     0.97464,     0.97457,     0.97451,     0.97431,     0.97416,     0.97395,     0.97379,      0.9736,\n",
       "            0.97324,     0.97316,     0.97483,      0.9747,     0.97445,     0.97432,     0.97394,     0.97522,      0.9752,     0.97507,     0.97473,      0.9746,     0.97437,     0.97623,      0.9762,     0.97839,     0.98053,     0.98047,     0.98024,     0.97993,       0.982,     0.98176,     0.98165,\n",
       "            0.98137,     0.98102,     0.98091,     0.98069,     0.98264,     0.98593,     0.98554,     0.98548,     0.98821,     0.98794,     0.98785,     0.98755,     0.98732,     0.98714,     0.98684,     0.98653,     0.98644,      0.9862,      0.9857,     0.98547,     0.98533,     0.98504,     0.98854,\n",
       "            0.98835,     0.98798,     0.99175,      0.9915,     0.99142,      0.9912,     0.99104,     0.99087,     0.99057,     0.99037,     0.99034,      0.9902,     0.99015,        0.99,     0.98979,     0.99479,           1,           1,           1,           1,           1,           1,           1,\n",
       "                  1,           1,           1,           1,           1,           1,           1,           1,           1,           1,           1,           1,           1,           1,           1,           1,           1,           1,           1,           1,           1,           1,           1,\n",
       "                  1,           1,           1,           1,           1,           1,           1,           1,           1,           1,           1,           1,           1,           1,           1,           1,           1,           1,           1,           1,           1,           1,           1,\n",
       "                  1,           1,           1,           1,           1,           1,           1,           1,           1,           1,           1,           1,           1,           1,           1,           1,           1,           1,           1,           1,           1,           1,           1,\n",
       "                  1,           1,           1,           1,           1,           1,           1,           1,           1,           1,           1,           1,           1,           1,           1,           1,           1,           1,           1,           1,           1,           1,           1,\n",
       "                  1,           1,           1,           1,           1,           1,           1,           1,           1,           1,           1,           1,           1,           1,           1,           1,           1,           1,           1,           1,           1,           1,           1,\n",
       "                  1,           1,           1,           1,           1,           1,           1,           1,           1,           1,           1,           1,           1,           1,           1,           1,           1,           1,           1,           1,           1,           1,           1,\n",
       "                  1,           1,           1,           1,           1,           1,           1,           1,           1,           1,           1]]), 'Confidence', 'Precision'], [array([          0,    0.001001,    0.002002,    0.003003,    0.004004,    0.005005,    0.006006,    0.007007,    0.008008,    0.009009,     0.01001,    0.011011,    0.012012,    0.013013,    0.014014,    0.015015,    0.016016,    0.017017,    0.018018,    0.019019,     0.02002,    0.021021,    0.022022,    0.023023,\n",
       "          0.024024,    0.025025,    0.026026,    0.027027,    0.028028,    0.029029,     0.03003,    0.031031,    0.032032,    0.033033,    0.034034,    0.035035,    0.036036,    0.037037,    0.038038,    0.039039,     0.04004,    0.041041,    0.042042,    0.043043,    0.044044,    0.045045,    0.046046,    0.047047,\n",
       "          0.048048,    0.049049,     0.05005,    0.051051,    0.052052,    0.053053,    0.054054,    0.055055,    0.056056,    0.057057,    0.058058,    0.059059,     0.06006,    0.061061,    0.062062,    0.063063,    0.064064,    0.065065,    0.066066,    0.067067,    0.068068,    0.069069,     0.07007,    0.071071,\n",
       "          0.072072,    0.073073,    0.074074,    0.075075,    0.076076,    0.077077,    0.078078,    0.079079,     0.08008,    0.081081,    0.082082,    0.083083,    0.084084,    0.085085,    0.086086,    0.087087,    0.088088,    0.089089,     0.09009,    0.091091,    0.092092,    0.093093,    0.094094,    0.095095,\n",
       "          0.096096,    0.097097,    0.098098,    0.099099,      0.1001,      0.1011,      0.1021,      0.1031,      0.1041,     0.10511,     0.10611,     0.10711,     0.10811,     0.10911,     0.11011,     0.11111,     0.11211,     0.11311,     0.11411,     0.11512,     0.11612,     0.11712,     0.11812,     0.11912,\n",
       "           0.12012,     0.12112,     0.12212,     0.12312,     0.12412,     0.12513,     0.12613,     0.12713,     0.12813,     0.12913,     0.13013,     0.13113,     0.13213,     0.13313,     0.13413,     0.13514,     0.13614,     0.13714,     0.13814,     0.13914,     0.14014,     0.14114,     0.14214,     0.14314,\n",
       "           0.14414,     0.14515,     0.14615,     0.14715,     0.14815,     0.14915,     0.15015,     0.15115,     0.15215,     0.15315,     0.15415,     0.15516,     0.15616,     0.15716,     0.15816,     0.15916,     0.16016,     0.16116,     0.16216,     0.16316,     0.16416,     0.16517,     0.16617,     0.16717,\n",
       "           0.16817,     0.16917,     0.17017,     0.17117,     0.17217,     0.17317,     0.17417,     0.17518,     0.17618,     0.17718,     0.17818,     0.17918,     0.18018,     0.18118,     0.18218,     0.18318,     0.18418,     0.18519,     0.18619,     0.18719,     0.18819,     0.18919,     0.19019,     0.19119,\n",
       "           0.19219,     0.19319,     0.19419,      0.1952,      0.1962,      0.1972,      0.1982,      0.1992,      0.2002,      0.2012,      0.2022,      0.2032,      0.2042,     0.20521,     0.20621,     0.20721,     0.20821,     0.20921,     0.21021,     0.21121,     0.21221,     0.21321,     0.21421,     0.21522,\n",
       "           0.21622,     0.21722,     0.21822,     0.21922,     0.22022,     0.22122,     0.22222,     0.22322,     0.22422,     0.22523,     0.22623,     0.22723,     0.22823,     0.22923,     0.23023,     0.23123,     0.23223,     0.23323,     0.23423,     0.23524,     0.23624,     0.23724,     0.23824,     0.23924,\n",
       "           0.24024,     0.24124,     0.24224,     0.24324,     0.24424,     0.24525,     0.24625,     0.24725,     0.24825,     0.24925,     0.25025,     0.25125,     0.25225,     0.25325,     0.25425,     0.25526,     0.25626,     0.25726,     0.25826,     0.25926,     0.26026,     0.26126,     0.26226,     0.26326,\n",
       "           0.26426,     0.26527,     0.26627,     0.26727,     0.26827,     0.26927,     0.27027,     0.27127,     0.27227,     0.27327,     0.27427,     0.27528,     0.27628,     0.27728,     0.27828,     0.27928,     0.28028,     0.28128,     0.28228,     0.28328,     0.28428,     0.28529,     0.28629,     0.28729,\n",
       "           0.28829,     0.28929,     0.29029,     0.29129,     0.29229,     0.29329,     0.29429,      0.2953,      0.2963,      0.2973,      0.2983,      0.2993,      0.3003,      0.3013,      0.3023,      0.3033,      0.3043,     0.30531,     0.30631,     0.30731,     0.30831,     0.30931,     0.31031,     0.31131,\n",
       "           0.31231,     0.31331,     0.31431,     0.31532,     0.31632,     0.31732,     0.31832,     0.31932,     0.32032,     0.32132,     0.32232,     0.32332,     0.32432,     0.32533,     0.32633,     0.32733,     0.32833,     0.32933,     0.33033,     0.33133,     0.33233,     0.33333,     0.33433,     0.33534,\n",
       "           0.33634,     0.33734,     0.33834,     0.33934,     0.34034,     0.34134,     0.34234,     0.34334,     0.34434,     0.34535,     0.34635,     0.34735,     0.34835,     0.34935,     0.35035,     0.35135,     0.35235,     0.35335,     0.35435,     0.35536,     0.35636,     0.35736,     0.35836,     0.35936,\n",
       "           0.36036,     0.36136,     0.36236,     0.36336,     0.36436,     0.36537,     0.36637,     0.36737,     0.36837,     0.36937,     0.37037,     0.37137,     0.37237,     0.37337,     0.37437,     0.37538,     0.37638,     0.37738,     0.37838,     0.37938,     0.38038,     0.38138,     0.38238,     0.38338,\n",
       "           0.38438,     0.38539,     0.38639,     0.38739,     0.38839,     0.38939,     0.39039,     0.39139,     0.39239,     0.39339,     0.39439,      0.3954,      0.3964,      0.3974,      0.3984,      0.3994,      0.4004,      0.4014,      0.4024,      0.4034,      0.4044,     0.40541,     0.40641,     0.40741,\n",
       "           0.40841,     0.40941,     0.41041,     0.41141,     0.41241,     0.41341,     0.41441,     0.41542,     0.41642,     0.41742,     0.41842,     0.41942,     0.42042,     0.42142,     0.42242,     0.42342,     0.42442,     0.42543,     0.42643,     0.42743,     0.42843,     0.42943,     0.43043,     0.43143,\n",
       "           0.43243,     0.43343,     0.43443,     0.43544,     0.43644,     0.43744,     0.43844,     0.43944,     0.44044,     0.44144,     0.44244,     0.44344,     0.44444,     0.44545,     0.44645,     0.44745,     0.44845,     0.44945,     0.45045,     0.45145,     0.45245,     0.45345,     0.45445,     0.45546,\n",
       "           0.45646,     0.45746,     0.45846,     0.45946,     0.46046,     0.46146,     0.46246,     0.46346,     0.46446,     0.46547,     0.46647,     0.46747,     0.46847,     0.46947,     0.47047,     0.47147,     0.47247,     0.47347,     0.47447,     0.47548,     0.47648,     0.47748,     0.47848,     0.47948,\n",
       "           0.48048,     0.48148,     0.48248,     0.48348,     0.48448,     0.48549,     0.48649,     0.48749,     0.48849,     0.48949,     0.49049,     0.49149,     0.49249,     0.49349,     0.49449,      0.4955,      0.4965,      0.4975,      0.4985,      0.4995,      0.5005,      0.5015,      0.5025,      0.5035,\n",
       "            0.5045,     0.50551,     0.50651,     0.50751,     0.50851,     0.50951,     0.51051,     0.51151,     0.51251,     0.51351,     0.51451,     0.51552,     0.51652,     0.51752,     0.51852,     0.51952,     0.52052,     0.52152,     0.52252,     0.52352,     0.52452,     0.52553,     0.52653,     0.52753,\n",
       "           0.52853,     0.52953,     0.53053,     0.53153,     0.53253,     0.53353,     0.53453,     0.53554,     0.53654,     0.53754,     0.53854,     0.53954,     0.54054,     0.54154,     0.54254,     0.54354,     0.54454,     0.54555,     0.54655,     0.54755,     0.54855,     0.54955,     0.55055,     0.55155,\n",
       "           0.55255,     0.55355,     0.55455,     0.55556,     0.55656,     0.55756,     0.55856,     0.55956,     0.56056,     0.56156,     0.56256,     0.56356,     0.56456,     0.56557,     0.56657,     0.56757,     0.56857,     0.56957,     0.57057,     0.57157,     0.57257,     0.57357,     0.57457,     0.57558,\n",
       "           0.57658,     0.57758,     0.57858,     0.57958,     0.58058,     0.58158,     0.58258,     0.58358,     0.58458,     0.58559,     0.58659,     0.58759,     0.58859,     0.58959,     0.59059,     0.59159,     0.59259,     0.59359,     0.59459,      0.5956,      0.5966,      0.5976,      0.5986,      0.5996,\n",
       "            0.6006,      0.6016,      0.6026,      0.6036,      0.6046,     0.60561,     0.60661,     0.60761,     0.60861,     0.60961,     0.61061,     0.61161,     0.61261,     0.61361,     0.61461,     0.61562,     0.61662,     0.61762,     0.61862,     0.61962,     0.62062,     0.62162,     0.62262,     0.62362,\n",
       "           0.62462,     0.62563,     0.62663,     0.62763,     0.62863,     0.62963,     0.63063,     0.63163,     0.63263,     0.63363,     0.63463,     0.63564,     0.63664,     0.63764,     0.63864,     0.63964,     0.64064,     0.64164,     0.64264,     0.64364,     0.64464,     0.64565,     0.64665,     0.64765,\n",
       "           0.64865,     0.64965,     0.65065,     0.65165,     0.65265,     0.65365,     0.65465,     0.65566,     0.65666,     0.65766,     0.65866,     0.65966,     0.66066,     0.66166,     0.66266,     0.66366,     0.66466,     0.66567,     0.66667,     0.66767,     0.66867,     0.66967,     0.67067,     0.67167,\n",
       "           0.67267,     0.67367,     0.67467,     0.67568,     0.67668,     0.67768,     0.67868,     0.67968,     0.68068,     0.68168,     0.68268,     0.68368,     0.68468,     0.68569,     0.68669,     0.68769,     0.68869,     0.68969,     0.69069,     0.69169,     0.69269,     0.69369,     0.69469,      0.6957,\n",
       "            0.6967,      0.6977,      0.6987,      0.6997,      0.7007,      0.7017,      0.7027,      0.7037,      0.7047,     0.70571,     0.70671,     0.70771,     0.70871,     0.70971,     0.71071,     0.71171,     0.71271,     0.71371,     0.71471,     0.71572,     0.71672,     0.71772,     0.71872,     0.71972,\n",
       "           0.72072,     0.72172,     0.72272,     0.72372,     0.72472,     0.72573,     0.72673,     0.72773,     0.72873,     0.72973,     0.73073,     0.73173,     0.73273,     0.73373,     0.73473,     0.73574,     0.73674,     0.73774,     0.73874,     0.73974,     0.74074,     0.74174,     0.74274,     0.74374,\n",
       "           0.74474,     0.74575,     0.74675,     0.74775,     0.74875,     0.74975,     0.75075,     0.75175,     0.75275,     0.75375,     0.75475,     0.75576,     0.75676,     0.75776,     0.75876,     0.75976,     0.76076,     0.76176,     0.76276,     0.76376,     0.76476,     0.76577,     0.76677,     0.76777,\n",
       "           0.76877,     0.76977,     0.77077,     0.77177,     0.77277,     0.77377,     0.77477,     0.77578,     0.77678,     0.77778,     0.77878,     0.77978,     0.78078,     0.78178,     0.78278,     0.78378,     0.78478,     0.78579,     0.78679,     0.78779,     0.78879,     0.78979,     0.79079,     0.79179,\n",
       "           0.79279,     0.79379,     0.79479,      0.7958,      0.7968,      0.7978,      0.7988,      0.7998,      0.8008,      0.8018,      0.8028,      0.8038,      0.8048,     0.80581,     0.80681,     0.80781,     0.80881,     0.80981,     0.81081,     0.81181,     0.81281,     0.81381,     0.81481,     0.81582,\n",
       "           0.81682,     0.81782,     0.81882,     0.81982,     0.82082,     0.82182,     0.82282,     0.82382,     0.82482,     0.82583,     0.82683,     0.82783,     0.82883,     0.82983,     0.83083,     0.83183,     0.83283,     0.83383,     0.83483,     0.83584,     0.83684,     0.83784,     0.83884,     0.83984,\n",
       "           0.84084,     0.84184,     0.84284,     0.84384,     0.84484,     0.84585,     0.84685,     0.84785,     0.84885,     0.84985,     0.85085,     0.85185,     0.85285,     0.85385,     0.85485,     0.85586,     0.85686,     0.85786,     0.85886,     0.85986,     0.86086,     0.86186,     0.86286,     0.86386,\n",
       "           0.86486,     0.86587,     0.86687,     0.86787,     0.86887,     0.86987,     0.87087,     0.87187,     0.87287,     0.87387,     0.87487,     0.87588,     0.87688,     0.87788,     0.87888,     0.87988,     0.88088,     0.88188,     0.88288,     0.88388,     0.88488,     0.88589,     0.88689,     0.88789,\n",
       "           0.88889,     0.88989,     0.89089,     0.89189,     0.89289,     0.89389,     0.89489,      0.8959,      0.8969,      0.8979,      0.8989,      0.8999,      0.9009,      0.9019,      0.9029,      0.9039,      0.9049,     0.90591,     0.90691,     0.90791,     0.90891,     0.90991,     0.91091,     0.91191,\n",
       "           0.91291,     0.91391,     0.91491,     0.91592,     0.91692,     0.91792,     0.91892,     0.91992,     0.92092,     0.92192,     0.92292,     0.92392,     0.92492,     0.92593,     0.92693,     0.92793,     0.92893,     0.92993,     0.93093,     0.93193,     0.93293,     0.93393,     0.93493,     0.93594,\n",
       "           0.93694,     0.93794,     0.93894,     0.93994,     0.94094,     0.94194,     0.94294,     0.94394,     0.94494,     0.94595,     0.94695,     0.94795,     0.94895,     0.94995,     0.95095,     0.95195,     0.95295,     0.95395,     0.95495,     0.95596,     0.95696,     0.95796,     0.95896,     0.95996,\n",
       "           0.96096,     0.96196,     0.96296,     0.96396,     0.96496,     0.96597,     0.96697,     0.96797,     0.96897,     0.96997,     0.97097,     0.97197,     0.97297,     0.97397,     0.97497,     0.97598,     0.97698,     0.97798,     0.97898,     0.97998,     0.98098,     0.98198,     0.98298,     0.98398,\n",
       "           0.98498,     0.98599,     0.98699,     0.98799,     0.98899,     0.98999,     0.99099,     0.99199,     0.99299,     0.99399,     0.99499,       0.996,       0.997,       0.998,       0.999,           1]), array([[     0.6621,      0.6621,     0.65699,     0.65296,     0.65081,     0.64839,     0.64624,     0.64435,     0.64301,     0.64086,     0.63925,     0.63898,     0.63737,     0.63656,     0.63629,     0.63548,     0.63414,      0.6336,     0.63199,     0.63011,      0.6293,     0.62849,     0.62776,\n",
       "            0.62661,     0.62608,     0.62446,     0.62285,     0.62258,     0.62224,      0.6207,     0.62016,     0.61882,     0.61828,     0.61747,      0.6164,     0.61505,     0.61505,     0.61478,     0.61425,     0.61344,     0.61317,     0.61183,     0.61075,     0.60941,      0.6086,      0.6078,\n",
       "            0.60645,     0.60565,     0.60349,     0.60269,     0.60134,         0.6,      0.5994,     0.59866,     0.59731,      0.5957,     0.59382,     0.59328,     0.59194,     0.59113,     0.58978,     0.58898,     0.58817,      0.5871,     0.58629,     0.58575,     0.58441,     0.58333,     0.58277,\n",
       "            0.58118,     0.58065,     0.57876,     0.57769,     0.57554,     0.57419,     0.57392,     0.57177,     0.56965,     0.56801,     0.56694,     0.56505,     0.56371,      0.5621,     0.55995,     0.55941,     0.55914,     0.55806,      0.5578,     0.55672,     0.55618,     0.55565,     0.55511,\n",
       "            0.55484,     0.55376,     0.55323,     0.55108,     0.54866,     0.54758,     0.54624,     0.54516,     0.54382,     0.54328,      0.5414,     0.53871,     0.53737,     0.53575,     0.53495,     0.53387,     0.53333,     0.53038,     0.52903,     0.52634,     0.52473,     0.52312,     0.52151,\n",
       "            0.52016,     0.51909,     0.51774,     0.51559,     0.51478,     0.51183,     0.50968,     0.50754,     0.50457,     0.50188,     0.49785,     0.49355,     0.49086,     0.48844,     0.48656,     0.48333,     0.48091,     0.47769,     0.47554,     0.47242,     0.46949,       0.468,     0.46478,\n",
       "            0.46102,      0.4578,     0.45296,     0.45061,     0.44785,     0.44543,     0.44409,     0.44059,     0.43816,     0.43495,     0.43333,     0.43145,     0.42984,     0.42688,     0.42527,     0.42254,     0.41962,     0.41631,     0.41371,     0.41154,     0.41075,     0.40941,     0.40645,\n",
       "            0.40386,     0.40199,     0.40161,     0.39963,     0.39731,     0.39624,     0.39519,      0.3922,     0.38936,     0.38737,     0.38495,      0.3836,     0.38226,     0.38145,     0.37858,     0.37634,     0.37476,     0.37312,     0.37177,     0.37043,     0.36909,     0.36812,     0.36694,\n",
       "            0.36533,     0.36425,     0.36237,     0.36073,     0.35975,     0.35806,     0.35693,     0.35591,     0.35471,     0.35296,     0.35215,     0.35081,     0.34866,      0.3482,     0.34677,     0.34435,     0.34194,     0.33977,     0.33817,      0.3362,     0.33441,      0.3336,      0.3336,\n",
       "            0.33253,     0.33118,     0.33076,     0.32845,     0.32823,     0.32823,     0.32769,     0.32446,     0.32392,     0.32305,     0.32231,      0.3207,     0.32016,     0.31882,     0.31832,     0.31806,     0.31694,     0.31559,     0.31559,     0.31425,     0.31352,     0.31237,      0.3121,\n",
       "            0.31183,     0.31156,     0.31156,     0.31014,     0.30974,     0.30806,     0.30711,     0.30591,     0.30457,     0.30403,     0.30242,     0.30142,     0.30054,     0.30054,     0.29951,     0.29915,     0.29824,     0.29785,     0.29722,     0.29677,     0.29624,      0.2956,     0.29543,\n",
       "             0.2954,     0.29476,     0.29386,      0.2922,     0.29205,      0.2914,     0.29005,     0.29005,     0.28952,     0.28869,     0.28805,      0.2879,     0.28678,     0.28614,     0.28602,     0.28495,     0.28414,     0.28351,     0.28333,     0.28306,     0.28264,     0.28253,     0.28253,\n",
       "            0.28253,     0.28207,     0.28172,     0.28118,       0.281,      0.2807,     0.28011,     0.27957,     0.27957,     0.27946,      0.2793,     0.27903,     0.27903,     0.27903,     0.27903,     0.27903,     0.27876,     0.27876,     0.27875,     0.27859,     0.27849,     0.27798,     0.27743,\n",
       "            0.27595,     0.27473,     0.27454,     0.27398,     0.27312,     0.27312,     0.27312,     0.27258,     0.27258,     0.27258,     0.27258,     0.27244,     0.27185,     0.27176,     0.27121,      0.2707,     0.27043,     0.27043,     0.27043,     0.27043,     0.27016,     0.26989,     0.26989,\n",
       "            0.26942,     0.26882,     0.26852,     0.26828,     0.26828,     0.26801,     0.26747,     0.26747,     0.26747,      0.2674,     0.26694,     0.26667,      0.2664,      0.2664,     0.26615,     0.26559,     0.26559,     0.26532,     0.26532,     0.26532,     0.26532,     0.26478,     0.26449,\n",
       "             0.2642,     0.26398,     0.26398,     0.26379,     0.26371,     0.26344,     0.26344,     0.26317,     0.26317,     0.26308,     0.26277,     0.26246,      0.2621,     0.26157,     0.26129,     0.26075,     0.25968,     0.25968,     0.25956,     0.25924,     0.25914,     0.25914,     0.25863,\n",
       "             0.2586,     0.25845,      0.2578,     0.25772,     0.25699,     0.25699,     0.25699,     0.25699,     0.25699,     0.25674,     0.25646,     0.25619,     0.25591,     0.25591,     0.25538,     0.25502,     0.25451,     0.25436,     0.25403,     0.25385,     0.25376,     0.25376,     0.25349,\n",
       "            0.25349,     0.25348,     0.25323,     0.25296,     0.25296,     0.25296,     0.25296,     0.25296,     0.25291,     0.25281,     0.25271,      0.2522,     0.25215,     0.25215,     0.25215,     0.25191,     0.25147,     0.25134,     0.25134,     0.25127,     0.25108,     0.25099,     0.25072,\n",
       "            0.25054,     0.25054,     0.25054,     0.25035,     0.25008,      0.2498,     0.24973,     0.24973,     0.24924,     0.24863,     0.24836,     0.24812,     0.24812,     0.24809,     0.24796,     0.24728,     0.24714,     0.24697,     0.24669,     0.24615,     0.24597,     0.24597,     0.24597,\n",
       "            0.24597,     0.24551,     0.24523,     0.24496,     0.24468,     0.24441,     0.24435,     0.24435,     0.24435,     0.24409,     0.24383,     0.24355,     0.24301,     0.24301,     0.24301,     0.24301,     0.24301,      0.2427,     0.24247,     0.24247,     0.24247,     0.24247,     0.24247,\n",
       "            0.24234,     0.24206,     0.24167,     0.24167,      0.2415,      0.2414,     0.24122,     0.24113,     0.24086,     0.24039,     0.24022,     0.24008,     0.23978,     0.23956,     0.23928,     0.23913,     0.23899,     0.23871,     0.23871,     0.23844,      0.2379,     0.23762,      0.2371,\n",
       "            0.23682,     0.23668,     0.23656,     0.23656,     0.23629,     0.23623,     0.23596,     0.23568,     0.23514,     0.23495,     0.23486,     0.23436,     0.23422,     0.23414,     0.23414,     0.23402,     0.23387,     0.23387,     0.23387,     0.23387,     0.23387,     0.23382,     0.23372,\n",
       "            0.23363,     0.23342,     0.23333,     0.23333,     0.23313,     0.23285,      0.2328,      0.2323,     0.23203,     0.23172,     0.23172,     0.23147,     0.23145,     0.23145,     0.23118,      0.2309,     0.23065,     0.23036,     0.23023,      0.2298,      0.2293,      0.2293,      0.2293,\n",
       "             0.2293,     0.22896,     0.22869,     0.22814,     0.22733,     0.22705,     0.22688,     0.22677,      0.2265,     0.22634,     0.22621,     0.22608,     0.22605,     0.22599,     0.22594,     0.22588,     0.22583,     0.22563,     0.22518,     0.22504,      0.2249,     0.22476,     0.22452,\n",
       "            0.22397,     0.22316,     0.22262,     0.22246,     0.22232,     0.22219,     0.22204,     0.22164,     0.22151,     0.22151,     0.22151,     0.22097,      0.2207,      0.2207,     0.22034,      0.2202,     0.22016,      0.2201,        0.22,     0.21991,     0.21967,     0.21935,     0.21935,\n",
       "            0.21935,     0.21896,     0.21883,     0.21856,     0.21855,     0.21774,     0.21745,     0.21715,     0.21706,     0.21697,     0.21676,      0.2164,     0.21594,     0.21559,     0.21559,     0.21559,     0.21522,     0.21508,     0.21467,     0.21453,     0.21436,     0.21421,     0.21412,\n",
       "            0.21403,     0.21364,     0.21351,     0.21283,     0.21269,     0.21237,     0.21201,     0.21188,     0.21156,     0.21124,     0.21116,     0.21108,     0.21045,     0.21031,     0.21019,     0.21009,        0.21,     0.20957,     0.20941,     0.20916,     0.20888,      0.2086,       0.208,\n",
       "            0.20793,     0.20786,      0.2075,      0.2072,     0.20663,      0.2065,     0.20627,     0.20572,     0.20545,     0.20517,     0.20497,     0.20448,     0.20403,     0.20403,     0.20393,     0.20345,     0.20334,     0.20323,     0.20269,     0.20242,     0.20214,      0.2016,     0.20103,\n",
       "            0.20064,      0.2001,     0.19973,     0.19973,     0.19927,     0.19892,     0.19889,     0.19875,      0.1983,     0.19785,     0.19681,     0.19627,     0.19624,     0.19624,     0.19477,     0.19449,     0.19422,     0.19313,     0.19247,     0.19164,      0.1914,     0.19137,     0.19119,\n",
       "            0.19094,     0.19067,     0.18985,     0.18965,     0.18944,     0.18916,     0.18879,     0.18848,     0.18793,      0.1872,     0.18698,      0.1867,     0.18643,     0.18575,     0.18575,     0.18575,     0.18547,     0.18528,     0.18504,     0.18477,     0.18409,     0.18387,     0.18347,\n",
       "            0.18313,     0.18205,     0.18177,     0.18136,     0.18112,     0.18093,     0.18067,     0.18039,     0.17918,     0.17836,     0.17768,     0.17687,      0.1766,     0.17642,     0.17618,     0.17596,     0.17522,     0.17463,     0.17427,     0.17352,     0.17332,     0.17304,     0.17241,\n",
       "            0.17182,     0.17154,     0.17108,     0.17074,     0.16937,     0.16909,     0.16882,     0.16882,       0.168,     0.16774,     0.16758,     0.16731,     0.16655,     0.16631,     0.16567,     0.16526,     0.16499,     0.16437,     0.16377,     0.16338,      0.1632,     0.16267,     0.16186,\n",
       "            0.16129,     0.16094,     0.16076,     0.15968,     0.15887,     0.15858,     0.15791,     0.15737,     0.15642,     0.15618,     0.15547,     0.15511,     0.15499,     0.15471,     0.15452,     0.15434,     0.15301,     0.15233,     0.15168,     0.15083,     0.14924,     0.14866,     0.14692,\n",
       "            0.14624,     0.14542,     0.14426,     0.14407,      0.1435,     0.14137,     0.14113,     0.14095,     0.13946,     0.13892,      0.1373,     0.13668,     0.13608,      0.1357,     0.13551,     0.13431,     0.13393,     0.13362,     0.13256,     0.13173,     0.13065,     0.12983,     0.12889,\n",
       "            0.12711,     0.12672,     0.12494,     0.12429,     0.12303,     0.12239,     0.12058,     0.11909,     0.11625,     0.11565,     0.11408,     0.11348,     0.11244,     0.11156,     0.11026,     0.10956,     0.10914,     0.10798,     0.10671,     0.10501,     0.10265,     0.10129,     0.10064,\n",
       "           0.099116,    0.097266,    0.096669,    0.095581,    0.095161,     0.09421,    0.091587,    0.091226,    0.090137,    0.088072,    0.087422,    0.085258,    0.083751,    0.082543,    0.080648,    0.078758,    0.078201,    0.076844,    0.074142,    0.072951,    0.072234,    0.070787,    0.069571,\n",
       "            0.06843,    0.066266,    0.064639,    0.062744,    0.062145,    0.060567,    0.059443,    0.058361,    0.056494,    0.055296,    0.055113,    0.054303,    0.054021,    0.053201,    0.052131,    0.051292,    0.049935,    0.049347,    0.048833,    0.046669,    0.045311,    0.043147,    0.041521,\n",
       "           0.040701,    0.039343,    0.038523,    0.037972,    0.037152,    0.036177,    0.035781,    0.035041,    0.034275,    0.033322,    0.032514,    0.031951,     0.03156,    0.030311,    0.028685,    0.028134,     0.02777,      0.0273,     0.02648,    0.025392,    0.023765,    0.022945,    0.022394,\n",
       "           0.021574,    0.021264,    0.020203,    0.019992,     0.01937,    0.018191,    0.017999,    0.017192,    0.016897,    0.016077,    0.015257,    0.014168,    0.013348,    0.012528,    0.011903,    0.011627,    0.011152,    0.010593,   0.0096341,   0.0094963,   0.0092084,   0.0084953,   0.0082198,\n",
       "          0.0079843,   0.0078006,     0.00746,   0.0073222,   0.0071599,   0.0069844,   0.0069155,   0.0068466,   0.0067777,   0.0066276,   0.0058077,   0.0053464,   0.0052086,   0.0050586,   0.0048749,   0.0042143,   0.0038452,   0.0035288,   0.0032533,   0.0031845,   0.0031385,   0.0030926,   0.0030467,\n",
       "          0.0030008,   0.0029312,   0.0025855,   0.0024088,   0.0022986,   0.0021884,   0.0021176,   0.0020675,   0.0020174,   0.0019673,   0.0019172,   0.0018283,   0.0016446,   0.0015778,   0.0015354,    0.001493,   0.0014506,   0.0014083,   0.0013659,   0.0012771,   0.0011393,   0.0010015,  0.00086377,\n",
       "         0.00078951,  0.00076051,   0.0007315,   0.0007025,  0.00067349,  0.00064449,  0.00061549,  0.00058648,  0.00055748,  0.00052675,  0.00049231,  0.00045787,  0.00042342,  0.00038898,  0.00035454,  0.00032009,  0.00028565,           0,           0,           0,           0,           0,           0,\n",
       "                  0,           0,           0,           0,           0,           0,           0,           0,           0,           0,           0,           0,           0,           0,           0,           0,           0,           0,           0,           0,           0,           0,           0,\n",
       "                  0,           0,           0,           0,           0,           0,           0,           0,           0,           0,           0]]), 'Confidence', 'Recall']]\n",
       "fitness: np.float64(0.27274742756722836)\n",
       "keys: ['metrics/precision(B)', 'metrics/recall(B)', 'metrics/mAP50(B)', 'metrics/mAP50-95(B)']\n",
       "maps: array([    0.25515])\n",
       "names: {0: 'ship'}\n",
       "plot: True\n",
       "results_dict: {'metrics/precision(B)': np.float64(0.5389511649559473), 'metrics/recall(B)': np.float64(0.39623655913978495), 'metrics/mAP50(B)': np.float64(0.4311101045164839), 'metrics/mAP50-95(B)': np.float64(0.25515157457286664), 'fitness': np.float64(0.27274742756722836)}\n",
       "save_dir: PosixPath('/home/jbenyam/cnnsat/runs/yolov8_ship_detection')\n",
       "speed: {'preprocess': 0.11986816177191965, 'inference': 0.5554747636543962, 'loss': 0.00030471326021894846, 'postprocess': 0.6654861617583876}\n",
       "task: 'detect'"
      ]
     },
     "execution_count": 2,
     "metadata": {},
     "output_type": "execute_result"
    }
   ],
   "source": [
    "###### Step 2. Setting up YOLOv8 for Transfer Learning\n",
    "model = YOLO('yolov8n.pt')  # Nano model is lightweight\n",
    "model.train(\n",
    "    data='/home/jbenyam/cnnsat/data/data.yaml',\n",
    "    epochs=10,\n",
    "    imgsz=640,\n",
    "    batch=8,\n",
    "    project= '/home/jbenyam/cnnsat/runs',\n",
    "    name='yolov8_ship_detection_v2',\n",
    "    verbose=True\n",
    ")\n"
   ]
  },
  {
   "cell_type": "markdown",
   "metadata": {},
   "source": []
  },
  {
   "cell_type": "markdown",
   "metadata": {},
   "source": [
    "##### Saving the Model"
   ]
  },
  {
   "cell_type": "code",
   "execution_count": 6,
   "metadata": {},
   "outputs": [
    {
     "name": "stdout",
     "output_type": "stream",
     "text": [
      "Ultralytics YOLOv8.2.96 🚀 Python-3.10.14 torch-2.4.1+cu121 CPU (Intel Core(TM) i9-14900KF)\n",
      "Model summary (fused): 168 layers, 3,005,843 parameters, 0 gradients, 8.1 GFLOPs\n",
      "\n",
      "\u001b[34m\u001b[1mPyTorch:\u001b[0m starting from '/home/jbenyam/cnnsat/runs/yolov8_ship_detection/weights/best.pt' with input shape (1, 3, 640, 640) BCHW and output shape(s) (1, 5, 8400) (6.0 MB)\n",
      "\n",
      "\u001b[34m\u001b[1mTorchScript:\u001b[0m starting export with torch 2.4.1+cu121...\n",
      "\u001b[34m\u001b[1mTorchScript:\u001b[0m export success ✅ 0.6s, saved as '/home/jbenyam/cnnsat/runs/yolov8_ship_detection/weights/best.torchscript' (11.9 MB)\n",
      "\n",
      "Export complete (2.0s)\n",
      "Results saved to \u001b[1m/home/jbenyam/cnnsat/runs/yolov8_ship_detection/weights\u001b[0m\n",
      "Predict:         yolo predict task=detect model=/home/jbenyam/cnnsat/runs/yolov8_ship_detection/weights/best.torchscript imgsz=640  \n",
      "Validate:        yolo val task=detect model=/home/jbenyam/cnnsat/runs/yolov8_ship_detection/weights/best.torchscript imgsz=640 data=/home/jbenyam/cnnsat/data/data.yaml  \n",
      "Visualize:       https://netron.app\n"
     ]
    },
    {
     "data": {
      "text/plain": [
       "'/home/jbenyam/cnnsat/runs/yolov8_ship_detection/weights/best.torchscript'"
      ]
     },
     "execution_count": 6,
     "metadata": {},
     "output_type": "execute_result"
    }
   ],
   "source": [
    "import torch\n",
    "\n",
    "# Save the model weights\n",
    "#torch.save(model.model.state_dict(), '/home/jbenyam/cnnsat/models/yolov8_ship_detection.pth')\n",
    "\n",
    "# Export the model in TorchScript format\n",
    "model.export(format='torchscript')  # TorchScript export, will save in the current directory\n"
   ]
  },
  {
   "cell_type": "markdown",
   "metadata": {},
   "source": [
    "## Baseline Model Evaluation"
   ]
  },
  {
   "attachments": {
    "image.png": {
     "image/png": "[encoded data removed]"
    }
   },
   "cell_type": "markdown",
   "metadata": {},
   "source": [
    "![image.png](attachment:image.png)"
   ]
  },
  {
   "cell_type": "markdown",
   "metadata": {},
   "source": [
    "#### Evaluation of Baseline Confusion Matrix:\n",
    "- True Positives (Top-left: ship predicted as ship): The model correctly identified 1,116 instances where a ship was present, and it predicted \"ship\" accurately.\n",
    "This is a positive outcome for your model, as these predictions were correct.\n",
    "\n",
    "- False Negatives (Bottom-left: ship predicted as background):\n",
    "\n",
    "There are 2,604 instances where a ship was present, but the model incorrectly predicted \"background.\"\n",
    "\n",
    "This is a significant source of error, as the model failed to detect the ships in these cases.\n",
    "\n",
    "False Positives (Top-right: background predicted as ship): The model predicted 226 instances of background as \"ship.\"  \n",
    "\n",
    "- These are false positives where the model incorrectly identified non-ship objects as ships.\n",
    "\n",
    "True Negatives (Bottom-right: background predicted as background):\n",
    "\n",
    "It appears that the model had no cases of true negatives. This suggests the absence of any instances where the background was correctly classified as background, which might indicate a dataset imbalance or issue in how the confusion matrix was computed.\n",
    "\n",
    "#### Key insights:\n",
    "\n",
    "High False Negative Rate: The model has a large number of ships that were misclassified as background, indicating that it may not be sensitive enough in detecting ships.\n",
    "\n",
    "False Positives: The model has some misclassifications where it incorrectly detected ships in non-ship areas.\n",
    "\n",
    "True Positive Rate: While the model correctly detected ships, the high false negative count significantly impacts its performance.\n",
    "\n",
    "#### Suggestions:\n",
    "\n",
    "Model Improvement: You may need to adjust your model to improve sensitivity toward ships, potentially by tuning hyperparameters, collecting more ship data, or augmenting your dataset.\n",
    "\n",
    "Class Imbalance: The confusion matrix hints at a possible class imbalance (many more background instances), which could explain the large number of false negatives. Techniques such as resampling or weighted loss functions might help."
   ]
  },
  {
   "cell_type": "markdown",
   "metadata": {},
   "source": [
    "##### Loading Model & Testing Inference"
   ]
  },
  {
   "cell_type": "code",
   "execution_count": null,
   "metadata": {},
   "outputs": [],
   "source": [
    "# Using PyTorch\n",
    "model = YOLO('yolov8n.pt')  # Initialize the model architecture\n",
    "model.model.load_state_dict(torch.load('/home/jbenyam/cnnsat/models/yolov8_ship_detection.pth'))\n",
    "\n",
    "results = model.predict(source='path_to_test_image.jpg', show=True) # Update with the path to your test image\n",
    "print(results)\n"
   ]
  },
  {
   "cell_type": "markdown",
   "metadata": {},
   "source": [
    "### Model Training v2 - Increasing Epoch size to 100"
   ]
  },
  {
   "cell_type": "code",
   "execution_count": 7,
   "metadata": {},
   "outputs": [
    {
     "name": "stdout",
     "output_type": "stream",
     "text": [
      "Ultralytics YOLOv8.2.96 🚀 Python-3.10.14 torch-2.4.1+cu121 CUDA:0 (NVIDIA GeForce RTX 4080 SUPER, 16376MiB)\n",
      "\u001b[34m\u001b[1mengine/trainer: \u001b[0mtask=detect, mode=train, model=yolov8n.pt, data=/home/jbenyam/cnnsat/data/data.yaml, epochs=100, time=None, patience=100, batch=8, imgsz=640, save=True, save_period=-1, cache=False, device=None, workers=8, project=/home/jbenyam/cnnsat/runs, name=yolov8_ship_detection_v2, exist_ok=False, pretrained=True, optimizer=auto, verbose=True, seed=0, deterministic=True, single_cls=False, rect=False, cos_lr=False, close_mosaic=10, resume=False, amp=True, fraction=1.0, profile=False, freeze=None, multi_scale=False, overlap_mask=True, mask_ratio=4, dropout=0.0, val=True, split=val, save_json=False, save_hybrid=False, conf=None, iou=0.7, max_det=300, half=False, dnn=False, plots=True, source=None, vid_stride=1, stream_buffer=False, visualize=False, augment=False, agnostic_nms=False, classes=None, retina_masks=False, embed=None, show=False, save_frames=False, save_txt=False, save_conf=False, save_crop=False, show_labels=True, show_conf=True, show_boxes=True, line_width=None, format=torchscript, keras=False, optimize=False, int8=False, dynamic=False, simplify=False, opset=None, workspace=4, nms=False, lr0=0.01, lrf=0.01, momentum=0.937, weight_decay=0.0005, warmup_epochs=3.0, warmup_momentum=0.8, warmup_bias_lr=0.1, box=7.5, cls=0.5, dfl=1.5, pose=12.0, kobj=1.0, label_smoothing=0.0, nbs=64, hsv_h=0.015, hsv_s=0.7, hsv_v=0.4, degrees=0.0, translate=0.1, scale=0.5, shear=0.0, perspective=0.0, flipud=0.0, fliplr=0.5, bgr=0.0, mosaic=1.0, mixup=0.0, copy_paste=0.0, auto_augment=randaugment, erasing=0.4, crop_fraction=1.0, cfg=None, tracker=botsort.yaml, save_dir=/home/jbenyam/cnnsat/runs/yolov8_ship_detection_v2\n",
      "Overriding model.yaml nc=80 with nc=1\n",
      "\n",
      "                   from  n    params  module                                       arguments                     \n",
      "  0                  -1  1       464  ultralytics.nn.modules.conv.Conv             [3, 16, 3, 2]                 \n",
      "  1                  -1  1      4672  ultralytics.nn.modules.conv.Conv             [16, 32, 3, 2]                \n",
      "  2                  -1  1      7360  ultralytics.nn.modules.block.C2f             [32, 32, 1, True]             \n",
      "  3                  -1  1     18560  ultralytics.nn.modules.conv.Conv             [32, 64, 3, 2]                \n",
      "  4                  -1  2     49664  ultralytics.nn.modules.block.C2f             [64, 64, 2, True]             \n",
      "  5                  -1  1     73984  ultralytics.nn.modules.conv.Conv             [64, 128, 3, 2]               \n",
      "  6                  -1  2    197632  ultralytics.nn.modules.block.C2f             [128, 128, 2, True]           \n",
      "  7                  -1  1    295424  ultralytics.nn.modules.conv.Conv             [128, 256, 3, 2]              \n",
      "  8                  -1  1    460288  ultralytics.nn.modules.block.C2f             [256, 256, 1, True]           \n",
      "  9                  -1  1    164608  ultralytics.nn.modules.block.SPPF            [256, 256, 5]                 \n",
      " 10                  -1  1         0  torch.nn.modules.upsampling.Upsample         [None, 2, 'nearest']          \n",
      " 11             [-1, 6]  1         0  ultralytics.nn.modules.conv.Concat           [1]                           \n",
      " 12                  -1  1    148224  ultralytics.nn.modules.block.C2f             [384, 128, 1]                 \n",
      " 13                  -1  1         0  torch.nn.modules.upsampling.Upsample         [None, 2, 'nearest']          \n",
      " 14             [-1, 4]  1         0  ultralytics.nn.modules.conv.Concat           [1]                           \n",
      " 15                  -1  1     37248  ultralytics.nn.modules.block.C2f             [192, 64, 1]                  \n",
      " 16                  -1  1     36992  ultralytics.nn.modules.conv.Conv             [64, 64, 3, 2]                \n",
      " 17            [-1, 12]  1         0  ultralytics.nn.modules.conv.Concat           [1]                           \n",
      " 18                  -1  1    123648  ultralytics.nn.modules.block.C2f             [192, 128, 1]                 \n",
      " 19                  -1  1    147712  ultralytics.nn.modules.conv.Conv             [128, 128, 3, 2]              \n",
      " 20             [-1, 9]  1         0  ultralytics.nn.modules.conv.Concat           [1]                           \n",
      " 21                  -1  1    493056  ultralytics.nn.modules.block.C2f             [384, 256, 1]                 \n",
      " 22        [15, 18, 21]  1    751507  ultralytics.nn.modules.head.Detect           [1, [64, 128, 256]]           \n",
      "Model summary: 225 layers, 3,011,043 parameters, 3,011,027 gradients, 8.2 GFLOPs\n",
      "\n",
      "Transferred 319/355 items from pretrained weights\n",
      "\u001b[34m\u001b[1mTensorBoard: \u001b[0mStart with 'tensorboard --logdir /home/jbenyam/cnnsat/runs/yolov8_ship_detection_v2', view at http://localhost:6006/\n",
      "Freezing layer 'model.22.dfl.conv.weight'\n",
      "\u001b[34m\u001b[1mAMP: \u001b[0mrunning Automatic Mixed Precision (AMP) checks with YOLOv8n...\n",
      "\u001b[34m\u001b[1mAMP: \u001b[0mchecks passed ✅\n"
     ]
    },
    {
     "name": "stderr",
     "output_type": "stream",
     "text": [
      "\u001b[34m\u001b[1mtrain: \u001b[0mScanning /home/jbenyam/cnnsat/data/train/labels.cache... 9697 images, 351 backgrounds, 2 corrupt: 100%|██████████| 9697/9697 [00:00<?, ?it/s]"
     ]
    },
    {
     "name": "stdout",
     "output_type": "stream",
     "text": [
      "\u001b[34m\u001b[1mtrain: \u001b[0mWARNING ⚠️ /home/jbenyam/cnnsat/data/train/images/1__20180714_180427_1029__-118-20071740708637_33-73029905538088_png.rf.330efa80ecbf49d6ceac7071288d64b4.jpg: ignoring corrupt image/label: non-normalized or out of bounds coordinates [1.0248994]\n",
      "\u001b[34m\u001b[1mtrain: \u001b[0mWARNING ⚠️ /home/jbenyam/cnnsat/data/train/images/1__20180714_180427_1029__-118-21100741654266_33-732092454738826_png.rf.7243f2b58b505e51950850f4b26081ba.jpg: ignoring corrupt image/label: non-normalized or out of bounds coordinates [1.0078689]\n",
      "WARNING ⚠️ Box and segment counts should be equal, but got len(segments) = 709, len(boxes) = 19454. To resolve this only boxes will be used and all segments will be removed. To avoid this please supply either a detect or segment dataset, not a detect-segment mixed dataset.\n"
     ]
    },
    {
     "name": "stderr",
     "output_type": "stream",
     "text": [
      "\n",
      "\u001b[34m\u001b[1mval: \u001b[0mScanning /home/jbenyam/cnnsat/data/valid/labels.cache... 2165 images, 68 backgrounds, 0 corrupt: 100%|██████████| 2165/2165 [00:00<?, ?it/s]"
     ]
    },
    {
     "name": "stdout",
     "output_type": "stream",
     "text": [
      "WARNING ⚠️ Box and segment counts should be equal, but got len(segments) = 172, len(boxes) = 3720. To resolve this only boxes will be used and all segments will be removed. To avoid this please supply either a detect or segment dataset, not a detect-segment mixed dataset.\n"
     ]
    },
    {
     "name": "stderr",
     "output_type": "stream",
     "text": [
      "\n"
     ]
    },
    {
     "name": "stdout",
     "output_type": "stream",
     "text": [
      "Plotting labels to /home/jbenyam/cnnsat/runs/yolov8_ship_detection_v2/labels.jpg... \n",
      "\u001b[34m\u001b[1moptimizer:\u001b[0m 'optimizer=auto' found, ignoring 'lr0=0.01' and 'momentum=0.937' and determining best 'optimizer', 'lr0' and 'momentum' automatically... \n",
      "\u001b[34m\u001b[1moptimizer:\u001b[0m SGD(lr=0.01, momentum=0.9) with parameter groups 57 weight(decay=0.0), 64 weight(decay=0.0005), 63 bias(decay=0.0)\n",
      "\u001b[34m\u001b[1mTensorBoard: \u001b[0mmodel graph visualization added ✅\n",
      "Image sizes 640 train, 640 val\n",
      "Using 8 dataloader workers\n",
      "Logging results to \u001b[1m/home/jbenyam/cnnsat/runs/yolov8_ship_detection_v2\u001b[0m\n",
      "Starting training for 100 epochs...\n",
      "\n",
      "      Epoch    GPU_mem   box_loss   cls_loss   dfl_loss  Instances       Size\n"
     ]
    },
    {
     "name": "stderr",
     "output_type": "stream",
     "text": [
      "      1/100      2.09G      1.724      2.723      1.524         15        640: 100%|██████████| 1212/1212 [01:04<00:00, 18.82it/s]\n",
      "                 Class     Images  Instances      Box(P          R      mAP50  mAP50-95): 100%|██████████| 136/136 [00:07<00:00, 18.69it/s]\n"
     ]
    },
    {
     "name": "stdout",
     "output_type": "stream",
     "text": [
      "                   all       2165       3720      0.421      0.306      0.288      0.143\n",
      "\n",
      "      Epoch    GPU_mem   box_loss   cls_loss   dfl_loss  Instances       Size\n"
     ]
    },
    {
     "name": "stderr",
     "output_type": "stream",
     "text": [
      "      2/100      2.01G      1.702      1.916      1.503          8        640: 100%|██████████| 1212/1212 [01:04<00:00, 18.90it/s]\n",
      "                 Class     Images  Instances      Box(P          R      mAP50  mAP50-95): 100%|██████████| 136/136 [00:10<00:00, 13.53it/s]\n"
     ]
    },
    {
     "name": "stdout",
     "output_type": "stream",
     "text": [
      "                   all       2165       3720      0.457      0.316      0.301      0.142\n",
      "\n",
      "      Epoch    GPU_mem   box_loss   cls_loss   dfl_loss  Instances       Size\n"
     ]
    },
    {
     "name": "stderr",
     "output_type": "stream",
     "text": [
      "      3/100      2.12G      1.794      1.824      1.573          9        640: 100%|██████████| 1212/1212 [01:01<00:00, 19.74it/s]\n",
      "                 Class     Images  Instances      Box(P          R      mAP50  mAP50-95): 100%|██████████| 136/136 [00:07<00:00, 17.84it/s]\n"
     ]
    },
    {
     "name": "stdout",
     "output_type": "stream",
     "text": [
      "                   all       2165       3720      0.348       0.26      0.243      0.115\n",
      "\n",
      "      Epoch    GPU_mem   box_loss   cls_loss   dfl_loss  Instances       Size\n"
     ]
    },
    {
     "name": "stderr",
     "output_type": "stream",
     "text": [
      "      4/100      1.88G       1.84      1.828       1.61         24        640: 100%|██████████| 1212/1212 [00:53<00:00, 22.61it/s]\n",
      "                 Class     Images  Instances      Box(P          R      mAP50  mAP50-95): 100%|██████████| 136/136 [00:06<00:00, 21.30it/s]\n"
     ]
    },
    {
     "name": "stdout",
     "output_type": "stream",
     "text": [
      "                   all       2165       3720      0.384      0.264      0.259      0.125\n",
      "\n",
      "      Epoch    GPU_mem   box_loss   cls_loss   dfl_loss  Instances       Size\n"
     ]
    },
    {
     "name": "stderr",
     "output_type": "stream",
     "text": [
      "      5/100      2.26G      1.778      1.691      1.568         15        640: 100%|██████████| 1212/1212 [00:52<00:00, 23.08it/s]\n",
      "                 Class     Images  Instances      Box(P          R      mAP50  mAP50-95): 100%|██████████| 136/136 [00:06<00:00, 20.13it/s]"
     ]
    },
    {
     "name": "stdout",
     "output_type": "stream",
     "text": [
      "                   all       2165       3720      0.435      0.352      0.338      0.173\n"
     ]
    },
    {
     "name": "stderr",
     "output_type": "stream",
     "text": [
      "\n"
     ]
    },
    {
     "name": "stdout",
     "output_type": "stream",
     "text": [
      "\n",
      "      Epoch    GPU_mem   box_loss   cls_loss   dfl_loss  Instances       Size\n"
     ]
    },
    {
     "name": "stderr",
     "output_type": "stream",
     "text": [
      "      6/100       1.7G      1.745      1.664      1.552         21        640: 100%|██████████| 1212/1212 [00:52<00:00, 23.03it/s]\n",
      "                 Class     Images  Instances      Box(P          R      mAP50  mAP50-95): 100%|██████████| 136/136 [00:06<00:00, 20.90it/s]\n"
     ]
    },
    {
     "name": "stdout",
     "output_type": "stream",
     "text": [
      "                   all       2165       3720       0.41      0.337      0.322      0.172\n",
      "\n",
      "      Epoch    GPU_mem   box_loss   cls_loss   dfl_loss  Instances       Size\n"
     ]
    },
    {
     "name": "stderr",
     "output_type": "stream",
     "text": [
      "      7/100       2.3G      1.689      1.546       1.51          8        640: 100%|██████████| 1212/1212 [00:55<00:00, 21.89it/s]\n",
      "                 Class     Images  Instances      Box(P          R      mAP50  mAP50-95): 100%|██████████| 136/136 [00:06<00:00, 19.66it/s]"
     ]
    },
    {
     "name": "stdout",
     "output_type": "stream",
     "text": [
      "                   all       2165       3720      0.502       0.36      0.363       0.19\n"
     ]
    },
    {
     "name": "stderr",
     "output_type": "stream",
     "text": [
      "\n"
     ]
    },
    {
     "name": "stdout",
     "output_type": "stream",
     "text": [
      "\n",
      "      Epoch    GPU_mem   box_loss   cls_loss   dfl_loss  Instances       Size\n"
     ]
    },
    {
     "name": "stderr",
     "output_type": "stream",
     "text": [
      "      8/100       1.8G      1.659      1.511      1.499         19        640: 100%|██████████| 1212/1212 [00:54<00:00, 22.04it/s]\n",
      "                 Class     Images  Instances      Box(P          R      mAP50  mAP50-95): 100%|██████████| 136/136 [00:07<00:00, 19.21it/s]\n"
     ]
    },
    {
     "name": "stdout",
     "output_type": "stream",
     "text": [
      "                   all       2165       3720      0.475      0.361      0.356      0.183\n",
      "\n",
      "      Epoch    GPU_mem   box_loss   cls_loss   dfl_loss  Instances       Size\n"
     ]
    },
    {
     "name": "stderr",
     "output_type": "stream",
     "text": [
      "      9/100      1.74G      1.631      1.462       1.48         20        640: 100%|██████████| 1212/1212 [00:59<00:00, 20.54it/s]\n",
      "                 Class     Images  Instances      Box(P          R      mAP50  mAP50-95): 100%|██████████| 136/136 [00:06<00:00, 20.55it/s]"
     ]
    },
    {
     "name": "stdout",
     "output_type": "stream",
     "text": [
      "                   all       2165       3720      0.418      0.376      0.353      0.184\n"
     ]
    },
    {
     "name": "stderr",
     "output_type": "stream",
     "text": [
      "\n"
     ]
    },
    {
     "name": "stdout",
     "output_type": "stream",
     "text": [
      "\n",
      "      Epoch    GPU_mem   box_loss   cls_loss   dfl_loss  Instances       Size\n"
     ]
    },
    {
     "name": "stderr",
     "output_type": "stream",
     "text": [
      "     10/100      1.87G      1.616      1.451      1.462         21        640: 100%|██████████| 1212/1212 [01:01<00:00, 19.80it/s]\n",
      "                 Class     Images  Instances      Box(P          R      mAP50  mAP50-95): 100%|██████████| 136/136 [00:07<00:00, 17.28it/s]"
     ]
    },
    {
     "name": "stdout",
     "output_type": "stream",
     "text": [
      "                   all       2165       3720      0.532      0.358      0.384      0.212\n"
     ]
    },
    {
     "name": "stderr",
     "output_type": "stream",
     "text": [
      "\n"
     ]
    },
    {
     "name": "stdout",
     "output_type": "stream",
     "text": [
      "\n",
      "      Epoch    GPU_mem   box_loss   cls_loss   dfl_loss  Instances       Size\n"
     ]
    },
    {
     "name": "stderr",
     "output_type": "stream",
     "text": [
      "     11/100      1.75G      1.588      1.394      1.445          7        640: 100%|██████████| 1212/1212 [00:54<00:00, 22.19it/s]\n",
      "                 Class     Images  Instances      Box(P          R      mAP50  mAP50-95): 100%|██████████| 136/136 [00:06<00:00, 20.49it/s]"
     ]
    },
    {
     "name": "stdout",
     "output_type": "stream",
     "text": [
      "                   all       2165       3720      0.493      0.345      0.382      0.215\n"
     ]
    },
    {
     "name": "stderr",
     "output_type": "stream",
     "text": [
      "\n"
     ]
    },
    {
     "name": "stdout",
     "output_type": "stream",
     "text": [
      "\n",
      "      Epoch    GPU_mem   box_loss   cls_loss   dfl_loss  Instances       Size\n"
     ]
    },
    {
     "name": "stderr",
     "output_type": "stream",
     "text": [
      "     12/100      1.88G      1.579      1.371      1.429         23        640: 100%|██████████| 1212/1212 [00:59<00:00, 20.21it/s]\n",
      "                 Class     Images  Instances      Box(P          R      mAP50  mAP50-95): 100%|██████████| 136/136 [00:08<00:00, 16.86it/s]"
     ]
    },
    {
     "name": "stdout",
     "output_type": "stream",
     "text": [
      "                   all       2165       3720      0.519      0.387      0.395      0.217\n"
     ]
    },
    {
     "name": "stderr",
     "output_type": "stream",
     "text": [
      "\n"
     ]
    },
    {
     "name": "stdout",
     "output_type": "stream",
     "text": [
      "\n",
      "      Epoch    GPU_mem   box_loss   cls_loss   dfl_loss  Instances       Size\n"
     ]
    },
    {
     "name": "stderr",
     "output_type": "stream",
     "text": [
      "     13/100      2.46G      1.567      1.365      1.421         10        640: 100%|██████████| 1212/1212 [00:53<00:00, 22.79it/s]\n",
      "                 Class     Images  Instances      Box(P          R      mAP50  mAP50-95): 100%|██████████| 136/136 [00:07<00:00, 17.03it/s]"
     ]
    },
    {
     "name": "stdout",
     "output_type": "stream",
     "text": [
      "                   all       2165       3720      0.513      0.372      0.394      0.216\n"
     ]
    },
    {
     "name": "stderr",
     "output_type": "stream",
     "text": [
      "\n"
     ]
    },
    {
     "name": "stdout",
     "output_type": "stream",
     "text": [
      "\n",
      "      Epoch    GPU_mem   box_loss   cls_loss   dfl_loss  Instances       Size\n"
     ]
    },
    {
     "name": "stderr",
     "output_type": "stream",
     "text": [
      "     14/100      2.25G      1.553      1.342      1.416         12        640: 100%|██████████| 1212/1212 [00:54<00:00, 22.20it/s]\n",
      "                 Class     Images  Instances      Box(P          R      mAP50  mAP50-95): 100%|██████████| 136/136 [00:06<00:00, 21.32it/s]\n"
     ]
    },
    {
     "name": "stdout",
     "output_type": "stream",
     "text": [
      "                   all       2165       3720      0.522      0.365        0.4      0.221\n",
      "\n",
      "      Epoch    GPU_mem   box_loss   cls_loss   dfl_loss  Instances       Size\n"
     ]
    },
    {
     "name": "stderr",
     "output_type": "stream",
     "text": [
      "     15/100      1.63G      1.537      1.323      1.409         17        640: 100%|██████████| 1212/1212 [01:01<00:00, 19.77it/s]\n",
      "                 Class     Images  Instances      Box(P          R      mAP50  mAP50-95): 100%|██████████| 136/136 [00:07<00:00, 18.25it/s]"
     ]
    },
    {
     "name": "stdout",
     "output_type": "stream",
     "text": [
      "                   all       2165       3720      0.511      0.368      0.396       0.22\n"
     ]
    },
    {
     "name": "stderr",
     "output_type": "stream",
     "text": [
      "\n"
     ]
    },
    {
     "name": "stdout",
     "output_type": "stream",
     "text": [
      "\n",
      "      Epoch    GPU_mem   box_loss   cls_loss   dfl_loss  Instances       Size\n"
     ]
    },
    {
     "name": "stderr",
     "output_type": "stream",
     "text": [
      "     16/100      1.73G      1.518      1.295      1.406         17        640: 100%|██████████| 1212/1212 [01:01<00:00, 19.79it/s]\n",
      "                 Class     Images  Instances      Box(P          R      mAP50  mAP50-95): 100%|██████████| 136/136 [00:08<00:00, 16.97it/s]"
     ]
    },
    {
     "name": "stdout",
     "output_type": "stream",
     "text": [
      "                   all       2165       3720      0.541        0.4      0.418       0.23\n"
     ]
    },
    {
     "name": "stderr",
     "output_type": "stream",
     "text": [
      "\n"
     ]
    },
    {
     "name": "stdout",
     "output_type": "stream",
     "text": [
      "\n",
      "      Epoch    GPU_mem   box_loss   cls_loss   dfl_loss  Instances       Size\n"
     ]
    },
    {
     "name": "stderr",
     "output_type": "stream",
     "text": [
      "     17/100      1.82G      1.515      1.285      1.391         25        640: 100%|██████████| 1212/1212 [00:59<00:00, 20.37it/s]\n",
      "                 Class     Images  Instances      Box(P          R      mAP50  mAP50-95): 100%|██████████| 136/136 [00:06<00:00, 21.51it/s]"
     ]
    },
    {
     "name": "stdout",
     "output_type": "stream",
     "text": [
      "                   all       2165       3720      0.551      0.418      0.427      0.235\n"
     ]
    },
    {
     "name": "stderr",
     "output_type": "stream",
     "text": [
      "\n"
     ]
    },
    {
     "name": "stdout",
     "output_type": "stream",
     "text": [
      "\n",
      "      Epoch    GPU_mem   box_loss   cls_loss   dfl_loss  Instances       Size\n"
     ]
    },
    {
     "name": "stderr",
     "output_type": "stream",
     "text": [
      "     18/100      2.21G      1.495       1.27       1.38         14        640: 100%|██████████| 1212/1212 [00:59<00:00, 20.28it/s]\n",
      "                 Class     Images  Instances      Box(P          R      mAP50  mAP50-95): 100%|██████████| 136/136 [00:06<00:00, 19.92it/s]"
     ]
    },
    {
     "name": "stdout",
     "output_type": "stream",
     "text": [
      "                   all       2165       3720      0.517      0.394      0.409      0.225\n"
     ]
    },
    {
     "name": "stderr",
     "output_type": "stream",
     "text": [
      "\n"
     ]
    },
    {
     "name": "stdout",
     "output_type": "stream",
     "text": [
      "\n",
      "      Epoch    GPU_mem   box_loss   cls_loss   dfl_loss  Instances       Size\n"
     ]
    },
    {
     "name": "stderr",
     "output_type": "stream",
     "text": [
      "     19/100      1.92G      1.476       1.24      1.375         25        640: 100%|██████████| 1212/1212 [01:00<00:00, 19.87it/s]\n",
      "                 Class     Images  Instances      Box(P          R      mAP50  mAP50-95): 100%|██████████| 136/136 [00:08<00:00, 16.28it/s]"
     ]
    },
    {
     "name": "stdout",
     "output_type": "stream",
     "text": [
      "                   all       2165       3720       0.54      0.406      0.417      0.235\n"
     ]
    },
    {
     "name": "stderr",
     "output_type": "stream",
     "text": [
      "\n"
     ]
    },
    {
     "name": "stdout",
     "output_type": "stream",
     "text": [
      "\n",
      "      Epoch    GPU_mem   box_loss   cls_loss   dfl_loss  Instances       Size\n"
     ]
    },
    {
     "name": "stderr",
     "output_type": "stream",
     "text": [
      "     20/100      1.92G      1.474      1.245      1.375         23        640: 100%|██████████| 1212/1212 [01:03<00:00, 19.02it/s]\n",
      "                 Class     Images  Instances      Box(P          R      mAP50  mAP50-95): 100%|██████████| 136/136 [00:08<00:00, 15.92it/s]"
     ]
    },
    {
     "name": "stdout",
     "output_type": "stream",
     "text": [
      "                   all       2165       3720      0.559      0.395      0.426      0.242\n"
     ]
    },
    {
     "name": "stderr",
     "output_type": "stream",
     "text": [
      "\n"
     ]
    },
    {
     "name": "stdout",
     "output_type": "stream",
     "text": [
      "\n",
      "      Epoch    GPU_mem   box_loss   cls_loss   dfl_loss  Instances       Size\n"
     ]
    },
    {
     "name": "stderr",
     "output_type": "stream",
     "text": [
      "     21/100      1.84G      1.476      1.252      1.371         22        640: 100%|██████████| 1212/1212 [01:02<00:00, 19.50it/s]\n",
      "                 Class     Images  Instances      Box(P          R      mAP50  mAP50-95): 100%|██████████| 136/136 [00:06<00:00, 21.53it/s]"
     ]
    },
    {
     "name": "stdout",
     "output_type": "stream",
     "text": [
      "                   all       2165       3720      0.553      0.395      0.424      0.245\n"
     ]
    },
    {
     "name": "stderr",
     "output_type": "stream",
     "text": [
      "\n"
     ]
    },
    {
     "name": "stdout",
     "output_type": "stream",
     "text": [
      "\n",
      "      Epoch    GPU_mem   box_loss   cls_loss   dfl_loss  Instances       Size\n"
     ]
    },
    {
     "name": "stderr",
     "output_type": "stream",
     "text": [
      "     22/100      1.78G      1.461      1.216      1.359         15        640: 100%|██████████| 1212/1212 [00:58<00:00, 20.79it/s]\n",
      "                 Class     Images  Instances      Box(P          R      mAP50  mAP50-95): 100%|██████████| 136/136 [00:06<00:00, 21.31it/s]"
     ]
    },
    {
     "name": "stdout",
     "output_type": "stream",
     "text": [
      "                   all       2165       3720      0.537      0.405      0.429      0.242\n"
     ]
    },
    {
     "name": "stderr",
     "output_type": "stream",
     "text": [
      "\n"
     ]
    },
    {
     "name": "stdout",
     "output_type": "stream",
     "text": [
      "\n",
      "      Epoch    GPU_mem   box_loss   cls_loss   dfl_loss  Instances       Size\n"
     ]
    },
    {
     "name": "stderr",
     "output_type": "stream",
     "text": [
      "     23/100      1.57G      1.449      1.208      1.351         19        640: 100%|██████████| 1212/1212 [00:58<00:00, 20.81it/s]\n",
      "                 Class     Images  Instances      Box(P          R      mAP50  mAP50-95): 100%|██████████| 136/136 [00:06<00:00, 21.37it/s]"
     ]
    },
    {
     "name": "stdout",
     "output_type": "stream",
     "text": [
      "                   all       2165       3720      0.531      0.408      0.428      0.244\n"
     ]
    },
    {
     "name": "stderr",
     "output_type": "stream",
     "text": [
      "\n"
     ]
    },
    {
     "name": "stdout",
     "output_type": "stream",
     "text": [
      "\n",
      "      Epoch    GPU_mem   box_loss   cls_loss   dfl_loss  Instances       Size\n"
     ]
    },
    {
     "name": "stderr",
     "output_type": "stream",
     "text": [
      "     24/100      1.83G      1.453      1.197      1.348         15        640: 100%|██████████| 1212/1212 [00:52<00:00, 23.14it/s]\n",
      "                 Class     Images  Instances      Box(P          R      mAP50  mAP50-95): 100%|██████████| 136/136 [00:07<00:00, 18.30it/s]\n"
     ]
    },
    {
     "name": "stdout",
     "output_type": "stream",
     "text": [
      "                   all       2165       3720       0.56      0.429      0.443      0.253\n",
      "\n",
      "      Epoch    GPU_mem   box_loss   cls_loss   dfl_loss  Instances       Size\n"
     ]
    },
    {
     "name": "stderr",
     "output_type": "stream",
     "text": [
      "     25/100      1.48G      1.452      1.203      1.353         12        640: 100%|██████████| 1212/1212 [00:54<00:00, 22.22it/s]\n",
      "                 Class     Images  Instances      Box(P          R      mAP50  mAP50-95): 100%|██████████| 136/136 [00:06<00:00, 20.86it/s]\n"
     ]
    },
    {
     "name": "stdout",
     "output_type": "stream",
     "text": [
      "                   all       2165       3720      0.538      0.421       0.44      0.253\n",
      "\n",
      "      Epoch    GPU_mem   box_loss   cls_loss   dfl_loss  Instances       Size\n"
     ]
    },
    {
     "name": "stderr",
     "output_type": "stream",
     "text": [
      "     26/100      1.81G      1.449      1.191      1.345         12        640: 100%|██████████| 1212/1212 [00:57<00:00, 20.97it/s]\n",
      "                 Class     Images  Instances      Box(P          R      mAP50  mAP50-95): 100%|██████████| 136/136 [00:06<00:00, 20.90it/s]\n"
     ]
    },
    {
     "name": "stdout",
     "output_type": "stream",
     "text": [
      "                   all       2165       3720      0.545      0.418      0.445      0.257\n",
      "\n",
      "      Epoch    GPU_mem   box_loss   cls_loss   dfl_loss  Instances       Size\n"
     ]
    },
    {
     "name": "stderr",
     "output_type": "stream",
     "text": [
      "     27/100      2.19G      1.437      1.183      1.334         10        640: 100%|██████████| 1212/1212 [00:51<00:00, 23.39it/s]\n",
      "                 Class     Images  Instances      Box(P          R      mAP50  mAP50-95): 100%|██████████| 136/136 [00:06<00:00, 21.05it/s]"
     ]
    },
    {
     "name": "stdout",
     "output_type": "stream",
     "text": [
      "                   all       2165       3720      0.542      0.441      0.446      0.258\n"
     ]
    },
    {
     "name": "stderr",
     "output_type": "stream",
     "text": [
      "\n"
     ]
    },
    {
     "name": "stdout",
     "output_type": "stream",
     "text": [
      "\n",
      "      Epoch    GPU_mem   box_loss   cls_loss   dfl_loss  Instances       Size\n"
     ]
    },
    {
     "name": "stderr",
     "output_type": "stream",
     "text": [
      "     28/100       1.6G      1.422      1.166      1.328         23        640: 100%|██████████| 1212/1212 [00:56<00:00, 21.34it/s]\n",
      "                 Class     Images  Instances      Box(P          R      mAP50  mAP50-95): 100%|██████████| 136/136 [00:09<00:00, 15.07it/s]"
     ]
    },
    {
     "name": "stdout",
     "output_type": "stream",
     "text": [
      "                   all       2165       3720      0.583       0.41      0.448      0.262\n"
     ]
    },
    {
     "name": "stderr",
     "output_type": "stream",
     "text": [
      "\n"
     ]
    },
    {
     "name": "stdout",
     "output_type": "stream",
     "text": [
      "\n",
      "      Epoch    GPU_mem   box_loss   cls_loss   dfl_loss  Instances       Size\n"
     ]
    },
    {
     "name": "stderr",
     "output_type": "stream",
     "text": [
      "     29/100       1.9G      1.425      1.168      1.327         34        640: 100%|██████████| 1212/1212 [00:52<00:00, 22.98it/s]\n",
      "                 Class     Images  Instances      Box(P          R      mAP50  mAP50-95): 100%|██████████| 136/136 [00:06<00:00, 21.55it/s]"
     ]
    },
    {
     "name": "stdout",
     "output_type": "stream",
     "text": [
      "                   all       2165       3720      0.548      0.421      0.447      0.259\n"
     ]
    },
    {
     "name": "stderr",
     "output_type": "stream",
     "text": [
      "\n"
     ]
    },
    {
     "name": "stdout",
     "output_type": "stream",
     "text": [
      "\n",
      "      Epoch    GPU_mem   box_loss   cls_loss   dfl_loss  Instances       Size\n"
     ]
    },
    {
     "name": "stderr",
     "output_type": "stream",
     "text": [
      "     30/100      2.16G      1.425       1.16      1.323          7        640: 100%|██████████| 1212/1212 [00:58<00:00, 20.61it/s]\n",
      "                 Class     Images  Instances      Box(P          R      mAP50  mAP50-95): 100%|██████████| 136/136 [00:06<00:00, 21.09it/s]"
     ]
    },
    {
     "name": "stdout",
     "output_type": "stream",
     "text": [
      "                   all       2165       3720      0.575      0.429      0.456      0.265\n"
     ]
    },
    {
     "name": "stderr",
     "output_type": "stream",
     "text": [
      "\n"
     ]
    },
    {
     "name": "stdout",
     "output_type": "stream",
     "text": [
      "\n",
      "      Epoch    GPU_mem   box_loss   cls_loss   dfl_loss  Instances       Size\n"
     ]
    },
    {
     "name": "stderr",
     "output_type": "stream",
     "text": [
      "     31/100       1.9G      1.411       1.15      1.323         19        640: 100%|██████████| 1212/1212 [00:54<00:00, 22.41it/s]\n",
      "                 Class     Images  Instances      Box(P          R      mAP50  mAP50-95): 100%|██████████| 136/136 [00:06<00:00, 21.65it/s]"
     ]
    },
    {
     "name": "stdout",
     "output_type": "stream",
     "text": [
      "                   all       2165       3720      0.549      0.444      0.452      0.263\n"
     ]
    },
    {
     "name": "stderr",
     "output_type": "stream",
     "text": [
      "\n"
     ]
    },
    {
     "name": "stdout",
     "output_type": "stream",
     "text": [
      "\n",
      "      Epoch    GPU_mem   box_loss   cls_loss   dfl_loss  Instances       Size\n"
     ]
    },
    {
     "name": "stderr",
     "output_type": "stream",
     "text": [
      "     32/100      2.26G      1.408      1.139      1.316         45        640: 100%|██████████| 1212/1212 [01:01<00:00, 19.80it/s]\n",
      "                 Class     Images  Instances      Box(P          R      mAP50  mAP50-95): 100%|██████████| 136/136 [00:06<00:00, 20.45it/s]"
     ]
    },
    {
     "name": "stdout",
     "output_type": "stream",
     "text": [
      "                   all       2165       3720      0.535       0.45       0.45      0.264\n"
     ]
    },
    {
     "name": "stderr",
     "output_type": "stream",
     "text": [
      "\n"
     ]
    },
    {
     "name": "stdout",
     "output_type": "stream",
     "text": [
      "\n",
      "      Epoch    GPU_mem   box_loss   cls_loss   dfl_loss  Instances       Size\n"
     ]
    },
    {
     "name": "stderr",
     "output_type": "stream",
     "text": [
      "     33/100      1.95G      1.396      1.138      1.311         20        640: 100%|██████████| 1212/1212 [00:59<00:00, 20.29it/s]\n",
      "                 Class     Images  Instances      Box(P          R      mAP50  mAP50-95): 100%|██████████| 136/136 [00:06<00:00, 20.82it/s]"
     ]
    },
    {
     "name": "stdout",
     "output_type": "stream",
     "text": [
      "                   all       2165       3720      0.558      0.453      0.459      0.268\n"
     ]
    },
    {
     "name": "stderr",
     "output_type": "stream",
     "text": [
      "\n"
     ]
    },
    {
     "name": "stdout",
     "output_type": "stream",
     "text": [
      "\n",
      "      Epoch    GPU_mem   box_loss   cls_loss   dfl_loss  Instances       Size\n"
     ]
    },
    {
     "name": "stderr",
     "output_type": "stream",
     "text": [
      "     34/100      2.09G      1.404      1.131      1.313         12        640: 100%|██████████| 1212/1212 [00:55<00:00, 21.82it/s]\n",
      "                 Class     Images  Instances      Box(P          R      mAP50  mAP50-95): 100%|██████████| 136/136 [00:06<00:00, 21.26it/s]"
     ]
    },
    {
     "name": "stdout",
     "output_type": "stream",
     "text": [
      "                   all       2165       3720      0.574      0.446      0.462       0.27\n"
     ]
    },
    {
     "name": "stderr",
     "output_type": "stream",
     "text": [
      "\n"
     ]
    },
    {
     "name": "stdout",
     "output_type": "stream",
     "text": [
      "\n",
      "      Epoch    GPU_mem   box_loss   cls_loss   dfl_loss  Instances       Size\n"
     ]
    },
    {
     "name": "stderr",
     "output_type": "stream",
     "text": [
      "     35/100      2.21G      1.401      1.122      1.306         13        640: 100%|██████████| 1212/1212 [00:59<00:00, 20.45it/s]\n",
      "                 Class     Images  Instances      Box(P          R      mAP50  mAP50-95): 100%|██████████| 136/136 [00:06<00:00, 21.25it/s]\n"
     ]
    },
    {
     "name": "stdout",
     "output_type": "stream",
     "text": [
      "                   all       2165       3720      0.567      0.446      0.458      0.268\n",
      "\n",
      "      Epoch    GPU_mem   box_loss   cls_loss   dfl_loss  Instances       Size\n"
     ]
    },
    {
     "name": "stderr",
     "output_type": "stream",
     "text": [
      "     36/100      1.71G      1.386      1.128      1.299         10        640: 100%|██████████| 1212/1212 [00:57<00:00, 20.95it/s]\n",
      "                 Class     Images  Instances      Box(P          R      mAP50  mAP50-95): 100%|██████████| 136/136 [00:08<00:00, 16.99it/s]"
     ]
    },
    {
     "name": "stdout",
     "output_type": "stream",
     "text": [
      "                   all       2165       3720      0.556      0.456      0.464      0.272\n"
     ]
    },
    {
     "name": "stderr",
     "output_type": "stream",
     "text": [
      "\n"
     ]
    },
    {
     "name": "stdout",
     "output_type": "stream",
     "text": [
      "\n",
      "      Epoch    GPU_mem   box_loss   cls_loss   dfl_loss  Instances       Size\n"
     ]
    },
    {
     "name": "stderr",
     "output_type": "stream",
     "text": [
      "     37/100       2.1G      1.383        1.1      1.304         16        640: 100%|██████████| 1212/1212 [00:59<00:00, 20.22it/s]\n",
      "                 Class     Images  Instances      Box(P          R      mAP50  mAP50-95): 100%|██████████| 136/136 [00:06<00:00, 19.47it/s]"
     ]
    },
    {
     "name": "stdout",
     "output_type": "stream",
     "text": [
      "                   all       2165       3720      0.558       0.48      0.469      0.275\n"
     ]
    },
    {
     "name": "stderr",
     "output_type": "stream",
     "text": [
      "\n"
     ]
    },
    {
     "name": "stdout",
     "output_type": "stream",
     "text": [
      "\n",
      "      Epoch    GPU_mem   box_loss   cls_loss   dfl_loss  Instances       Size\n"
     ]
    },
    {
     "name": "stderr",
     "output_type": "stream",
     "text": [
      "     38/100      1.82G      1.365      1.091       1.29         18        640: 100%|██████████| 1212/1212 [00:54<00:00, 22.43it/s]\n",
      "                 Class     Images  Instances      Box(P          R      mAP50  mAP50-95): 100%|██████████| 136/136 [00:06<00:00, 21.04it/s]"
     ]
    },
    {
     "name": "stdout",
     "output_type": "stream",
     "text": [
      "                   all       2165       3720       0.53      0.469      0.462      0.273\n"
     ]
    },
    {
     "name": "stderr",
     "output_type": "stream",
     "text": [
      "\n"
     ]
    },
    {
     "name": "stdout",
     "output_type": "stream",
     "text": [
      "\n",
      "      Epoch    GPU_mem   box_loss   cls_loss   dfl_loss  Instances       Size\n"
     ]
    },
    {
     "name": "stderr",
     "output_type": "stream",
     "text": [
      "     39/100      1.88G      1.379      1.101      1.295         15        640: 100%|██████████| 1212/1212 [00:53<00:00, 22.48it/s]\n",
      "                 Class     Images  Instances      Box(P          R      mAP50  mAP50-95): 100%|██████████| 136/136 [00:06<00:00, 20.38it/s]"
     ]
    },
    {
     "name": "stdout",
     "output_type": "stream",
     "text": [
      "                   all       2165       3720      0.538      0.464      0.465      0.277\n"
     ]
    },
    {
     "name": "stderr",
     "output_type": "stream",
     "text": [
      "\n"
     ]
    },
    {
     "name": "stdout",
     "output_type": "stream",
     "text": [
      "\n",
      "      Epoch    GPU_mem   box_loss   cls_loss   dfl_loss  Instances       Size\n"
     ]
    },
    {
     "name": "stderr",
     "output_type": "stream",
     "text": [
      "     40/100      2.06G      1.378      1.108      1.297         18        640: 100%|██████████| 1212/1212 [00:55<00:00, 21.66it/s]\n",
      "                 Class     Images  Instances      Box(P          R      mAP50  mAP50-95): 100%|██████████| 136/136 [00:06<00:00, 21.25it/s]"
     ]
    },
    {
     "name": "stdout",
     "output_type": "stream",
     "text": [
      "                   all       2165       3720      0.562       0.47      0.467      0.276\n"
     ]
    },
    {
     "name": "stderr",
     "output_type": "stream",
     "text": [
      "\n"
     ]
    },
    {
     "name": "stdout",
     "output_type": "stream",
     "text": [
      "\n",
      "      Epoch    GPU_mem   box_loss   cls_loss   dfl_loss  Instances       Size\n"
     ]
    },
    {
     "name": "stderr",
     "output_type": "stream",
     "text": [
      "     41/100      1.98G      1.378       1.09       1.29          7        640: 100%|██████████| 1212/1212 [00:52<00:00, 23.20it/s]\n",
      "                 Class     Images  Instances      Box(P          R      mAP50  mAP50-95): 100%|██████████| 136/136 [00:06<00:00, 21.88it/s]"
     ]
    },
    {
     "name": "stdout",
     "output_type": "stream",
     "text": [
      "                   all       2165       3720      0.573      0.449      0.471      0.279\n"
     ]
    },
    {
     "name": "stderr",
     "output_type": "stream",
     "text": [
      "\n"
     ]
    },
    {
     "name": "stdout",
     "output_type": "stream",
     "text": [
      "\n",
      "      Epoch    GPU_mem   box_loss   cls_loss   dfl_loss  Instances       Size\n"
     ]
    },
    {
     "name": "stderr",
     "output_type": "stream",
     "text": [
      "     42/100      1.75G      1.353      1.082      1.285          6        640: 100%|██████████| 1212/1212 [00:59<00:00, 20.37it/s]\n",
      "                 Class     Images  Instances      Box(P          R      mAP50  mAP50-95): 100%|██████████| 136/136 [00:06<00:00, 20.89it/s]"
     ]
    },
    {
     "name": "stdout",
     "output_type": "stream",
     "text": [
      "                   all       2165       3720       0.58      0.452      0.476      0.288\n"
     ]
    },
    {
     "name": "stderr",
     "output_type": "stream",
     "text": [
      "\n"
     ]
    },
    {
     "name": "stdout",
     "output_type": "stream",
     "text": [
      "\n",
      "      Epoch    GPU_mem   box_loss   cls_loss   dfl_loss  Instances       Size\n"
     ]
    },
    {
     "name": "stderr",
     "output_type": "stream",
     "text": [
      "     43/100      2.12G      1.358      1.078      1.278         19        640: 100%|██████████| 1212/1212 [01:00<00:00, 19.93it/s]\n",
      "                 Class     Images  Instances      Box(P          R      mAP50  mAP50-95): 100%|██████████| 136/136 [00:06<00:00, 20.29it/s]"
     ]
    },
    {
     "name": "stdout",
     "output_type": "stream",
     "text": [
      "                   all       2165       3720      0.569      0.472      0.476      0.282\n"
     ]
    },
    {
     "name": "stderr",
     "output_type": "stream",
     "text": [
      "\n"
     ]
    },
    {
     "name": "stdout",
     "output_type": "stream",
     "text": [
      "\n",
      "      Epoch    GPU_mem   box_loss   cls_loss   dfl_loss  Instances       Size\n"
     ]
    },
    {
     "name": "stderr",
     "output_type": "stream",
     "text": [
      "     44/100      1.78G      1.348      1.063      1.277         18        640: 100%|██████████| 1212/1212 [00:59<00:00, 20.32it/s]\n",
      "                 Class     Images  Instances      Box(P          R      mAP50  mAP50-95): 100%|██████████| 136/136 [00:06<00:00, 21.44it/s]"
     ]
    },
    {
     "name": "stdout",
     "output_type": "stream",
     "text": [
      "                   all       2165       3720      0.564      0.456      0.475      0.281\n"
     ]
    },
    {
     "name": "stderr",
     "output_type": "stream",
     "text": [
      "\n"
     ]
    },
    {
     "name": "stdout",
     "output_type": "stream",
     "text": [
      "\n",
      "      Epoch    GPU_mem   box_loss   cls_loss   dfl_loss  Instances       Size\n"
     ]
    },
    {
     "name": "stderr",
     "output_type": "stream",
     "text": [
      "     45/100      1.72G      1.338      1.063       1.28         13        640: 100%|██████████| 1212/1212 [00:58<00:00, 20.60it/s]\n",
      "                 Class     Images  Instances      Box(P          R      mAP50  mAP50-95): 100%|██████████| 136/136 [00:06<00:00, 20.08it/s]"
     ]
    },
    {
     "name": "stdout",
     "output_type": "stream",
     "text": [
      "                   all       2165       3720      0.575      0.479       0.48      0.282\n"
     ]
    },
    {
     "name": "stderr",
     "output_type": "stream",
     "text": [
      "\n"
     ]
    },
    {
     "name": "stdout",
     "output_type": "stream",
     "text": [
      "\n",
      "      Epoch    GPU_mem   box_loss   cls_loss   dfl_loss  Instances       Size\n"
     ]
    },
    {
     "name": "stderr",
     "output_type": "stream",
     "text": [
      "     46/100      1.86G      1.337      1.057      1.278          9        640: 100%|██████████| 1212/1212 [00:59<00:00, 20.39it/s]\n",
      "                 Class     Images  Instances      Box(P          R      mAP50  mAP50-95): 100%|██████████| 136/136 [00:06<00:00, 19.98it/s]"
     ]
    },
    {
     "name": "stdout",
     "output_type": "stream",
     "text": [
      "                   all       2165       3720      0.558      0.462      0.475      0.284\n"
     ]
    },
    {
     "name": "stderr",
     "output_type": "stream",
     "text": [
      "\n"
     ]
    },
    {
     "name": "stdout",
     "output_type": "stream",
     "text": [
      "\n",
      "      Epoch    GPU_mem   box_loss   cls_loss   dfl_loss  Instances       Size\n"
     ]
    },
    {
     "name": "stderr",
     "output_type": "stream",
     "text": [
      "     47/100      1.86G      1.342      1.056      1.269          9        640: 100%|██████████| 1212/1212 [00:58<00:00, 20.64it/s]\n",
      "                 Class     Images  Instances      Box(P          R      mAP50  mAP50-95): 100%|██████████| 136/136 [00:06<00:00, 21.26it/s]"
     ]
    },
    {
     "name": "stdout",
     "output_type": "stream",
     "text": [
      "                   all       2165       3720      0.569      0.488      0.484      0.288\n"
     ]
    },
    {
     "name": "stderr",
     "output_type": "stream",
     "text": [
      "\n"
     ]
    },
    {
     "name": "stdout",
     "output_type": "stream",
     "text": [
      "\n",
      "      Epoch    GPU_mem   box_loss   cls_loss   dfl_loss  Instances       Size\n"
     ]
    },
    {
     "name": "stderr",
     "output_type": "stream",
     "text": [
      "     48/100      1.61G       1.34      1.055      1.273         20        640: 100%|██████████| 1212/1212 [00:57<00:00, 20.93it/s]\n",
      "                 Class     Images  Instances      Box(P          R      mAP50  mAP50-95): 100%|██████████| 136/136 [00:06<00:00, 21.33it/s]"
     ]
    },
    {
     "name": "stdout",
     "output_type": "stream",
     "text": [
      "                   all       2165       3720       0.56      0.471      0.478      0.286\n"
     ]
    },
    {
     "name": "stderr",
     "output_type": "stream",
     "text": [
      "\n"
     ]
    },
    {
     "name": "stdout",
     "output_type": "stream",
     "text": [
      "\n",
      "      Epoch    GPU_mem   box_loss   cls_loss   dfl_loss  Instances       Size\n"
     ]
    },
    {
     "name": "stderr",
     "output_type": "stream",
     "text": [
      "     49/100      1.77G      1.336      1.054      1.266         14        640: 100%|██████████| 1212/1212 [00:56<00:00, 21.32it/s]\n",
      "                 Class     Images  Instances      Box(P          R      mAP50  mAP50-95): 100%|██████████| 136/136 [00:06<00:00, 20.20it/s]"
     ]
    },
    {
     "name": "stdout",
     "output_type": "stream",
     "text": [
      "                   all       2165       3720      0.547      0.488      0.478      0.284\n"
     ]
    },
    {
     "name": "stderr",
     "output_type": "stream",
     "text": [
      "\n"
     ]
    },
    {
     "name": "stdout",
     "output_type": "stream",
     "text": [
      "\n",
      "      Epoch    GPU_mem   box_loss   cls_loss   dfl_loss  Instances       Size\n"
     ]
    },
    {
     "name": "stderr",
     "output_type": "stream",
     "text": [
      "     50/100      2.86G      1.327      1.031      1.269         17        640: 100%|██████████| 1212/1212 [00:52<00:00, 22.98it/s]\n",
      "                 Class     Images  Instances      Box(P          R      mAP50  mAP50-95): 100%|██████████| 136/136 [00:06<00:00, 21.22it/s]"
     ]
    },
    {
     "name": "stdout",
     "output_type": "stream",
     "text": [
      "                   all       2165       3720      0.548      0.483      0.479      0.287\n"
     ]
    },
    {
     "name": "stderr",
     "output_type": "stream",
     "text": [
      "\n"
     ]
    },
    {
     "name": "stdout",
     "output_type": "stream",
     "text": [
      "\n",
      "      Epoch    GPU_mem   box_loss   cls_loss   dfl_loss  Instances       Size\n"
     ]
    },
    {
     "name": "stderr",
     "output_type": "stream",
     "text": [
      "     51/100       2.1G      1.336      1.043      1.263         20        640: 100%|██████████| 1212/1212 [00:56<00:00, 21.59it/s]\n",
      "                 Class     Images  Instances      Box(P          R      mAP50  mAP50-95): 100%|██████████| 136/136 [00:06<00:00, 21.45it/s]"
     ]
    },
    {
     "name": "stdout",
     "output_type": "stream",
     "text": [
      "                   all       2165       3720      0.565      0.482      0.483      0.289\n"
     ]
    },
    {
     "name": "stderr",
     "output_type": "stream",
     "text": [
      "\n"
     ]
    },
    {
     "name": "stdout",
     "output_type": "stream",
     "text": [
      "\n",
      "      Epoch    GPU_mem   box_loss   cls_loss   dfl_loss  Instances       Size\n"
     ]
    },
    {
     "name": "stderr",
     "output_type": "stream",
     "text": [
      "     52/100      1.88G       1.32      1.037      1.264         21        640: 100%|██████████| 1212/1212 [00:58<00:00, 20.69it/s]\n",
      "                 Class     Images  Instances      Box(P          R      mAP50  mAP50-95): 100%|██████████| 136/136 [00:06<00:00, 21.70it/s]\n"
     ]
    },
    {
     "name": "stdout",
     "output_type": "stream",
     "text": [
      "                   all       2165       3720      0.572      0.476      0.484       0.29\n",
      "\n",
      "      Epoch    GPU_mem   box_loss   cls_loss   dfl_loss  Instances       Size\n"
     ]
    },
    {
     "name": "stderr",
     "output_type": "stream",
     "text": [
      "     53/100      1.86G      1.323      1.038       1.26         54        640: 100%|██████████| 1212/1212 [00:57<00:00, 20.94it/s]\n",
      "                 Class     Images  Instances      Box(P          R      mAP50  mAP50-95): 100%|██████████| 136/136 [00:06<00:00, 21.31it/s]"
     ]
    },
    {
     "name": "stdout",
     "output_type": "stream",
     "text": [
      "                   all       2165       3720      0.565      0.472      0.487      0.291\n"
     ]
    },
    {
     "name": "stderr",
     "output_type": "stream",
     "text": [
      "\n"
     ]
    },
    {
     "name": "stdout",
     "output_type": "stream",
     "text": [
      "\n",
      "      Epoch    GPU_mem   box_loss   cls_loss   dfl_loss  Instances       Size\n"
     ]
    },
    {
     "name": "stderr",
     "output_type": "stream",
     "text": [
      "     54/100      1.96G      1.308       1.02      1.259         13        640: 100%|██████████| 1212/1212 [00:58<00:00, 20.55it/s]\n",
      "                 Class     Images  Instances      Box(P          R      mAP50  mAP50-95): 100%|██████████| 136/136 [00:06<00:00, 20.97it/s]\n"
     ]
    },
    {
     "name": "stdout",
     "output_type": "stream",
     "text": [
      "                   all       2165       3720      0.553      0.478      0.483      0.291\n",
      "\n",
      "      Epoch    GPU_mem   box_loss   cls_loss   dfl_loss  Instances       Size\n"
     ]
    },
    {
     "name": "stderr",
     "output_type": "stream",
     "text": [
      "     55/100      2.07G      1.311      1.021      1.247         24        640: 100%|██████████| 1212/1212 [00:58<00:00, 20.55it/s]\n",
      "                 Class     Images  Instances      Box(P          R      mAP50  mAP50-95): 100%|██████████| 136/136 [00:06<00:00, 21.81it/s]"
     ]
    },
    {
     "name": "stdout",
     "output_type": "stream",
     "text": [
      "                   all       2165       3720      0.551      0.489      0.483      0.289\n"
     ]
    },
    {
     "name": "stderr",
     "output_type": "stream",
     "text": [
      "\n"
     ]
    },
    {
     "name": "stdout",
     "output_type": "stream",
     "text": [
      "\n",
      "      Epoch    GPU_mem   box_loss   cls_loss   dfl_loss  Instances       Size\n"
     ]
    },
    {
     "name": "stderr",
     "output_type": "stream",
     "text": [
      "     56/100      1.92G      1.303      1.022      1.252         19        640: 100%|██████████| 1212/1212 [01:00<00:00, 20.12it/s]\n",
      "                 Class     Images  Instances      Box(P          R      mAP50  mAP50-95): 100%|██████████| 136/136 [00:06<00:00, 20.55it/s]"
     ]
    },
    {
     "name": "stdout",
     "output_type": "stream",
     "text": [
      "                   all       2165       3720      0.555      0.477      0.481       0.29\n"
     ]
    },
    {
     "name": "stderr",
     "output_type": "stream",
     "text": [
      "\n"
     ]
    },
    {
     "name": "stdout",
     "output_type": "stream",
     "text": [
      "\n",
      "      Epoch    GPU_mem   box_loss   cls_loss   dfl_loss  Instances       Size\n"
     ]
    },
    {
     "name": "stderr",
     "output_type": "stream",
     "text": [
      "     57/100      2.07G      1.299     0.9984      1.245         16        640: 100%|██████████| 1212/1212 [00:57<00:00, 21.00it/s]\n",
      "                 Class     Images  Instances      Box(P          R      mAP50  mAP50-95): 100%|██████████| 136/136 [00:07<00:00, 17.99it/s]"
     ]
    },
    {
     "name": "stdout",
     "output_type": "stream",
     "text": [
      "                   all       2165       3720      0.554      0.482      0.485      0.293\n"
     ]
    },
    {
     "name": "stderr",
     "output_type": "stream",
     "text": [
      "\n"
     ]
    },
    {
     "name": "stdout",
     "output_type": "stream",
     "text": [
      "\n",
      "      Epoch    GPU_mem   box_loss   cls_loss   dfl_loss  Instances       Size\n"
     ]
    },
    {
     "name": "stderr",
     "output_type": "stream",
     "text": [
      "     58/100       1.7G      1.301      1.005      1.249         18        640: 100%|██████████| 1212/1212 [00:57<00:00, 21.01it/s]\n",
      "                 Class     Images  Instances      Box(P          R      mAP50  mAP50-95): 100%|██████████| 136/136 [00:06<00:00, 20.25it/s]"
     ]
    },
    {
     "name": "stdout",
     "output_type": "stream",
     "text": [
      "                   all       2165       3720      0.547       0.49      0.482      0.291\n"
     ]
    },
    {
     "name": "stderr",
     "output_type": "stream",
     "text": [
      "\n"
     ]
    },
    {
     "name": "stdout",
     "output_type": "stream",
     "text": [
      "\n",
      "      Epoch    GPU_mem   box_loss   cls_loss   dfl_loss  Instances       Size\n"
     ]
    },
    {
     "name": "stderr",
     "output_type": "stream",
     "text": [
      "     59/100      1.79G      1.302          1      1.247         15        640: 100%|██████████| 1212/1212 [00:52<00:00, 22.90it/s]\n",
      "                 Class     Images  Instances      Box(P          R      mAP50  mAP50-95): 100%|██████████| 136/136 [00:06<00:00, 19.79it/s]\n"
     ]
    },
    {
     "name": "stdout",
     "output_type": "stream",
     "text": [
      "                   all       2165       3720      0.549      0.492      0.485      0.292\n",
      "\n",
      "      Epoch    GPU_mem   box_loss   cls_loss   dfl_loss  Instances       Size\n"
     ]
    },
    {
     "name": "stderr",
     "output_type": "stream",
     "text": [
      "     60/100      1.93G      1.272     0.9843      1.238        216        640: 100%|██████████| 1212/1212 [00:52<00:00, 23.09it/s]\n",
      "                 Class     Images  Instances      Box(P          R      mAP50  mAP50-95): 100%|██████████| 136/136 [00:07<00:00, 17.37it/s]"
     ]
    },
    {
     "name": "stdout",
     "output_type": "stream",
     "text": [
      "                   all       2165       3720      0.548      0.484      0.485      0.293\n"
     ]
    },
    {
     "name": "stderr",
     "output_type": "stream",
     "text": [
      "\n"
     ]
    },
    {
     "name": "stdout",
     "output_type": "stream",
     "text": [
      "\n",
      "      Epoch    GPU_mem   box_loss   cls_loss   dfl_loss  Instances       Size\n"
     ]
    },
    {
     "name": "stderr",
     "output_type": "stream",
     "text": [
      "     61/100      1.94G      1.296     0.9912      1.238         18        640: 100%|██████████| 1212/1212 [00:53<00:00, 22.74it/s]\n",
      "                 Class     Images  Instances      Box(P          R      mAP50  mAP50-95): 100%|██████████| 136/136 [00:06<00:00, 21.31it/s]\n"
     ]
    },
    {
     "name": "stdout",
     "output_type": "stream",
     "text": [
      "                   all       2165       3720      0.558      0.485      0.488      0.294\n",
      "\n",
      "      Epoch    GPU_mem   box_loss   cls_loss   dfl_loss  Instances       Size\n"
     ]
    },
    {
     "name": "stderr",
     "output_type": "stream",
     "text": [
      "     62/100      1.73G      1.278     0.9858      1.243          8        640: 100%|██████████| 1212/1212 [00:52<00:00, 23.04it/s]\n",
      "                 Class     Images  Instances      Box(P          R      mAP50  mAP50-95): 100%|██████████| 136/136 [00:07<00:00, 19.12it/s]"
     ]
    },
    {
     "name": "stdout",
     "output_type": "stream",
     "text": [
      "                   all       2165       3720      0.557      0.496      0.492      0.298\n"
     ]
    },
    {
     "name": "stderr",
     "output_type": "stream",
     "text": [
      "\n"
     ]
    },
    {
     "name": "stdout",
     "output_type": "stream",
     "text": [
      "\n",
      "      Epoch    GPU_mem   box_loss   cls_loss   dfl_loss  Instances       Size\n"
     ]
    },
    {
     "name": "stderr",
     "output_type": "stream",
     "text": [
      "     63/100       1.7G      1.269     0.9854      1.235         11        640: 100%|██████████| 1212/1212 [00:52<00:00, 22.87it/s]\n",
      "                 Class     Images  Instances      Box(P          R      mAP50  mAP50-95): 100%|██████████| 136/136 [00:06<00:00, 20.51it/s]"
     ]
    },
    {
     "name": "stdout",
     "output_type": "stream",
     "text": [
      "                   all       2165       3720      0.566      0.496      0.492      0.298\n"
     ]
    },
    {
     "name": "stderr",
     "output_type": "stream",
     "text": [
      "\n"
     ]
    },
    {
     "name": "stdout",
     "output_type": "stream",
     "text": [
      "\n",
      "      Epoch    GPU_mem   box_loss   cls_loss   dfl_loss  Instances       Size\n"
     ]
    },
    {
     "name": "stderr",
     "output_type": "stream",
     "text": [
      "     64/100      2.18G      1.277     0.9882       1.24         15        640: 100%|██████████| 1212/1212 [00:53<00:00, 22.82it/s]\n",
      "                 Class     Images  Instances      Box(P          R      mAP50  mAP50-95): 100%|██████████| 136/136 [00:06<00:00, 20.26it/s]"
     ]
    },
    {
     "name": "stdout",
     "output_type": "stream",
     "text": [
      "                   all       2165       3720      0.574      0.484      0.491      0.297\n"
     ]
    },
    {
     "name": "stderr",
     "output_type": "stream",
     "text": [
      "\n"
     ]
    },
    {
     "name": "stdout",
     "output_type": "stream",
     "text": [
      "\n",
      "      Epoch    GPU_mem   box_loss   cls_loss   dfl_loss  Instances       Size\n"
     ]
    },
    {
     "name": "stderr",
     "output_type": "stream",
     "text": [
      "     65/100      2.27G      1.269     0.9762      1.228         22        640: 100%|██████████| 1212/1212 [00:52<00:00, 23.19it/s]\n",
      "                 Class     Images  Instances      Box(P          R      mAP50  mAP50-95): 100%|██████████| 136/136 [00:06<00:00, 20.97it/s]"
     ]
    },
    {
     "name": "stdout",
     "output_type": "stream",
     "text": [
      "                   all       2165       3720      0.575      0.482      0.492      0.298\n"
     ]
    },
    {
     "name": "stderr",
     "output_type": "stream",
     "text": [
      "\n"
     ]
    },
    {
     "name": "stdout",
     "output_type": "stream",
     "text": [
      "\n",
      "      Epoch    GPU_mem   box_loss   cls_loss   dfl_loss  Instances       Size\n"
     ]
    },
    {
     "name": "stderr",
     "output_type": "stream",
     "text": [
      "     66/100      1.99G      1.272     0.9786      1.228         20        640: 100%|██████████| 1212/1212 [00:52<00:00, 22.90it/s]\n",
      "                 Class     Images  Instances      Box(P          R      mAP50  mAP50-95): 100%|██████████| 136/136 [00:06<00:00, 19.61it/s]\n"
     ]
    },
    {
     "name": "stdout",
     "output_type": "stream",
     "text": [
      "                   all       2165       3720      0.575      0.479      0.493      0.298\n",
      "\n",
      "      Epoch    GPU_mem   box_loss   cls_loss   dfl_loss  Instances       Size\n"
     ]
    },
    {
     "name": "stderr",
     "output_type": "stream",
     "text": [
      "     67/100      1.79G       1.26     0.9686      1.226         11        640: 100%|██████████| 1212/1212 [00:52<00:00, 23.21it/s]\n",
      "                 Class     Images  Instances      Box(P          R      mAP50  mAP50-95): 100%|██████████| 136/136 [00:06<00:00, 20.08it/s]"
     ]
    },
    {
     "name": "stdout",
     "output_type": "stream",
     "text": [
      "                   all       2165       3720      0.574      0.478       0.49      0.298\n"
     ]
    },
    {
     "name": "stderr",
     "output_type": "stream",
     "text": [
      "\n"
     ]
    },
    {
     "name": "stdout",
     "output_type": "stream",
     "text": [
      "\n",
      "      Epoch    GPU_mem   box_loss   cls_loss   dfl_loss  Instances       Size\n"
     ]
    },
    {
     "name": "stderr",
     "output_type": "stream",
     "text": [
      "     68/100      1.99G      1.273     0.9702      1.222         14        640: 100%|██████████| 1212/1212 [00:52<00:00, 22.87it/s]\n",
      "                 Class     Images  Instances      Box(P          R      mAP50  mAP50-95): 100%|██████████| 136/136 [00:06<00:00, 20.44it/s]"
     ]
    },
    {
     "name": "stdout",
     "output_type": "stream",
     "text": [
      "                   all       2165       3720      0.575      0.482      0.492      0.299\n"
     ]
    },
    {
     "name": "stderr",
     "output_type": "stream",
     "text": [
      "\n"
     ]
    },
    {
     "name": "stdout",
     "output_type": "stream",
     "text": [
      "\n",
      "      Epoch    GPU_mem   box_loss   cls_loss   dfl_loss  Instances       Size\n"
     ]
    },
    {
     "name": "stderr",
     "output_type": "stream",
     "text": [
      "     69/100      1.51G      1.257     0.9598      1.226         37        640: 100%|██████████| 1212/1212 [00:52<00:00, 23.30it/s]\n",
      "                 Class     Images  Instances      Box(P          R      mAP50  mAP50-95): 100%|██████████| 136/136 [00:07<00:00, 18.93it/s]"
     ]
    },
    {
     "name": "stdout",
     "output_type": "stream",
     "text": [
      "                   all       2165       3720      0.567      0.489      0.493      0.299\n"
     ]
    },
    {
     "name": "stderr",
     "output_type": "stream",
     "text": [
      "\n"
     ]
    },
    {
     "name": "stdout",
     "output_type": "stream",
     "text": [
      "\n",
      "      Epoch    GPU_mem   box_loss   cls_loss   dfl_loss  Instances       Size\n"
     ]
    },
    {
     "name": "stderr",
     "output_type": "stream",
     "text": [
      "     70/100      1.82G      1.252     0.9549      1.222         14        640: 100%|██████████| 1212/1212 [00:51<00:00, 23.41it/s]\n",
      "                 Class     Images  Instances      Box(P          R      mAP50  mAP50-95): 100%|██████████| 136/136 [00:06<00:00, 20.71it/s]"
     ]
    },
    {
     "name": "stdout",
     "output_type": "stream",
     "text": [
      "                   all       2165       3720      0.559       0.49      0.492      0.298\n"
     ]
    },
    {
     "name": "stderr",
     "output_type": "stream",
     "text": [
      "\n"
     ]
    },
    {
     "name": "stdout",
     "output_type": "stream",
     "text": [
      "\n",
      "      Epoch    GPU_mem   box_loss   cls_loss   dfl_loss  Instances       Size\n"
     ]
    },
    {
     "name": "stderr",
     "output_type": "stream",
     "text": [
      "     71/100      1.87G      1.256     0.9539      1.217         21        640: 100%|██████████| 1212/1212 [00:51<00:00, 23.73it/s]\n",
      "                 Class     Images  Instances      Box(P          R      mAP50  mAP50-95): 100%|██████████| 136/136 [00:06<00:00, 21.54it/s]"
     ]
    },
    {
     "name": "stdout",
     "output_type": "stream",
     "text": [
      "                   all       2165       3720      0.566      0.489      0.494        0.3\n"
     ]
    },
    {
     "name": "stderr",
     "output_type": "stream",
     "text": [
      "\n"
     ]
    },
    {
     "name": "stdout",
     "output_type": "stream",
     "text": [
      "\n",
      "      Epoch    GPU_mem   box_loss   cls_loss   dfl_loss  Instances       Size\n"
     ]
    },
    {
     "name": "stderr",
     "output_type": "stream",
     "text": [
      "     72/100      2.02G      1.242     0.9521      1.215          9        640: 100%|██████████| 1212/1212 [00:51<00:00, 23.42it/s]\n",
      "                 Class     Images  Instances      Box(P          R      mAP50  mAP50-95): 100%|██████████| 136/136 [00:06<00:00, 21.07it/s]"
     ]
    },
    {
     "name": "stdout",
     "output_type": "stream",
     "text": [
      "                   all       2165       3720       0.56      0.497      0.496      0.301\n"
     ]
    },
    {
     "name": "stderr",
     "output_type": "stream",
     "text": [
      "\n"
     ]
    },
    {
     "name": "stdout",
     "output_type": "stream",
     "text": [
      "\n",
      "      Epoch    GPU_mem   box_loss   cls_loss   dfl_loss  Instances       Size\n"
     ]
    },
    {
     "name": "stderr",
     "output_type": "stream",
     "text": [
      "     73/100      1.71G       1.25     0.9523      1.217         25        640: 100%|██████████| 1212/1212 [00:52<00:00, 23.21it/s]\n",
      "                 Class     Images  Instances      Box(P          R      mAP50  mAP50-95): 100%|██████████| 136/136 [00:06<00:00, 21.30it/s]"
     ]
    },
    {
     "name": "stdout",
     "output_type": "stream",
     "text": [
      "                   all       2165       3720      0.561      0.496      0.494        0.3\n"
     ]
    },
    {
     "name": "stderr",
     "output_type": "stream",
     "text": [
      "\n"
     ]
    },
    {
     "name": "stdout",
     "output_type": "stream",
     "text": [
      "\n",
      "      Epoch    GPU_mem   box_loss   cls_loss   dfl_loss  Instances       Size\n"
     ]
    },
    {
     "name": "stderr",
     "output_type": "stream",
     "text": [
      "     74/100      1.75G      1.242       0.94      1.208         21        640: 100%|██████████| 1212/1212 [00:51<00:00, 23.46it/s]\n",
      "                 Class     Images  Instances      Box(P          R      mAP50  mAP50-95): 100%|██████████| 136/136 [00:06<00:00, 21.24it/s]"
     ]
    },
    {
     "name": "stdout",
     "output_type": "stream",
     "text": [
      "                   all       2165       3720      0.563      0.494      0.496      0.301\n"
     ]
    },
    {
     "name": "stderr",
     "output_type": "stream",
     "text": [
      "\n"
     ]
    },
    {
     "name": "stdout",
     "output_type": "stream",
     "text": [
      "\n",
      "      Epoch    GPU_mem   box_loss   cls_loss   dfl_loss  Instances       Size\n"
     ]
    },
    {
     "name": "stderr",
     "output_type": "stream",
     "text": [
      "     75/100      2.64G      1.234     0.9328      1.206         20        640: 100%|██████████| 1212/1212 [00:51<00:00, 23.47it/s]\n",
      "                 Class     Images  Instances      Box(P          R      mAP50  mAP50-95): 100%|██████████| 136/136 [00:06<00:00, 20.14it/s]"
     ]
    },
    {
     "name": "stdout",
     "output_type": "stream",
     "text": [
      "                   all       2165       3720      0.563      0.493      0.495      0.301\n"
     ]
    },
    {
     "name": "stderr",
     "output_type": "stream",
     "text": [
      "\n"
     ]
    },
    {
     "name": "stdout",
     "output_type": "stream",
     "text": [
      "\n",
      "      Epoch    GPU_mem   box_loss   cls_loss   dfl_loss  Instances       Size\n"
     ]
    },
    {
     "name": "stderr",
     "output_type": "stream",
     "text": [
      "     76/100       2.2G       1.23     0.9261      1.207         11        640: 100%|██████████| 1212/1212 [00:52<00:00, 23.29it/s]\n",
      "                 Class     Images  Instances      Box(P          R      mAP50  mAP50-95): 100%|██████████| 136/136 [00:06<00:00, 20.78it/s]"
     ]
    },
    {
     "name": "stdout",
     "output_type": "stream",
     "text": [
      "                   all       2165       3720      0.564      0.499      0.498      0.301\n"
     ]
    },
    {
     "name": "stderr",
     "output_type": "stream",
     "text": [
      "\n"
     ]
    },
    {
     "name": "stdout",
     "output_type": "stream",
     "text": [
      "\n",
      "      Epoch    GPU_mem   box_loss   cls_loss   dfl_loss  Instances       Size\n"
     ]
    },
    {
     "name": "stderr",
     "output_type": "stream",
     "text": [
      "     77/100      1.86G      1.237     0.9337      1.208         15        640: 100%|██████████| 1212/1212 [00:52<00:00, 23.16it/s]\n",
      "                 Class     Images  Instances      Box(P          R      mAP50  mAP50-95): 100%|██████████| 136/136 [00:06<00:00, 20.77it/s]\n"
     ]
    },
    {
     "name": "stdout",
     "output_type": "stream",
     "text": [
      "                   all       2165       3720      0.566      0.498      0.499      0.302\n",
      "\n",
      "      Epoch    GPU_mem   box_loss   cls_loss   dfl_loss  Instances       Size\n"
     ]
    },
    {
     "name": "stderr",
     "output_type": "stream",
     "text": [
      "     78/100      2.36G      1.224     0.9112      1.203         18        640: 100%|██████████| 1212/1212 [00:51<00:00, 23.35it/s]\n",
      "                 Class     Images  Instances      Box(P          R      mAP50  mAP50-95): 100%|██████████| 136/136 [00:06<00:00, 20.77it/s]"
     ]
    },
    {
     "name": "stdout",
     "output_type": "stream",
     "text": [
      "                   all       2165       3720      0.561      0.498      0.496      0.303\n"
     ]
    },
    {
     "name": "stderr",
     "output_type": "stream",
     "text": [
      "\n"
     ]
    },
    {
     "name": "stdout",
     "output_type": "stream",
     "text": [
      "\n",
      "      Epoch    GPU_mem   box_loss   cls_loss   dfl_loss  Instances       Size\n"
     ]
    },
    {
     "name": "stderr",
     "output_type": "stream",
     "text": [
      "     79/100      2.33G      1.211     0.9172      1.196         18        640: 100%|██████████| 1212/1212 [00:52<00:00, 23.05it/s]\n",
      "                 Class     Images  Instances      Box(P          R      mAP50  mAP50-95): 100%|██████████| 136/136 [00:06<00:00, 20.90it/s]"
     ]
    },
    {
     "name": "stdout",
     "output_type": "stream",
     "text": [
      "                   all       2165       3720      0.565      0.499      0.498      0.302\n"
     ]
    },
    {
     "name": "stderr",
     "output_type": "stream",
     "text": [
      "\n"
     ]
    },
    {
     "name": "stdout",
     "output_type": "stream",
     "text": [
      "\n",
      "      Epoch    GPU_mem   box_loss   cls_loss   dfl_loss  Instances       Size\n"
     ]
    },
    {
     "name": "stderr",
     "output_type": "stream",
     "text": [
      "     80/100      1.93G      1.216     0.9101      1.201         25        640: 100%|██████████| 1212/1212 [00:52<00:00, 23.29it/s]\n",
      "                 Class     Images  Instances      Box(P          R      mAP50  mAP50-95): 100%|██████████| 136/136 [00:06<00:00, 20.92it/s]"
     ]
    },
    {
     "name": "stdout",
     "output_type": "stream",
     "text": [
      "                   all       2165       3720      0.564      0.501      0.499      0.303\n"
     ]
    },
    {
     "name": "stderr",
     "output_type": "stream",
     "text": [
      "\n"
     ]
    },
    {
     "name": "stdout",
     "output_type": "stream",
     "text": [
      "\n",
      "      Epoch    GPU_mem   box_loss   cls_loss   dfl_loss  Instances       Size\n"
     ]
    },
    {
     "name": "stderr",
     "output_type": "stream",
     "text": [
      "     81/100      1.85G      1.207      0.906        1.2         18        640: 100%|██████████| 1212/1212 [00:51<00:00, 23.59it/s]\n",
      "                 Class     Images  Instances      Box(P          R      mAP50  mAP50-95): 100%|██████████| 136/136 [00:06<00:00, 21.39it/s]"
     ]
    },
    {
     "name": "stdout",
     "output_type": "stream",
     "text": [
      "                   all       2165       3720      0.562        0.5      0.498      0.303\n"
     ]
    },
    {
     "name": "stderr",
     "output_type": "stream",
     "text": [
      "\n"
     ]
    },
    {
     "name": "stdout",
     "output_type": "stream",
     "text": [
      "\n",
      "      Epoch    GPU_mem   box_loss   cls_loss   dfl_loss  Instances       Size\n"
     ]
    },
    {
     "name": "stderr",
     "output_type": "stream",
     "text": [
      "     82/100      1.54G      1.206     0.9148      1.197         11        640: 100%|██████████| 1212/1212 [00:51<00:00, 23.75it/s]\n",
      "                 Class     Images  Instances      Box(P          R      mAP50  mAP50-95): 100%|██████████| 136/136 [00:06<00:00, 21.45it/s]"
     ]
    },
    {
     "name": "stdout",
     "output_type": "stream",
     "text": [
      "                   all       2165       3720      0.561      0.501      0.498      0.302\n"
     ]
    },
    {
     "name": "stderr",
     "output_type": "stream",
     "text": [
      "\n"
     ]
    },
    {
     "name": "stdout",
     "output_type": "stream",
     "text": [
      "\n",
      "      Epoch    GPU_mem   box_loss   cls_loss   dfl_loss  Instances       Size\n"
     ]
    },
    {
     "name": "stderr",
     "output_type": "stream",
     "text": [
      "     83/100      1.72G      1.201     0.8936      1.194          9        640: 100%|██████████| 1212/1212 [00:51<00:00, 23.55it/s]\n",
      "                 Class     Images  Instances      Box(P          R      mAP50  mAP50-95): 100%|██████████| 136/136 [00:06<00:00, 20.52it/s]\n"
     ]
    },
    {
     "name": "stdout",
     "output_type": "stream",
     "text": [
      "                   all       2165       3720      0.564        0.5      0.498      0.303\n",
      "\n",
      "      Epoch    GPU_mem   box_loss   cls_loss   dfl_loss  Instances       Size\n"
     ]
    },
    {
     "name": "stderr",
     "output_type": "stream",
     "text": [
      "     84/100      1.73G      1.213     0.9117      1.193         19        640: 100%|██████████| 1212/1212 [00:51<00:00, 23.35it/s]\n",
      "                 Class     Images  Instances      Box(P          R      mAP50  mAP50-95): 100%|██████████| 136/136 [00:06<00:00, 19.73it/s]"
     ]
    },
    {
     "name": "stdout",
     "output_type": "stream",
     "text": [
      "                   all       2165       3720      0.566      0.501      0.499      0.303\n"
     ]
    },
    {
     "name": "stderr",
     "output_type": "stream",
     "text": [
      "\n"
     ]
    },
    {
     "name": "stdout",
     "output_type": "stream",
     "text": [
      "\n",
      "      Epoch    GPU_mem   box_loss   cls_loss   dfl_loss  Instances       Size\n"
     ]
    },
    {
     "name": "stderr",
     "output_type": "stream",
     "text": [
      "     85/100      1.49G      1.187     0.8973      1.183         21        640: 100%|██████████| 1212/1212 [00:52<00:00, 23.27it/s]\n",
      "                 Class     Images  Instances      Box(P          R      mAP50  mAP50-95): 100%|██████████| 136/136 [00:06<00:00, 20.79it/s]"
     ]
    },
    {
     "name": "stdout",
     "output_type": "stream",
     "text": [
      "                   all       2165       3720      0.565        0.5      0.499      0.303\n"
     ]
    },
    {
     "name": "stderr",
     "output_type": "stream",
     "text": [
      "\n"
     ]
    },
    {
     "name": "stdout",
     "output_type": "stream",
     "text": [
      "\n",
      "      Epoch    GPU_mem   box_loss   cls_loss   dfl_loss  Instances       Size\n"
     ]
    },
    {
     "name": "stderr",
     "output_type": "stream",
     "text": [
      "     86/100      1.88G      1.201     0.8943      1.188         12        640: 100%|██████████| 1212/1212 [00:54<00:00, 22.30it/s]\n",
      "                 Class     Images  Instances      Box(P          R      mAP50  mAP50-95): 100%|██████████| 136/136 [00:07<00:00, 18.07it/s]"
     ]
    },
    {
     "name": "stdout",
     "output_type": "stream",
     "text": [
      "                   all       2165       3720      0.562      0.503      0.498      0.303\n"
     ]
    },
    {
     "name": "stderr",
     "output_type": "stream",
     "text": [
      "\n"
     ]
    },
    {
     "name": "stdout",
     "output_type": "stream",
     "text": [
      "\n",
      "      Epoch    GPU_mem   box_loss   cls_loss   dfl_loss  Instances       Size\n"
     ]
    },
    {
     "name": "stderr",
     "output_type": "stream",
     "text": [
      "     87/100      2.12G      1.186     0.8946      1.189         18        640: 100%|██████████| 1212/1212 [00:53<00:00, 22.72it/s]\n",
      "                 Class     Images  Instances      Box(P          R      mAP50  mAP50-95): 100%|██████████| 136/136 [00:06<00:00, 21.02it/s]"
     ]
    },
    {
     "name": "stdout",
     "output_type": "stream",
     "text": [
      "                   all       2165       3720      0.565      0.502      0.499      0.303\n"
     ]
    },
    {
     "name": "stderr",
     "output_type": "stream",
     "text": [
      "\n"
     ]
    },
    {
     "name": "stdout",
     "output_type": "stream",
     "text": [
      "\n",
      "      Epoch    GPU_mem   box_loss   cls_loss   dfl_loss  Instances       Size\n"
     ]
    },
    {
     "name": "stderr",
     "output_type": "stream",
     "text": [
      "     88/100      1.62G      1.187     0.8876      1.183          9        640: 100%|██████████| 1212/1212 [00:53<00:00, 22.50it/s]\n",
      "                 Class     Images  Instances      Box(P          R      mAP50  mAP50-95): 100%|██████████| 136/136 [00:06<00:00, 20.86it/s]"
     ]
    },
    {
     "name": "stdout",
     "output_type": "stream",
     "text": [
      "                   all       2165       3720      0.566      0.504      0.501      0.303\n"
     ]
    },
    {
     "name": "stderr",
     "output_type": "stream",
     "text": [
      "\n"
     ]
    },
    {
     "name": "stdout",
     "output_type": "stream",
     "text": [
      "\n",
      "      Epoch    GPU_mem   box_loss   cls_loss   dfl_loss  Instances       Size\n"
     ]
    },
    {
     "name": "stderr",
     "output_type": "stream",
     "text": [
      "     89/100      1.76G      1.172     0.8663      1.179         14        640: 100%|██████████| 1212/1212 [00:52<00:00, 23.15it/s]\n",
      "                 Class     Images  Instances      Box(P          R      mAP50  mAP50-95): 100%|██████████| 136/136 [00:07<00:00, 18.24it/s]"
     ]
    },
    {
     "name": "stdout",
     "output_type": "stream",
     "text": [
      "                   all       2165       3720      0.563      0.506      0.499      0.303\n"
     ]
    },
    {
     "name": "stderr",
     "output_type": "stream",
     "text": [
      "\n"
     ]
    },
    {
     "name": "stdout",
     "output_type": "stream",
     "text": [
      "\n",
      "      Epoch    GPU_mem   box_loss   cls_loss   dfl_loss  Instances       Size\n"
     ]
    },
    {
     "name": "stderr",
     "output_type": "stream",
     "text": [
      "     90/100      1.82G      1.177     0.8775      1.177         12        640: 100%|██████████| 1212/1212 [00:52<00:00, 23.18it/s]\n",
      "                 Class     Images  Instances      Box(P          R      mAP50  mAP50-95): 100%|██████████| 136/136 [00:06<00:00, 21.27it/s]"
     ]
    },
    {
     "name": "stdout",
     "output_type": "stream",
     "text": [
      "                   all       2165       3720      0.563      0.506      0.499      0.303\n"
     ]
    },
    {
     "name": "stderr",
     "output_type": "stream",
     "text": [
      "\n"
     ]
    },
    {
     "name": "stdout",
     "output_type": "stream",
     "text": [
      "Closing dataloader mosaic\n",
      "\n",
      "      Epoch    GPU_mem   box_loss   cls_loss   dfl_loss  Instances       Size\n"
     ]
    },
    {
     "name": "stderr",
     "output_type": "stream",
     "text": [
      "     91/100      1.65G      1.155     0.8248      1.146         16        640: 100%|██████████| 1212/1212 [00:53<00:00, 22.59it/s]\n",
      "                 Class     Images  Instances      Box(P          R      mAP50  mAP50-95): 100%|██████████| 136/136 [00:06<00:00, 20.68it/s]"
     ]
    },
    {
     "name": "stdout",
     "output_type": "stream",
     "text": [
      "                   all       2165       3720      0.561      0.508      0.498      0.303\n"
     ]
    },
    {
     "name": "stderr",
     "output_type": "stream",
     "text": [
      "\n"
     ]
    },
    {
     "name": "stdout",
     "output_type": "stream",
     "text": [
      "\n",
      "      Epoch    GPU_mem   box_loss   cls_loss   dfl_loss  Instances       Size\n"
     ]
    },
    {
     "name": "stderr",
     "output_type": "stream",
     "text": [
      "     92/100      1.82G      1.137     0.8069      1.141          7        640: 100%|██████████| 1212/1212 [00:53<00:00, 22.58it/s]\n",
      "                 Class     Images  Instances      Box(P          R      mAP50  mAP50-95): 100%|██████████| 136/136 [00:07<00:00, 18.56it/s]"
     ]
    },
    {
     "name": "stdout",
     "output_type": "stream",
     "text": [
      "                   all       2165       3720      0.561      0.504      0.499      0.303\n"
     ]
    },
    {
     "name": "stderr",
     "output_type": "stream",
     "text": [
      "\n"
     ]
    },
    {
     "name": "stdout",
     "output_type": "stream",
     "text": [
      "\n",
      "      Epoch    GPU_mem   box_loss   cls_loss   dfl_loss  Instances       Size\n"
     ]
    },
    {
     "name": "stderr",
     "output_type": "stream",
     "text": [
      "     93/100      1.65G      1.138     0.8017      1.139          5        640: 100%|██████████| 1212/1212 [00:51<00:00, 23.60it/s]\n",
      "                 Class     Images  Instances      Box(P          R      mAP50  mAP50-95): 100%|██████████| 136/136 [00:06<00:00, 20.57it/s]"
     ]
    },
    {
     "name": "stdout",
     "output_type": "stream",
     "text": [
      "                   all       2165       3720      0.558      0.506      0.498      0.303\n"
     ]
    },
    {
     "name": "stderr",
     "output_type": "stream",
     "text": [
      "\n"
     ]
    },
    {
     "name": "stdout",
     "output_type": "stream",
     "text": [
      "\n",
      "      Epoch    GPU_mem   box_loss   cls_loss   dfl_loss  Instances       Size\n"
     ]
    },
    {
     "name": "stderr",
     "output_type": "stream",
     "text": [
      "     94/100      2.06G      1.124     0.7927      1.133          7        640: 100%|██████████| 1212/1212 [00:53<00:00, 22.79it/s]\n",
      "                 Class     Images  Instances      Box(P          R      mAP50  mAP50-95): 100%|██████████| 136/136 [00:06<00:00, 21.65it/s]"
     ]
    },
    {
     "name": "stdout",
     "output_type": "stream",
     "text": [
      "                   all       2165       3720       0.56      0.505      0.499      0.303\n"
     ]
    },
    {
     "name": "stderr",
     "output_type": "stream",
     "text": [
      "\n"
     ]
    },
    {
     "name": "stdout",
     "output_type": "stream",
     "text": [
      "\n",
      "      Epoch    GPU_mem   box_loss   cls_loss   dfl_loss  Instances       Size\n"
     ]
    },
    {
     "name": "stderr",
     "output_type": "stream",
     "text": [
      "     95/100      1.93G      1.122      0.785      1.129          7        640: 100%|██████████| 1212/1212 [00:54<00:00, 22.39it/s]\n",
      "                 Class     Images  Instances      Box(P          R      mAP50  mAP50-95): 100%|██████████| 136/136 [00:07<00:00, 18.68it/s]"
     ]
    },
    {
     "name": "stdout",
     "output_type": "stream",
     "text": [
      "                   all       2165       3720      0.563      0.503      0.499      0.304\n"
     ]
    },
    {
     "name": "stderr",
     "output_type": "stream",
     "text": [
      "\n"
     ]
    },
    {
     "name": "stdout",
     "output_type": "stream",
     "text": [
      "\n",
      "      Epoch    GPU_mem   box_loss   cls_loss   dfl_loss  Instances       Size\n"
     ]
    },
    {
     "name": "stderr",
     "output_type": "stream",
     "text": [
      "     96/100      1.67G      1.116     0.7862      1.129          8        640: 100%|██████████| 1212/1212 [00:53<00:00, 22.69it/s]\n",
      "                 Class     Images  Instances      Box(P          R      mAP50  mAP50-95): 100%|██████████| 136/136 [00:06<00:00, 21.72it/s]"
     ]
    },
    {
     "name": "stdout",
     "output_type": "stream",
     "text": [
      "                   all       2165       3720      0.562      0.501      0.499      0.304\n"
     ]
    },
    {
     "name": "stderr",
     "output_type": "stream",
     "text": [
      "\n"
     ]
    },
    {
     "name": "stdout",
     "output_type": "stream",
     "text": [
      "\n",
      "      Epoch    GPU_mem   box_loss   cls_loss   dfl_loss  Instances       Size\n"
     ]
    },
    {
     "name": "stderr",
     "output_type": "stream",
     "text": [
      "     97/100       1.7G      1.112     0.7699      1.123         15        640: 100%|██████████| 1212/1212 [00:51<00:00, 23.61it/s]\n",
      "                 Class     Images  Instances      Box(P          R      mAP50  mAP50-95): 100%|██████████| 136/136 [00:06<00:00, 21.41it/s]\n"
     ]
    },
    {
     "name": "stdout",
     "output_type": "stream",
     "text": [
      "                   all       2165       3720      0.561      0.502      0.498      0.304\n",
      "\n",
      "      Epoch    GPU_mem   box_loss   cls_loss   dfl_loss  Instances       Size\n"
     ]
    },
    {
     "name": "stderr",
     "output_type": "stream",
     "text": [
      "     98/100      1.88G      1.112     0.7783      1.125         13        640: 100%|██████████| 1212/1212 [00:54<00:00, 22.06it/s]\n",
      "                 Class     Images  Instances      Box(P          R      mAP50  mAP50-95): 100%|██████████| 136/136 [00:06<00:00, 21.57it/s]"
     ]
    },
    {
     "name": "stdout",
     "output_type": "stream",
     "text": [
      "                   all       2165       3720      0.561      0.503      0.499      0.304\n"
     ]
    },
    {
     "name": "stderr",
     "output_type": "stream",
     "text": [
      "\n"
     ]
    },
    {
     "name": "stdout",
     "output_type": "stream",
     "text": [
      "\n",
      "      Epoch    GPU_mem   box_loss   cls_loss   dfl_loss  Instances       Size\n"
     ]
    },
    {
     "name": "stderr",
     "output_type": "stream",
     "text": [
      "     99/100       1.9G        1.1     0.7673      1.123          8        640: 100%|██████████| 1212/1212 [00:55<00:00, 21.94it/s]\n",
      "                 Class     Images  Instances      Box(P          R      mAP50  mAP50-95): 100%|██████████| 136/136 [00:06<00:00, 21.39it/s]"
     ]
    },
    {
     "name": "stdout",
     "output_type": "stream",
     "text": [
      "                   all       2165       3720      0.561      0.503      0.499      0.304\n"
     ]
    },
    {
     "name": "stderr",
     "output_type": "stream",
     "text": [
      "\n"
     ]
    },
    {
     "name": "stdout",
     "output_type": "stream",
     "text": [
      "\n",
      "      Epoch    GPU_mem   box_loss   cls_loss   dfl_loss  Instances       Size\n"
     ]
    },
    {
     "name": "stderr",
     "output_type": "stream",
     "text": [
      "    100/100      1.82G      1.094     0.7589      1.121          8        640: 100%|██████████| 1212/1212 [00:52<00:00, 23.18it/s]\n",
      "                 Class     Images  Instances      Box(P          R      mAP50  mAP50-95): 100%|██████████| 136/136 [00:06<00:00, 21.62it/s]"
     ]
    },
    {
     "name": "stdout",
     "output_type": "stream",
     "text": [
      "                   all       2165       3720      0.562      0.502      0.499      0.304\n"
     ]
    },
    {
     "name": "stderr",
     "output_type": "stream",
     "text": [
      "\n"
     ]
    },
    {
     "name": "stdout",
     "output_type": "stream",
     "text": [
      "\n",
      "100 epochs completed in 1.745 hours.\n",
      "Optimizer stripped from /home/jbenyam/cnnsat/runs/yolov8_ship_detection_v2/weights/last.pt, 6.3MB\n",
      "Optimizer stripped from /home/jbenyam/cnnsat/runs/yolov8_ship_detection_v2/weights/best.pt, 6.3MB\n",
      "\n",
      "Validating /home/jbenyam/cnnsat/runs/yolov8_ship_detection_v2/weights/best.pt...\n",
      "Ultralytics YOLOv8.2.96 🚀 Python-3.10.14 torch-2.4.1+cu121 CUDA:0 (NVIDIA GeForce RTX 4080 SUPER, 16376MiB)\n",
      "Model summary (fused): 168 layers, 3,005,843 parameters, 0 gradients, 8.1 GFLOPs\n"
     ]
    },
    {
     "name": "stderr",
     "output_type": "stream",
     "text": [
      "                 Class     Images  Instances      Box(P          R      mAP50  mAP50-95): 100%|██████████| 136/136 [00:08<00:00, 15.89it/s]\n"
     ]
    },
    {
     "name": "stdout",
     "output_type": "stream",
     "text": [
      "                   all       2165       3720      0.565      0.499      0.499      0.304\n",
      "Speed: 0.1ms preprocess, 0.6ms inference, 0.0ms loss, 0.7ms postprocess per image\n",
      "Results saved to \u001b[1m/home/jbenyam/cnnsat/runs/yolov8_ship_detection_v2\u001b[0m\n"
     ]
    },
    {
     "data": {
      "text/plain": [
       "ultralytics.utils.metrics.DetMetrics object with attributes:\n",
       "\n",
       "ap_class_index: array([0])\n",
       "box: ultralytics.utils.metrics.Metric object\n",
       "confusion_matrix: <ultralytics.utils.metrics.ConfusionMatrix object at 0x7f5d34de26e0>\n",
       "curves: ['Precision-Recall(B)', 'F1-Confidence(B)', 'Precision-Confidence(B)', 'Recall-Confidence(B)']\n",
       "curves_results: [[array([          0,    0.001001,    0.002002,    0.003003,    0.004004,    0.005005,    0.006006,    0.007007,    0.008008,    0.009009,     0.01001,    0.011011,    0.012012,    0.013013,    0.014014,    0.015015,    0.016016,    0.017017,    0.018018,    0.019019,     0.02002,    0.021021,    0.022022,    0.023023,\n",
       "          0.024024,    0.025025,    0.026026,    0.027027,    0.028028,    0.029029,     0.03003,    0.031031,    0.032032,    0.033033,    0.034034,    0.035035,    0.036036,    0.037037,    0.038038,    0.039039,     0.04004,    0.041041,    0.042042,    0.043043,    0.044044,    0.045045,    0.046046,    0.047047,\n",
       "          0.048048,    0.049049,     0.05005,    0.051051,    0.052052,    0.053053,    0.054054,    0.055055,    0.056056,    0.057057,    0.058058,    0.059059,     0.06006,    0.061061,    0.062062,    0.063063,    0.064064,    0.065065,    0.066066,    0.067067,    0.068068,    0.069069,     0.07007,    0.071071,\n",
       "          0.072072,    0.073073,    0.074074,    0.075075,    0.076076,    0.077077,    0.078078,    0.079079,     0.08008,    0.081081,    0.082082,    0.083083,    0.084084,    0.085085,    0.086086,    0.087087,    0.088088,    0.089089,     0.09009,    0.091091,    0.092092,    0.093093,    0.094094,    0.095095,\n",
       "          0.096096,    0.097097,    0.098098,    0.099099,      0.1001,      0.1011,      0.1021,      0.1031,      0.1041,     0.10511,     0.10611,     0.10711,     0.10811,     0.10911,     0.11011,     0.11111,     0.11211,     0.11311,     0.11411,     0.11512,     0.11612,     0.11712,     0.11812,     0.11912,\n",
       "           0.12012,     0.12112,     0.12212,     0.12312,     0.12412,     0.12513,     0.12613,     0.12713,     0.12813,     0.12913,     0.13013,     0.13113,     0.13213,     0.13313,     0.13413,     0.13514,     0.13614,     0.13714,     0.13814,     0.13914,     0.14014,     0.14114,     0.14214,     0.14314,\n",
       "           0.14414,     0.14515,     0.14615,     0.14715,     0.14815,     0.14915,     0.15015,     0.15115,     0.15215,     0.15315,     0.15415,     0.15516,     0.15616,     0.15716,     0.15816,     0.15916,     0.16016,     0.16116,     0.16216,     0.16316,     0.16416,     0.16517,     0.16617,     0.16717,\n",
       "           0.16817,     0.16917,     0.17017,     0.17117,     0.17217,     0.17317,     0.17417,     0.17518,     0.17618,     0.17718,     0.17818,     0.17918,     0.18018,     0.18118,     0.18218,     0.18318,     0.18418,     0.18519,     0.18619,     0.18719,     0.18819,     0.18919,     0.19019,     0.19119,\n",
       "           0.19219,     0.19319,     0.19419,      0.1952,      0.1962,      0.1972,      0.1982,      0.1992,      0.2002,      0.2012,      0.2022,      0.2032,      0.2042,     0.20521,     0.20621,     0.20721,     0.20821,     0.20921,     0.21021,     0.21121,     0.21221,     0.21321,     0.21421,     0.21522,\n",
       "           0.21622,     0.21722,     0.21822,     0.21922,     0.22022,     0.22122,     0.22222,     0.22322,     0.22422,     0.22523,     0.22623,     0.22723,     0.22823,     0.22923,     0.23023,     0.23123,     0.23223,     0.23323,     0.23423,     0.23524,     0.23624,     0.23724,     0.23824,     0.23924,\n",
       "           0.24024,     0.24124,     0.24224,     0.24324,     0.24424,     0.24525,     0.24625,     0.24725,     0.24825,     0.24925,     0.25025,     0.25125,     0.25225,     0.25325,     0.25425,     0.25526,     0.25626,     0.25726,     0.25826,     0.25926,     0.26026,     0.26126,     0.26226,     0.26326,\n",
       "           0.26426,     0.26527,     0.26627,     0.26727,     0.26827,     0.26927,     0.27027,     0.27127,     0.27227,     0.27327,     0.27427,     0.27528,     0.27628,     0.27728,     0.27828,     0.27928,     0.28028,     0.28128,     0.28228,     0.28328,     0.28428,     0.28529,     0.28629,     0.28729,\n",
       "           0.28829,     0.28929,     0.29029,     0.29129,     0.29229,     0.29329,     0.29429,      0.2953,      0.2963,      0.2973,      0.2983,      0.2993,      0.3003,      0.3013,      0.3023,      0.3033,      0.3043,     0.30531,     0.30631,     0.30731,     0.30831,     0.30931,     0.31031,     0.31131,\n",
       "           0.31231,     0.31331,     0.31431,     0.31532,     0.31632,     0.31732,     0.31832,     0.31932,     0.32032,     0.32132,     0.32232,     0.32332,     0.32432,     0.32533,     0.32633,     0.32733,     0.32833,     0.32933,     0.33033,     0.33133,     0.33233,     0.33333,     0.33433,     0.33534,\n",
       "           0.33634,     0.33734,     0.33834,     0.33934,     0.34034,     0.34134,     0.34234,     0.34334,     0.34434,     0.34535,     0.34635,     0.34735,     0.34835,     0.34935,     0.35035,     0.35135,     0.35235,     0.35335,     0.35435,     0.35536,     0.35636,     0.35736,     0.35836,     0.35936,\n",
       "           0.36036,     0.36136,     0.36236,     0.36336,     0.36436,     0.36537,     0.36637,     0.36737,     0.36837,     0.36937,     0.37037,     0.37137,     0.37237,     0.37337,     0.37437,     0.37538,     0.37638,     0.37738,     0.37838,     0.37938,     0.38038,     0.38138,     0.38238,     0.38338,\n",
       "           0.38438,     0.38539,     0.38639,     0.38739,     0.38839,     0.38939,     0.39039,     0.39139,     0.39239,     0.39339,     0.39439,      0.3954,      0.3964,      0.3974,      0.3984,      0.3994,      0.4004,      0.4014,      0.4024,      0.4034,      0.4044,     0.40541,     0.40641,     0.40741,\n",
       "           0.40841,     0.40941,     0.41041,     0.41141,     0.41241,     0.41341,     0.41441,     0.41542,     0.41642,     0.41742,     0.41842,     0.41942,     0.42042,     0.42142,     0.42242,     0.42342,     0.42442,     0.42543,     0.42643,     0.42743,     0.42843,     0.42943,     0.43043,     0.43143,\n",
       "           0.43243,     0.43343,     0.43443,     0.43544,     0.43644,     0.43744,     0.43844,     0.43944,     0.44044,     0.44144,     0.44244,     0.44344,     0.44444,     0.44545,     0.44645,     0.44745,     0.44845,     0.44945,     0.45045,     0.45145,     0.45245,     0.45345,     0.45445,     0.45546,\n",
       "           0.45646,     0.45746,     0.45846,     0.45946,     0.46046,     0.46146,     0.46246,     0.46346,     0.46446,     0.46547,     0.46647,     0.46747,     0.46847,     0.46947,     0.47047,     0.47147,     0.47247,     0.47347,     0.47447,     0.47548,     0.47648,     0.47748,     0.47848,     0.47948,\n",
       "           0.48048,     0.48148,     0.48248,     0.48348,     0.48448,     0.48549,     0.48649,     0.48749,     0.48849,     0.48949,     0.49049,     0.49149,     0.49249,     0.49349,     0.49449,      0.4955,      0.4965,      0.4975,      0.4985,      0.4995,      0.5005,      0.5015,      0.5025,      0.5035,\n",
       "            0.5045,     0.50551,     0.50651,     0.50751,     0.50851,     0.50951,     0.51051,     0.51151,     0.51251,     0.51351,     0.51451,     0.51552,     0.51652,     0.51752,     0.51852,     0.51952,     0.52052,     0.52152,     0.52252,     0.52352,     0.52452,     0.52553,     0.52653,     0.52753,\n",
       "           0.52853,     0.52953,     0.53053,     0.53153,     0.53253,     0.53353,     0.53453,     0.53554,     0.53654,     0.53754,     0.53854,     0.53954,     0.54054,     0.54154,     0.54254,     0.54354,     0.54454,     0.54555,     0.54655,     0.54755,     0.54855,     0.54955,     0.55055,     0.55155,\n",
       "           0.55255,     0.55355,     0.55455,     0.55556,     0.55656,     0.55756,     0.55856,     0.55956,     0.56056,     0.56156,     0.56256,     0.56356,     0.56456,     0.56557,     0.56657,     0.56757,     0.56857,     0.56957,     0.57057,     0.57157,     0.57257,     0.57357,     0.57457,     0.57558,\n",
       "           0.57658,     0.57758,     0.57858,     0.57958,     0.58058,     0.58158,     0.58258,     0.58358,     0.58458,     0.58559,     0.58659,     0.58759,     0.58859,     0.58959,     0.59059,     0.59159,     0.59259,     0.59359,     0.59459,      0.5956,      0.5966,      0.5976,      0.5986,      0.5996,\n",
       "            0.6006,      0.6016,      0.6026,      0.6036,      0.6046,     0.60561,     0.60661,     0.60761,     0.60861,     0.60961,     0.61061,     0.61161,     0.61261,     0.61361,     0.61461,     0.61562,     0.61662,     0.61762,     0.61862,     0.61962,     0.62062,     0.62162,     0.62262,     0.62362,\n",
       "           0.62462,     0.62563,     0.62663,     0.62763,     0.62863,     0.62963,     0.63063,     0.63163,     0.63263,     0.63363,     0.63463,     0.63564,     0.63664,     0.63764,     0.63864,     0.63964,     0.64064,     0.64164,     0.64264,     0.64364,     0.64464,     0.64565,     0.64665,     0.64765,\n",
       "           0.64865,     0.64965,     0.65065,     0.65165,     0.65265,     0.65365,     0.65465,     0.65566,     0.65666,     0.65766,     0.65866,     0.65966,     0.66066,     0.66166,     0.66266,     0.66366,     0.66466,     0.66567,     0.66667,     0.66767,     0.66867,     0.66967,     0.67067,     0.67167,\n",
       "           0.67267,     0.67367,     0.67467,     0.67568,     0.67668,     0.67768,     0.67868,     0.67968,     0.68068,     0.68168,     0.68268,     0.68368,     0.68468,     0.68569,     0.68669,     0.68769,     0.68869,     0.68969,     0.69069,     0.69169,     0.69269,     0.69369,     0.69469,      0.6957,\n",
       "            0.6967,      0.6977,      0.6987,      0.6997,      0.7007,      0.7017,      0.7027,      0.7037,      0.7047,     0.70571,     0.70671,     0.70771,     0.70871,     0.70971,     0.71071,     0.71171,     0.71271,     0.71371,     0.71471,     0.71572,     0.71672,     0.71772,     0.71872,     0.71972,\n",
       "           0.72072,     0.72172,     0.72272,     0.72372,     0.72472,     0.72573,     0.72673,     0.72773,     0.72873,     0.72973,     0.73073,     0.73173,     0.73273,     0.73373,     0.73473,     0.73574,     0.73674,     0.73774,     0.73874,     0.73974,     0.74074,     0.74174,     0.74274,     0.74374,\n",
       "           0.74474,     0.74575,     0.74675,     0.74775,     0.74875,     0.74975,     0.75075,     0.75175,     0.75275,     0.75375,     0.75475,     0.75576,     0.75676,     0.75776,     0.75876,     0.75976,     0.76076,     0.76176,     0.76276,     0.76376,     0.76476,     0.76577,     0.76677,     0.76777,\n",
       "           0.76877,     0.76977,     0.77077,     0.77177,     0.77277,     0.77377,     0.77477,     0.77578,     0.77678,     0.77778,     0.77878,     0.77978,     0.78078,     0.78178,     0.78278,     0.78378,     0.78478,     0.78579,     0.78679,     0.78779,     0.78879,     0.78979,     0.79079,     0.79179,\n",
       "           0.79279,     0.79379,     0.79479,      0.7958,      0.7968,      0.7978,      0.7988,      0.7998,      0.8008,      0.8018,      0.8028,      0.8038,      0.8048,     0.80581,     0.80681,     0.80781,     0.80881,     0.80981,     0.81081,     0.81181,     0.81281,     0.81381,     0.81481,     0.81582,\n",
       "           0.81682,     0.81782,     0.81882,     0.81982,     0.82082,     0.82182,     0.82282,     0.82382,     0.82482,     0.82583,     0.82683,     0.82783,     0.82883,     0.82983,     0.83083,     0.83183,     0.83283,     0.83383,     0.83483,     0.83584,     0.83684,     0.83784,     0.83884,     0.83984,\n",
       "           0.84084,     0.84184,     0.84284,     0.84384,     0.84484,     0.84585,     0.84685,     0.84785,     0.84885,     0.84985,     0.85085,     0.85185,     0.85285,     0.85385,     0.85485,     0.85586,     0.85686,     0.85786,     0.85886,     0.85986,     0.86086,     0.86186,     0.86286,     0.86386,\n",
       "           0.86486,     0.86587,     0.86687,     0.86787,     0.86887,     0.86987,     0.87087,     0.87187,     0.87287,     0.87387,     0.87487,     0.87588,     0.87688,     0.87788,     0.87888,     0.87988,     0.88088,     0.88188,     0.88288,     0.88388,     0.88488,     0.88589,     0.88689,     0.88789,\n",
       "           0.88889,     0.88989,     0.89089,     0.89189,     0.89289,     0.89389,     0.89489,      0.8959,      0.8969,      0.8979,      0.8989,      0.8999,      0.9009,      0.9019,      0.9029,      0.9039,      0.9049,     0.90591,     0.90691,     0.90791,     0.90891,     0.90991,     0.91091,     0.91191,\n",
       "           0.91291,     0.91391,     0.91491,     0.91592,     0.91692,     0.91792,     0.91892,     0.91992,     0.92092,     0.92192,     0.92292,     0.92392,     0.92492,     0.92593,     0.92693,     0.92793,     0.92893,     0.92993,     0.93093,     0.93193,     0.93293,     0.93393,     0.93493,     0.93594,\n",
       "           0.93694,     0.93794,     0.93894,     0.93994,     0.94094,     0.94194,     0.94294,     0.94394,     0.94494,     0.94595,     0.94695,     0.94795,     0.94895,     0.94995,     0.95095,     0.95195,     0.95295,     0.95395,     0.95495,     0.95596,     0.95696,     0.95796,     0.95896,     0.95996,\n",
       "           0.96096,     0.96196,     0.96296,     0.96396,     0.96496,     0.96597,     0.96697,     0.96797,     0.96897,     0.96997,     0.97097,     0.97197,     0.97297,     0.97397,     0.97497,     0.97598,     0.97698,     0.97798,     0.97898,     0.97998,     0.98098,     0.98198,     0.98298,     0.98398,\n",
       "           0.98498,     0.98599,     0.98699,     0.98799,     0.98899,     0.98999,     0.99099,     0.99199,     0.99299,     0.99399,     0.99499,       0.996,       0.997,       0.998,       0.999,           1]), array([[          1,           1,           1,           1,           1,           1,           1,           1,           1,           1,           1,           1,           1,           1,           1,           1,           1,           1,           1,           1,           1,           1,           1,\n",
       "                  1,           1,           1,           1,           1,           1,           1,           1,           1,           1,           1,           1,           1,           1,           1,           1,           1,           1,           1,           1,           1,           1,           1,\n",
       "                  1,           1,           1,           1,           1,           1,           1,           1,           1,           1,     0.99608,     0.99608,     0.99608,     0.99608,     0.99608,     0.99608,     0.99608,     0.99608,     0.99608,     0.99608,     0.99608,     0.99608,     0.99608,\n",
       "            0.99245,     0.99245,      0.9916,      0.9916,      0.9916,      0.9916,      0.9916,      0.9916,      0.9916,      0.9916,      0.9916,      0.9916,      0.9916,      0.9916,      0.9916,      0.9916,      0.9916,      0.9916,      0.9916,      0.9916,      0.9916,      0.9916,      0.9916,\n",
       "             0.9916,      0.9916,      0.9916,      0.9916,     0.99057,     0.99057,     0.99057,     0.99057,     0.99057,     0.99057,     0.99057,     0.99057,     0.99057,     0.99057,     0.99057,     0.99057,     0.99057,     0.99057,     0.99057,     0.99057,     0.99057,     0.98829,     0.98675,\n",
       "            0.98675,     0.98675,     0.98675,     0.98675,     0.98675,     0.98675,      0.9856,      0.9856,      0.9856,      0.9856,      0.9856,      0.9856,      0.9856,      0.9856,     0.98413,     0.98413,     0.98413,     0.98413,     0.98413,     0.98249,     0.98249,     0.98155,     0.98155,\n",
       "            0.98155,     0.98155,     0.98155,     0.98155,     0.98155,     0.98039,     0.98039,     0.98039,     0.98039,     0.98039,     0.97935,     0.97935,     0.97935,     0.97935,     0.97935,     0.97815,     0.97815,     0.97815,     0.97815,     0.97781,     0.97781,     0.97781,     0.97781,\n",
       "            0.97781,     0.97781,     0.97781,     0.97781,     0.97781,     0.97678,     0.97678,     0.97678,     0.97678,     0.97546,      0.9747,      0.9747,      0.9747,      0.9747,      0.9747,     0.97345,     0.97345,     0.97242,     0.97242,     0.97143,     0.97143,     0.97143,     0.96953,\n",
       "            0.96953,     0.96953,     0.96953,     0.96953,     0.96828,     0.96703,     0.96635,     0.96635,     0.96635,     0.96529,     0.96529,     0.96419,     0.96316,     0.96199,     0.96124,     0.96124,      0.9601,     0.95918,     0.95911,     0.95911,     0.95911,     0.95911,     0.95911,\n",
       "            0.95911,     0.95854,     0.95854,     0.95854,     0.95854,     0.95673,     0.95673,     0.95673,     0.95673,     0.95673,     0.95673,     0.95673,     0.95673,     0.95465,     0.95392,     0.95392,     0.95298,     0.95103,     0.94808,     0.94713,     0.94314,     0.94235,     0.94157,\n",
       "            0.94124,     0.94124,     0.94124,     0.93838,     0.93663,     0.93624,     0.93624,     0.93552,     0.93368,     0.93347,     0.93347,     0.93347,     0.93286,     0.93286,     0.93286,     0.93286,     0.93286,     0.93219,     0.93145,     0.93093,     0.93069,     0.93069,     0.93069,\n",
       "            0.92913,     0.92578,     0.92449,     0.92449,     0.92285,     0.92146,      0.9191,      0.9191,      0.9191,      0.9191,     0.91869,     0.91844,     0.91844,     0.91844,     0.91842,     0.91842,     0.91842,     0.91621,     0.91238,      0.9086,     0.90548,     0.90548,     0.90548,\n",
       "            0.90501,     0.90078,     0.89888,     0.89888,     0.89768,     0.89717,     0.89676,     0.89416,     0.89358,     0.89094,     0.88982,     0.88797,      0.8825,     0.88144,     0.88029,     0.87864,      0.8755,       0.873,     0.87192,     0.86809,     0.86646,     0.86541,     0.85858,\n",
       "            0.85626,     0.85474,     0.85312,     0.84737,     0.84506,     0.84187,     0.84024,     0.83824,     0.83516,     0.83358,     0.83105,     0.82618,     0.82445,     0.82295,     0.81767,      0.8142,     0.80952,     0.80949,     0.80725,     0.80176,     0.80054,     0.79839,     0.79574,\n",
       "            0.79418,     0.79263,     0.79148,     0.78841,     0.78576,     0.78328,     0.77714,     0.77644,     0.77588,     0.76851,     0.76714,     0.76714,     0.76601,     0.76438,     0.76341,     0.75969,     0.75843,     0.75765,     0.75597,      0.7555,     0.74897,     0.74389,     0.74218,\n",
       "             0.7398,     0.73826,     0.73383,     0.73014,     0.72748,     0.72496,     0.72496,     0.72471,     0.71858,     0.71646,     0.71514,     0.71498,     0.71429,     0.71337,     0.71239,     0.71231,     0.71126,     0.71037,     0.70897,     0.70588,     0.70424,     0.70309,     0.69995,\n",
       "            0.69964,     0.69883,     0.69878,     0.69763,     0.69734,     0.69554,     0.69353,     0.68954,     0.68913,      0.6879,     0.68583,     0.68508,     0.68472,     0.68353,     0.68282,     0.68245,     0.68046,     0.68027,     0.67985,     0.67985,     0.67919,     0.67901,     0.67802,\n",
       "            0.67579,     0.67034,     0.66909,     0.66909,     0.66864,     0.66667,     0.66532,     0.66443,     0.66384,     0.66372,     0.66372,     0.66372,     0.66357,     0.66212,     0.66083,      0.6607,     0.66001,     0.66001,     0.65893,     0.65893,     0.65893,     0.65867,     0.65867,\n",
       "            0.65772,     0.65649,     0.65485,     0.65417,     0.65256,     0.65096,     0.65046,     0.64901,     0.64665,     0.64513,     0.64502,     0.64445,     0.64355,     0.63936,     0.63837,     0.63489,     0.63489,     0.63489,     0.63222,     0.62959,     0.62918,     0.62873,     0.62873,\n",
       "             0.6275,     0.62731,      0.6262,       0.625,     0.62424,     0.62424,     0.62396,     0.62382,     0.62228,     0.62127,     0.62127,     0.61917,     0.61917,     0.61845,     0.61553,     0.61527,     0.61404,     0.61224,     0.61169,     0.61027,     0.61025,     0.60943,     0.60803,\n",
       "            0.60788,       0.606,     0.60238,     0.60181,     0.60181,     0.60138,     0.60138,     0.60138,     0.60055,     0.59829,     0.59748,      0.5964,     0.59492,     0.59327,     0.59202,     0.59073,     0.59021,     0.58985,     0.58882,     0.58626,     0.58527,     0.58276,     0.58268,\n",
       "            0.58196,     0.58161,     0.58116,      0.5804,     0.57945,     0.57751,     0.57622,     0.57535,     0.57407,      0.5733,      0.5733,     0.57103,     0.56843,     0.56813,     0.56744,     0.56654,     0.56487,     0.56305,     0.56167,     0.56055,     0.55909,     0.55909,     0.55783,\n",
       "            0.55759,     0.55759,     0.55663,     0.55536,       0.555,     0.55478,     0.55349,     0.55136,     0.55063,     0.54894,     0.54862,     0.54763,     0.54507,     0.54328,     0.54303,     0.53962,     0.53702,     0.53561,     0.53448,     0.53357,     0.53292,     0.53212,     0.53191,\n",
       "            0.52801,     0.52738,     0.52495,     0.52456,     0.52456,     0.52273,     0.52091,     0.51979,     0.51691,     0.51636,     0.51553,      0.5155,     0.51338,     0.51075,     0.50919,     0.50663,     0.49853,     0.49743,     0.49298,     0.48921,     0.48517,     0.48428,     0.48282,\n",
       "            0.47472,     0.47064,     0.46847,     0.46839,     0.46207,     0.45897,      0.4558,      0.4535,     0.45181,     0.44975,     0.44844,     0.44617,      0.4439,     0.44137,     0.43762,     0.43332,     0.42869,      0.4211,     0.41973,     0.41771,     0.41667,     0.41534,      0.4137,\n",
       "             0.4105,     0.40772,     0.40693,     0.40341,     0.40228,     0.39978,     0.39794,     0.39447,      0.3943,     0.38978,     0.38717,     0.38583,     0.38385,     0.37994,     0.37782,     0.37453,     0.37299,     0.37084,     0.36768,     0.36562,     0.36417,      0.3601,     0.35796,\n",
       "            0.35321,     0.34985,     0.34721,     0.34698,     0.34402,     0.34061,     0.33937,     0.33783,     0.33566,     0.33387,     0.33003,     0.32946,     0.32466,      0.3207,     0.31973,     0.31863,     0.31576,     0.31213,     0.31021,     0.30738,      0.3043,     0.30241,     0.30046,\n",
       "            0.29784,      0.2977,     0.29467,     0.29376,     0.29111,     0.29063,     0.28838,     0.28338,     0.28283,      0.2814,      0.2803,     0.27881,     0.27365,     0.26841,     0.26567,     0.26238,     0.25966,     0.25784,     0.25273,     0.24898,       0.248,     0.24491,      0.2389,\n",
       "            0.23706,     0.23419,     0.22773,     0.22599,     0.22461,     0.22168,     0.21929,     0.21466,     0.21321,     0.20863,     0.20573,     0.20207,     0.20056,      0.1964,     0.19123,     0.18962,     0.18249,     0.17963,     0.16978,     0.16516,     0.16104,     0.15874,     0.15502,\n",
       "            0.14172,     0.13483,     0.12204,     0.11901,     0.11045,     0.10291,     0.10143,    0.099304,    0.094582,    0.088668,    0.083801,    0.083554,    0.080529,    0.075306,    0.072068,    0.069074,    0.062545,    0.057918,    0.054679,    0.052337,    0.046561,     0.04474,    0.042095,\n",
       "           0.038158,    0.038035,    0.037911,    0.037788,    0.037664,    0.037541,    0.037417,    0.037294,     0.03717,    0.037047,    0.036924,      0.0368,    0.036677,    0.036553,     0.03643,    0.036306,    0.036183,    0.036059,    0.035936,    0.035812,    0.035689,    0.035565,    0.035442,\n",
       "           0.035318,    0.035195,    0.035071,    0.034948,    0.034824,    0.034701,    0.034577,    0.034454,     0.03433,    0.034207,    0.034083,     0.03396,    0.033836,    0.033713,    0.033589,    0.033466,    0.033342,    0.033219,    0.033095,    0.032972,    0.032848,    0.032725,    0.032601,\n",
       "           0.032478,    0.032354,    0.032231,    0.032107,    0.031984,     0.03186,    0.031737,    0.031613,     0.03149,    0.031366,    0.031243,    0.031119,    0.030996,    0.030873,    0.030749,    0.030626,    0.030502,    0.030379,    0.030255,    0.030132,    0.030008,    0.029885,    0.029761,\n",
       "           0.029638,    0.029514,    0.029391,    0.029267,    0.029144,     0.02902,    0.028897,    0.028773,     0.02865,    0.028526,    0.028403,    0.028279,    0.028156,    0.028032,    0.027909,    0.027785,    0.027662,    0.027538,    0.027415,    0.027291,    0.027168,    0.027044,    0.026921,\n",
       "           0.026797,    0.026674,     0.02655,    0.026427,    0.026303,     0.02618,    0.026056,    0.025933,    0.025809,    0.025686,    0.025562,    0.025439,    0.025315,    0.025192,    0.025068,    0.024945,    0.024821,    0.024698,    0.024575,    0.024451,    0.024328,    0.024204,    0.024081,\n",
       "           0.023957,    0.023834,     0.02371,    0.023587,    0.023463,     0.02334,    0.023216,    0.023093,    0.022969,    0.022846,    0.022722,    0.022599,    0.022475,    0.022352,    0.022228,    0.022105,    0.021981,    0.021858,    0.021734,    0.021611,    0.021487,    0.021364,     0.02124,\n",
       "           0.021117,    0.020993,     0.02087,    0.020746,    0.020623,    0.020499,    0.020376,    0.020252,    0.020129,    0.020005,    0.019882,    0.019758,    0.019635,    0.019511,    0.019388,    0.019264,    0.019141,    0.019017,    0.018894,     0.01877,    0.018647,    0.018524,      0.0184,\n",
       "           0.018277,    0.018153,     0.01803,    0.017906,    0.017783,    0.017659,    0.017536,    0.017412,    0.017289,    0.017165,    0.017042,    0.016918,    0.016795,    0.016671,    0.016548,    0.016424,    0.016301,    0.016177,    0.016054,     0.01593,    0.015807,    0.015683,     0.01556,\n",
       "           0.015436,    0.015313,    0.015189,    0.015066,    0.014942,    0.014819,    0.014695,    0.014572,    0.014448,    0.014325,    0.014201,    0.014078,    0.013954,    0.013831,    0.013707,    0.013584,     0.01346,    0.013337,    0.013213,     0.01309,    0.012966,    0.012843,    0.012719,\n",
       "           0.012596,    0.012472,    0.012349,    0.012226,    0.012102,    0.011979,    0.011855,    0.011732,    0.011608,    0.011485,    0.011361,    0.011238,    0.011114,    0.010991,    0.010867,    0.010744,     0.01062,    0.010497,    0.010373,     0.01025,    0.010126,    0.010003,   0.0098792,\n",
       "          0.0097557,   0.0096322,   0.0095087,   0.0093852,   0.0092618,   0.0091383,   0.0090148,   0.0088913,   0.0087678,   0.0086443,   0.0085208,   0.0083973,   0.0082738,   0.0081503,   0.0080269,   0.0079034,   0.0077799,   0.0076564,   0.0075329,   0.0074094,   0.0072859,   0.0071624,   0.0070389,\n",
       "          0.0069154,    0.006792,   0.0066685,    0.006545,   0.0064215,    0.006298,   0.0061745,    0.006051,   0.0059275,    0.005804,   0.0056805,   0.0055571,   0.0054336,   0.0053101,   0.0051866,   0.0050631,   0.0049396,   0.0048161,   0.0046926,   0.0045691,   0.0044456,   0.0043222,   0.0041987,\n",
       "          0.0040752,   0.0039517,   0.0038282,   0.0037047,   0.0035812,   0.0034577,   0.0033342,   0.0032107,   0.0030873,   0.0029638,   0.0028403,   0.0027168,   0.0025933,   0.0024698,   0.0023463,   0.0022228,   0.0020993,   0.0019758,   0.0018524,   0.0017289,   0.0016054,   0.0014819,   0.0013584,\n",
       "          0.0012349,   0.0011114,  0.00098792,  0.00086443,  0.00074094,  0.00061745,  0.00049396,  0.00037047,  0.00024698,  0.00012349,           0]]), 'Recall', 'Precision'], [array([          0,    0.001001,    0.002002,    0.003003,    0.004004,    0.005005,    0.006006,    0.007007,    0.008008,    0.009009,     0.01001,    0.011011,    0.012012,    0.013013,    0.014014,    0.015015,    0.016016,    0.017017,    0.018018,    0.019019,     0.02002,    0.021021,    0.022022,    0.023023,\n",
       "          0.024024,    0.025025,    0.026026,    0.027027,    0.028028,    0.029029,     0.03003,    0.031031,    0.032032,    0.033033,    0.034034,    0.035035,    0.036036,    0.037037,    0.038038,    0.039039,     0.04004,    0.041041,    0.042042,    0.043043,    0.044044,    0.045045,    0.046046,    0.047047,\n",
       "          0.048048,    0.049049,     0.05005,    0.051051,    0.052052,    0.053053,    0.054054,    0.055055,    0.056056,    0.057057,    0.058058,    0.059059,     0.06006,    0.061061,    0.062062,    0.063063,    0.064064,    0.065065,    0.066066,    0.067067,    0.068068,    0.069069,     0.07007,    0.071071,\n",
       "          0.072072,    0.073073,    0.074074,    0.075075,    0.076076,    0.077077,    0.078078,    0.079079,     0.08008,    0.081081,    0.082082,    0.083083,    0.084084,    0.085085,    0.086086,    0.087087,    0.088088,    0.089089,     0.09009,    0.091091,    0.092092,    0.093093,    0.094094,    0.095095,\n",
       "          0.096096,    0.097097,    0.098098,    0.099099,      0.1001,      0.1011,      0.1021,      0.1031,      0.1041,     0.10511,     0.10611,     0.10711,     0.10811,     0.10911,     0.11011,     0.11111,     0.11211,     0.11311,     0.11411,     0.11512,     0.11612,     0.11712,     0.11812,     0.11912,\n",
       "           0.12012,     0.12112,     0.12212,     0.12312,     0.12412,     0.12513,     0.12613,     0.12713,     0.12813,     0.12913,     0.13013,     0.13113,     0.13213,     0.13313,     0.13413,     0.13514,     0.13614,     0.13714,     0.13814,     0.13914,     0.14014,     0.14114,     0.14214,     0.14314,\n",
       "           0.14414,     0.14515,     0.14615,     0.14715,     0.14815,     0.14915,     0.15015,     0.15115,     0.15215,     0.15315,     0.15415,     0.15516,     0.15616,     0.15716,     0.15816,     0.15916,     0.16016,     0.16116,     0.16216,     0.16316,     0.16416,     0.16517,     0.16617,     0.16717,\n",
       "           0.16817,     0.16917,     0.17017,     0.17117,     0.17217,     0.17317,     0.17417,     0.17518,     0.17618,     0.17718,     0.17818,     0.17918,     0.18018,     0.18118,     0.18218,     0.18318,     0.18418,     0.18519,     0.18619,     0.18719,     0.18819,     0.18919,     0.19019,     0.19119,\n",
       "           0.19219,     0.19319,     0.19419,      0.1952,      0.1962,      0.1972,      0.1982,      0.1992,      0.2002,      0.2012,      0.2022,      0.2032,      0.2042,     0.20521,     0.20621,     0.20721,     0.20821,     0.20921,     0.21021,     0.21121,     0.21221,     0.21321,     0.21421,     0.21522,\n",
       "           0.21622,     0.21722,     0.21822,     0.21922,     0.22022,     0.22122,     0.22222,     0.22322,     0.22422,     0.22523,     0.22623,     0.22723,     0.22823,     0.22923,     0.23023,     0.23123,     0.23223,     0.23323,     0.23423,     0.23524,     0.23624,     0.23724,     0.23824,     0.23924,\n",
       "           0.24024,     0.24124,     0.24224,     0.24324,     0.24424,     0.24525,     0.24625,     0.24725,     0.24825,     0.24925,     0.25025,     0.25125,     0.25225,     0.25325,     0.25425,     0.25526,     0.25626,     0.25726,     0.25826,     0.25926,     0.26026,     0.26126,     0.26226,     0.26326,\n",
       "           0.26426,     0.26527,     0.26627,     0.26727,     0.26827,     0.26927,     0.27027,     0.27127,     0.27227,     0.27327,     0.27427,     0.27528,     0.27628,     0.27728,     0.27828,     0.27928,     0.28028,     0.28128,     0.28228,     0.28328,     0.28428,     0.28529,     0.28629,     0.28729,\n",
       "           0.28829,     0.28929,     0.29029,     0.29129,     0.29229,     0.29329,     0.29429,      0.2953,      0.2963,      0.2973,      0.2983,      0.2993,      0.3003,      0.3013,      0.3023,      0.3033,      0.3043,     0.30531,     0.30631,     0.30731,     0.30831,     0.30931,     0.31031,     0.31131,\n",
       "           0.31231,     0.31331,     0.31431,     0.31532,     0.31632,     0.31732,     0.31832,     0.31932,     0.32032,     0.32132,     0.32232,     0.32332,     0.32432,     0.32533,     0.32633,     0.32733,     0.32833,     0.32933,     0.33033,     0.33133,     0.33233,     0.33333,     0.33433,     0.33534,\n",
       "           0.33634,     0.33734,     0.33834,     0.33934,     0.34034,     0.34134,     0.34234,     0.34334,     0.34434,     0.34535,     0.34635,     0.34735,     0.34835,     0.34935,     0.35035,     0.35135,     0.35235,     0.35335,     0.35435,     0.35536,     0.35636,     0.35736,     0.35836,     0.35936,\n",
       "           0.36036,     0.36136,     0.36236,     0.36336,     0.36436,     0.36537,     0.36637,     0.36737,     0.36837,     0.36937,     0.37037,     0.37137,     0.37237,     0.37337,     0.37437,     0.37538,     0.37638,     0.37738,     0.37838,     0.37938,     0.38038,     0.38138,     0.38238,     0.38338,\n",
       "           0.38438,     0.38539,     0.38639,     0.38739,     0.38839,     0.38939,     0.39039,     0.39139,     0.39239,     0.39339,     0.39439,      0.3954,      0.3964,      0.3974,      0.3984,      0.3994,      0.4004,      0.4014,      0.4024,      0.4034,      0.4044,     0.40541,     0.40641,     0.40741,\n",
       "           0.40841,     0.40941,     0.41041,     0.41141,     0.41241,     0.41341,     0.41441,     0.41542,     0.41642,     0.41742,     0.41842,     0.41942,     0.42042,     0.42142,     0.42242,     0.42342,     0.42442,     0.42543,     0.42643,     0.42743,     0.42843,     0.42943,     0.43043,     0.43143,\n",
       "           0.43243,     0.43343,     0.43443,     0.43544,     0.43644,     0.43744,     0.43844,     0.43944,     0.44044,     0.44144,     0.44244,     0.44344,     0.44444,     0.44545,     0.44645,     0.44745,     0.44845,     0.44945,     0.45045,     0.45145,     0.45245,     0.45345,     0.45445,     0.45546,\n",
       "           0.45646,     0.45746,     0.45846,     0.45946,     0.46046,     0.46146,     0.46246,     0.46346,     0.46446,     0.46547,     0.46647,     0.46747,     0.46847,     0.46947,     0.47047,     0.47147,     0.47247,     0.47347,     0.47447,     0.47548,     0.47648,     0.47748,     0.47848,     0.47948,\n",
       "           0.48048,     0.48148,     0.48248,     0.48348,     0.48448,     0.48549,     0.48649,     0.48749,     0.48849,     0.48949,     0.49049,     0.49149,     0.49249,     0.49349,     0.49449,      0.4955,      0.4965,      0.4975,      0.4985,      0.4995,      0.5005,      0.5015,      0.5025,      0.5035,\n",
       "            0.5045,     0.50551,     0.50651,     0.50751,     0.50851,     0.50951,     0.51051,     0.51151,     0.51251,     0.51351,     0.51451,     0.51552,     0.51652,     0.51752,     0.51852,     0.51952,     0.52052,     0.52152,     0.52252,     0.52352,     0.52452,     0.52553,     0.52653,     0.52753,\n",
       "           0.52853,     0.52953,     0.53053,     0.53153,     0.53253,     0.53353,     0.53453,     0.53554,     0.53654,     0.53754,     0.53854,     0.53954,     0.54054,     0.54154,     0.54254,     0.54354,     0.54454,     0.54555,     0.54655,     0.54755,     0.54855,     0.54955,     0.55055,     0.55155,\n",
       "           0.55255,     0.55355,     0.55455,     0.55556,     0.55656,     0.55756,     0.55856,     0.55956,     0.56056,     0.56156,     0.56256,     0.56356,     0.56456,     0.56557,     0.56657,     0.56757,     0.56857,     0.56957,     0.57057,     0.57157,     0.57257,     0.57357,     0.57457,     0.57558,\n",
       "           0.57658,     0.57758,     0.57858,     0.57958,     0.58058,     0.58158,     0.58258,     0.58358,     0.58458,     0.58559,     0.58659,     0.58759,     0.58859,     0.58959,     0.59059,     0.59159,     0.59259,     0.59359,     0.59459,      0.5956,      0.5966,      0.5976,      0.5986,      0.5996,\n",
       "            0.6006,      0.6016,      0.6026,      0.6036,      0.6046,     0.60561,     0.60661,     0.60761,     0.60861,     0.60961,     0.61061,     0.61161,     0.61261,     0.61361,     0.61461,     0.61562,     0.61662,     0.61762,     0.61862,     0.61962,     0.62062,     0.62162,     0.62262,     0.62362,\n",
       "           0.62462,     0.62563,     0.62663,     0.62763,     0.62863,     0.62963,     0.63063,     0.63163,     0.63263,     0.63363,     0.63463,     0.63564,     0.63664,     0.63764,     0.63864,     0.63964,     0.64064,     0.64164,     0.64264,     0.64364,     0.64464,     0.64565,     0.64665,     0.64765,\n",
       "           0.64865,     0.64965,     0.65065,     0.65165,     0.65265,     0.65365,     0.65465,     0.65566,     0.65666,     0.65766,     0.65866,     0.65966,     0.66066,     0.66166,     0.66266,     0.66366,     0.66466,     0.66567,     0.66667,     0.66767,     0.66867,     0.66967,     0.67067,     0.67167,\n",
       "           0.67267,     0.67367,     0.67467,     0.67568,     0.67668,     0.67768,     0.67868,     0.67968,     0.68068,     0.68168,     0.68268,     0.68368,     0.68468,     0.68569,     0.68669,     0.68769,     0.68869,     0.68969,     0.69069,     0.69169,     0.69269,     0.69369,     0.69469,      0.6957,\n",
       "            0.6967,      0.6977,      0.6987,      0.6997,      0.7007,      0.7017,      0.7027,      0.7037,      0.7047,     0.70571,     0.70671,     0.70771,     0.70871,     0.70971,     0.71071,     0.71171,     0.71271,     0.71371,     0.71471,     0.71572,     0.71672,     0.71772,     0.71872,     0.71972,\n",
       "           0.72072,     0.72172,     0.72272,     0.72372,     0.72472,     0.72573,     0.72673,     0.72773,     0.72873,     0.72973,     0.73073,     0.73173,     0.73273,     0.73373,     0.73473,     0.73574,     0.73674,     0.73774,     0.73874,     0.73974,     0.74074,     0.74174,     0.74274,     0.74374,\n",
       "           0.74474,     0.74575,     0.74675,     0.74775,     0.74875,     0.74975,     0.75075,     0.75175,     0.75275,     0.75375,     0.75475,     0.75576,     0.75676,     0.75776,     0.75876,     0.75976,     0.76076,     0.76176,     0.76276,     0.76376,     0.76476,     0.76577,     0.76677,     0.76777,\n",
       "           0.76877,     0.76977,     0.77077,     0.77177,     0.77277,     0.77377,     0.77477,     0.77578,     0.77678,     0.77778,     0.77878,     0.77978,     0.78078,     0.78178,     0.78278,     0.78378,     0.78478,     0.78579,     0.78679,     0.78779,     0.78879,     0.78979,     0.79079,     0.79179,\n",
       "           0.79279,     0.79379,     0.79479,      0.7958,      0.7968,      0.7978,      0.7988,      0.7998,      0.8008,      0.8018,      0.8028,      0.8038,      0.8048,     0.80581,     0.80681,     0.80781,     0.80881,     0.80981,     0.81081,     0.81181,     0.81281,     0.81381,     0.81481,     0.81582,\n",
       "           0.81682,     0.81782,     0.81882,     0.81982,     0.82082,     0.82182,     0.82282,     0.82382,     0.82482,     0.82583,     0.82683,     0.82783,     0.82883,     0.82983,     0.83083,     0.83183,     0.83283,     0.83383,     0.83483,     0.83584,     0.83684,     0.83784,     0.83884,     0.83984,\n",
       "           0.84084,     0.84184,     0.84284,     0.84384,     0.84484,     0.84585,     0.84685,     0.84785,     0.84885,     0.84985,     0.85085,     0.85185,     0.85285,     0.85385,     0.85485,     0.85586,     0.85686,     0.85786,     0.85886,     0.85986,     0.86086,     0.86186,     0.86286,     0.86386,\n",
       "           0.86486,     0.86587,     0.86687,     0.86787,     0.86887,     0.86987,     0.87087,     0.87187,     0.87287,     0.87387,     0.87487,     0.87588,     0.87688,     0.87788,     0.87888,     0.87988,     0.88088,     0.88188,     0.88288,     0.88388,     0.88488,     0.88589,     0.88689,     0.88789,\n",
       "           0.88889,     0.88989,     0.89089,     0.89189,     0.89289,     0.89389,     0.89489,      0.8959,      0.8969,      0.8979,      0.8989,      0.8999,      0.9009,      0.9019,      0.9029,      0.9039,      0.9049,     0.90591,     0.90691,     0.90791,     0.90891,     0.90991,     0.91091,     0.91191,\n",
       "           0.91291,     0.91391,     0.91491,     0.91592,     0.91692,     0.91792,     0.91892,     0.91992,     0.92092,     0.92192,     0.92292,     0.92392,     0.92492,     0.92593,     0.92693,     0.92793,     0.92893,     0.92993,     0.93093,     0.93193,     0.93293,     0.93393,     0.93493,     0.93594,\n",
       "           0.93694,     0.93794,     0.93894,     0.93994,     0.94094,     0.94194,     0.94294,     0.94394,     0.94494,     0.94595,     0.94695,     0.94795,     0.94895,     0.94995,     0.95095,     0.95195,     0.95295,     0.95395,     0.95495,     0.95596,     0.95696,     0.95796,     0.95896,     0.95996,\n",
       "           0.96096,     0.96196,     0.96296,     0.96396,     0.96496,     0.96597,     0.96697,     0.96797,     0.96897,     0.96997,     0.97097,     0.97197,     0.97297,     0.97397,     0.97497,     0.97598,     0.97698,     0.97798,     0.97898,     0.97998,     0.98098,     0.98198,     0.98298,     0.98398,\n",
       "           0.98498,     0.98599,     0.98699,     0.98799,     0.98899,     0.98999,     0.99099,     0.99199,     0.99299,     0.99399,     0.99499,       0.996,       0.997,       0.998,       0.999,           1]), array([[   0.072343,    0.072343,     0.11353,     0.14741,     0.17428,     0.19717,     0.21657,     0.23159,      0.2447,     0.25545,     0.26451,     0.27319,     0.28068,     0.28711,     0.29389,     0.29977,     0.30537,     0.31009,     0.31612,     0.32017,     0.32402,     0.32794,     0.33134,\n",
       "             0.3343,     0.33765,      0.3407,     0.34367,     0.34662,     0.34912,     0.35224,     0.35467,     0.35742,     0.35965,     0.36217,     0.36456,     0.36725,     0.36899,     0.37082,      0.3734,     0.37537,     0.37763,     0.38038,     0.38219,     0.38418,     0.38621,     0.38755,\n",
       "            0.38906,      0.3901,     0.39173,     0.39344,     0.39463,     0.39541,     0.39694,     0.39775,     0.39919,     0.40009,     0.40094,     0.40229,     0.40368,     0.40486,      0.4062,     0.40795,     0.40877,     0.41047,     0.41125,     0.41258,     0.41394,     0.41485,     0.41665,\n",
       "            0.41839,     0.41931,     0.42014,     0.42069,     0.42199,     0.42292,     0.42402,     0.42511,     0.42676,     0.42787,     0.42928,     0.43053,     0.43189,     0.43236,     0.43396,     0.43479,     0.43581,     0.43744,      0.4387,     0.43989,     0.44139,     0.44365,     0.44527,\n",
       "              0.447,     0.44895,     0.45041,     0.45218,     0.45412,      0.4562,     0.45683,      0.4582,      0.4603,     0.46142,     0.46302,     0.46433,     0.46551,     0.46717,     0.46941,     0.47078,     0.47217,     0.47491,     0.47656,      0.4775,      0.4791,     0.47991,     0.48136,\n",
       "            0.48211,     0.48318,     0.48383,      0.4857,     0.48654,     0.48814,     0.48962,      0.4906,     0.49215,     0.49372,     0.49541,     0.49677,     0.49726,     0.49888,     0.49955,      0.5001,     0.50095,     0.50194,      0.5033,     0.50448,     0.50555,     0.50806,     0.50827,\n",
       "            0.50943,     0.51065,     0.51212,     0.51272,     0.51395,     0.51484,     0.51524,      0.5171,     0.51805,     0.51868,     0.51994,     0.52103,     0.52175,     0.52331,     0.52432,      0.5253,     0.52563,     0.52636,     0.52659,     0.52709,     0.52763,     0.52731,     0.52716,\n",
       "             0.5271,     0.52792,     0.52797,     0.52836,     0.52848,     0.52854,     0.52892,     0.52886,     0.53014,     0.52965,     0.52934,     0.52917,     0.52925,     0.52986,     0.53104,     0.53143,     0.53092,     0.53176,     0.53209,       0.532,     0.53199,     0.53169,     0.53176,\n",
       "            0.53233,     0.53228,     0.53125,     0.53116,     0.53076,     0.52996,     0.52994,     0.52949,     0.53014,     0.52987,     0.52965,      0.5294,     0.53009,     0.52988,     0.53051,     0.52963,     0.52955,     0.52934,     0.52989,     0.52913,     0.52856,     0.52813,     0.52769,\n",
       "            0.52703,     0.52778,     0.52727,     0.52672,      0.5267,     0.52663,     0.52618,     0.52587,     0.52423,     0.52291,     0.52361,     0.52372,     0.52333,     0.52292,     0.52237,     0.52133,     0.52147,     0.52066,     0.52112,     0.51992,     0.51922,     0.51889,     0.51717,\n",
       "             0.5168,     0.51578,     0.51544,     0.51486,     0.51419,     0.51356,     0.51361,     0.51306,     0.51238,     0.51265,     0.51202,     0.51256,     0.51308,     0.51306,     0.51204,     0.51154,     0.51054,     0.51102,     0.51009,     0.50967,     0.50872,     0.50828,     0.50725,\n",
       "            0.50432,     0.50395,     0.50328,      0.5022,     0.50172,     0.49993,     0.49852,     0.49779,     0.49746,     0.49697,     0.49683,     0.49686,     0.49459,     0.49554,     0.49569,     0.49541,     0.49439,     0.49323,     0.49133,     0.49087,     0.49022,     0.48918,     0.48827,\n",
       "            0.48739,     0.48757,     0.48705,     0.48626,     0.48645,      0.4861,     0.48565,      0.4846,     0.48403,     0.48298,     0.48184,     0.48159,     0.48103,     0.48068,     0.48037,     0.47951,     0.47884,     0.47799,     0.47595,     0.47467,     0.47423,     0.47402,     0.47416,\n",
       "            0.47191,     0.47161,     0.47159,     0.47158,     0.47176,     0.47152,     0.47091,     0.47135,     0.47145,     0.47058,     0.47038,     0.46999,     0.46989,     0.46975,     0.47019,      0.4699,     0.47015,     0.46955,      0.4689,     0.46803,       0.467,     0.46716,     0.46735,\n",
       "            0.46695,     0.46675,     0.46594,      0.4651,     0.46485,     0.46374,     0.46385,     0.46311,     0.46351,     0.46348,      0.4634,     0.46339,     0.46271,     0.46207,      0.4615,     0.46143,     0.46165,     0.46096,     0.46094,     0.46102,     0.46079,     0.46008,     0.45992,\n",
       "            0.45958,     0.45868,     0.45806,     0.45797,     0.45792,     0.45723,     0.45711,     0.45649,     0.45635,     0.45556,     0.45534,     0.45543,     0.45501,      0.4549,     0.45437,     0.45344,     0.45364,      0.4539,     0.45362,     0.45345,     0.45296,     0.45305,     0.45243,\n",
       "            0.45253,     0.45288,     0.45255,     0.45242,     0.45211,     0.45155,     0.45153,     0.45132,     0.45137,     0.45148,     0.45136,     0.45085,     0.45062,     0.44983,      0.4501,     0.44958,     0.44909,     0.44888,     0.44893,     0.44879,     0.44854,     0.44859,     0.44795,\n",
       "            0.44743,     0.44728,     0.44701,     0.44677,     0.44611,      0.4462,     0.44559,     0.44554,     0.44568,      0.4455,       0.445,     0.44527,     0.44492,     0.44444,     0.44413,     0.44373,     0.44299,     0.44304,     0.44278,     0.44255,     0.44221,     0.44239,     0.44216,\n",
       "            0.44227,     0.44243,     0.44247,     0.44255,      0.4423,     0.44234,      0.4418,      0.4418,     0.44125,     0.44053,     0.44031,     0.44057,     0.44035,     0.44037,     0.44005,     0.43973,     0.43951,     0.43957,     0.43925,     0.43915,     0.43924,     0.43914,     0.43855,\n",
       "            0.43791,      0.4382,     0.43824,     0.43802,     0.43738,     0.43692,     0.43636,     0.43613,     0.43603,     0.43587,     0.43539,     0.43523,       0.435,     0.43471,      0.4344,     0.43456,     0.43445,     0.43433,     0.43436,      0.4344,     0.43406,     0.43392,     0.43369,\n",
       "            0.43358,     0.43345,     0.43334,     0.43323,     0.43261,     0.43238,      0.4322,     0.43196,     0.43149,     0.43091,     0.43069,     0.43049,     0.43032,     0.42965,     0.42967,      0.4294,     0.42842,     0.42754,     0.42665,     0.42632,      0.4264,     0.42645,     0.42615,\n",
       "            0.42517,     0.42489,     0.42506,     0.42509,     0.42443,     0.42413,     0.42397,     0.42395,     0.42381,     0.42366,     0.42328,     0.42263,     0.42205,      0.4214,     0.42106,     0.42073,     0.42007,     0.41982,     0.41965,      0.4193,     0.41939,     0.41947,     0.41924,\n",
       "            0.41933,     0.41913,     0.41879,     0.41885,     0.41861,      0.4187,     0.41839,     0.41828,     0.41817,     0.41786,     0.41794,     0.41797,       0.418,     0.41767,     0.41694,     0.41678,     0.41621,     0.41604,     0.41552,     0.41455,     0.41438,     0.41418,     0.41351,\n",
       "            0.41317,     0.41225,     0.41165,     0.41153,     0.41142,     0.41099,     0.41092,     0.41086,     0.41079,     0.41072,     0.41052,     0.40994,     0.40968,     0.40951,     0.40934,     0.40917,     0.40857,      0.4085,      0.4083,     0.40796,     0.40762,     0.40694,      0.4064,\n",
       "            0.40623,     0.40525,     0.40491,     0.40438,     0.40421,     0.40425,     0.40396,     0.40401,     0.40374,     0.40335,     0.40267,     0.40224,     0.40232,     0.40207,     0.40182,     0.40162,      0.4006,     0.39956,     0.39964,     0.39919,     0.39902,     0.39889,     0.39878,\n",
       "            0.39866,     0.39834,     0.39839,     0.39856,     0.39831,     0.39755,     0.39739,     0.39693,     0.39625,     0.39556,     0.39532,     0.39514,     0.39497,      0.3948,      0.3945,     0.39415,     0.39388,     0.39367,      0.3935,     0.39318,     0.39283,     0.39266,     0.39252,\n",
       "            0.39229,     0.39168,     0.39133,     0.39119,     0.39123,     0.39036,     0.39001,     0.38991,     0.38995,     0.38956,      0.3889,     0.38872,     0.38857,     0.38848,     0.38839,     0.38831,     0.38778,     0.38743,     0.38659,     0.38518,     0.38499,     0.38481,     0.38343,\n",
       "            0.38348,     0.38323,     0.38287,     0.38248,      0.3821,     0.38193,     0.38163,     0.38109,     0.38098,     0.38086,     0.37986,     0.37976,     0.37947,     0.37929,      0.3792,     0.37885,     0.37854,     0.37831,     0.37795,     0.37797,     0.37799,     0.37801,     0.37797,\n",
       "            0.37747,     0.37676,     0.37657,     0.37647,     0.37637,     0.37586,     0.37556,     0.37546,     0.37536,     0.37526,     0.37496,     0.37466,     0.37365,     0.37341,     0.37344,     0.37346,     0.37328,     0.37301,      0.3722,     0.37184,     0.37043,     0.37006,     0.36937,\n",
       "            0.36913,     0.36909,     0.36913,     0.36832,     0.36818,     0.36797,     0.36773,     0.36748,     0.36714,     0.36647,     0.36588,     0.36523,     0.36527,      0.3649,     0.36473,     0.36455,     0.36397,     0.36318,     0.36315,     0.36319,     0.36288,     0.36287,     0.36263,\n",
       "            0.36192,     0.36146,     0.36132,     0.36082,     0.36017,     0.36003,     0.35988,     0.35846,     0.35793,      0.3577,     0.35651,     0.35633,     0.35611,     0.35569,     0.35551,     0.35431,     0.35358,     0.35314,     0.35229,     0.35156,     0.35027,     0.35012,     0.34979,\n",
       "            0.34972,     0.34942,     0.34851,     0.34798,     0.34722,      0.3469,      0.3463,     0.34622,     0.34552,     0.34527,     0.34495,     0.34399,     0.34387,     0.34374,     0.34345,     0.34188,     0.34192,     0.34042,     0.34017,     0.33963,     0.33913,     0.33849,      0.3383,\n",
       "            0.33776,     0.33685,     0.33534,     0.33441,     0.33281,     0.33241,     0.33186,      0.3317,     0.33158,     0.33145,     0.33116,     0.33066,     0.32909,      0.3286,     0.32741,     0.32687,     0.32677,     0.32658,     0.32576,     0.32465,     0.32325,     0.32246,     0.32219,\n",
       "            0.32169,      0.3215,     0.32042,     0.31797,     0.31771,      0.3158,     0.31582,     0.31557,     0.31472,     0.31425,      0.3128,     0.31231,     0.31125,     0.31109,     0.31073,     0.30971,     0.30799,     0.30765,     0.30618,      0.3054,     0.30392,     0.30352,     0.30256,\n",
       "             0.3004,     0.29913,     0.29779,     0.29647,     0.29464,     0.29373,     0.29149,     0.29065,     0.28902,     0.28835,     0.28684,     0.28637,     0.28483,     0.28326,      0.2821,     0.27909,      0.2781,     0.27781,     0.27548,     0.27328,     0.27284,     0.27122,     0.26985,\n",
       "            0.26763,     0.26647,     0.26403,     0.26118,     0.26024,      0.2587,     0.25683,     0.25506,     0.25177,     0.24826,     0.24685,     0.24436,     0.24121,     0.23976,     0.23688,     0.23275,     0.22978,     0.22729,     0.22473,     0.22286,     0.22045,     0.21703,     0.21287,\n",
       "            0.21018,     0.20629,     0.20367,     0.20245,     0.20191,      0.1998,     0.19454,     0.19057,      0.1879,     0.18543,     0.18344,     0.18031,     0.17673,     0.17227,     0.16936,     0.16547,     0.16273,     0.16005,      0.1586,     0.15172,     0.14848,     0.14384,     0.13964,\n",
       "            0.13496,     0.13198,     0.12949,     0.12789,      0.1227,     0.12078,     0.11574,     0.11359,     0.10973,      0.1054,     0.10248,    0.099547,    0.095144,    0.091699,    0.089224,    0.087235,     0.08228,    0.079285,    0.076777,    0.073266,    0.071243,    0.068374,    0.066179,\n",
       "           0.063134,    0.061089,    0.056506,    0.055259,    0.054911,    0.051082,     0.04927,    0.047732,    0.046145,    0.044578,     0.04333,     0.04074,    0.038831,    0.037614,    0.034635,     0.03357,    0.031983,    0.030079,    0.029723,    0.028697,    0.028161,    0.026735,    0.025559,\n",
       "           0.024484,    0.023408,    0.020753,    0.018458,    0.018064,    0.016327,    0.015948,    0.014811,    0.012768,    0.012405,    0.010485,   0.0092459,   0.0084332,   0.0077411,   0.0073284,   0.0071095,   0.0067792,    0.006374,   0.0062175,    0.006061,   0.0059045,   0.0053764,   0.0052094,\n",
       "          0.0050528,   0.0048961,   0.0046226,   0.0042768,     0.00412,   0.0039632,   0.0038064,   0.0036733,   0.0035512,   0.0034292,   0.0033072,   0.0031851,    0.003063,   0.0029409,   0.0028188,   0.0026967,    0.002072,   0.0019874,   0.0019028,   0.0018182,   0.0017335,   0.0016489,   0.0013037,\n",
       "         0.00096752,  0.00078399,  0.00060042,           0,           0,           0,           0,           0,           0,           0,           0,           0,           0,           0,           0,           0,           0,           0,           0,           0,           0,           0,           0,\n",
       "                  0,           0,           0,           0,           0,           0,           0,           0,           0,           0,           0,           0,           0,           0,           0,           0,           0,           0,           0,           0,           0,           0,           0,\n",
       "                  0,           0,           0,           0,           0,           0,           0,           0,           0,           0,           0]]), 'Confidence', 'F1'], [array([          0,    0.001001,    0.002002,    0.003003,    0.004004,    0.005005,    0.006006,    0.007007,    0.008008,    0.009009,     0.01001,    0.011011,    0.012012,    0.013013,    0.014014,    0.015015,    0.016016,    0.017017,    0.018018,    0.019019,     0.02002,    0.021021,    0.022022,    0.023023,\n",
       "          0.024024,    0.025025,    0.026026,    0.027027,    0.028028,    0.029029,     0.03003,    0.031031,    0.032032,    0.033033,    0.034034,    0.035035,    0.036036,    0.037037,    0.038038,    0.039039,     0.04004,    0.041041,    0.042042,    0.043043,    0.044044,    0.045045,    0.046046,    0.047047,\n",
       "          0.048048,    0.049049,     0.05005,    0.051051,    0.052052,    0.053053,    0.054054,    0.055055,    0.056056,    0.057057,    0.058058,    0.059059,     0.06006,    0.061061,    0.062062,    0.063063,    0.064064,    0.065065,    0.066066,    0.067067,    0.068068,    0.069069,     0.07007,    0.071071,\n",
       "          0.072072,    0.073073,    0.074074,    0.075075,    0.076076,    0.077077,    0.078078,    0.079079,     0.08008,    0.081081,    0.082082,    0.083083,    0.084084,    0.085085,    0.086086,    0.087087,    0.088088,    0.089089,     0.09009,    0.091091,    0.092092,    0.093093,    0.094094,    0.095095,\n",
       "          0.096096,    0.097097,    0.098098,    0.099099,      0.1001,      0.1011,      0.1021,      0.1031,      0.1041,     0.10511,     0.10611,     0.10711,     0.10811,     0.10911,     0.11011,     0.11111,     0.11211,     0.11311,     0.11411,     0.11512,     0.11612,     0.11712,     0.11812,     0.11912,\n",
       "           0.12012,     0.12112,     0.12212,     0.12312,     0.12412,     0.12513,     0.12613,     0.12713,     0.12813,     0.12913,     0.13013,     0.13113,     0.13213,     0.13313,     0.13413,     0.13514,     0.13614,     0.13714,     0.13814,     0.13914,     0.14014,     0.14114,     0.14214,     0.14314,\n",
       "           0.14414,     0.14515,     0.14615,     0.14715,     0.14815,     0.14915,     0.15015,     0.15115,     0.15215,     0.15315,     0.15415,     0.15516,     0.15616,     0.15716,     0.15816,     0.15916,     0.16016,     0.16116,     0.16216,     0.16316,     0.16416,     0.16517,     0.16617,     0.16717,\n",
       "           0.16817,     0.16917,     0.17017,     0.17117,     0.17217,     0.17317,     0.17417,     0.17518,     0.17618,     0.17718,     0.17818,     0.17918,     0.18018,     0.18118,     0.18218,     0.18318,     0.18418,     0.18519,     0.18619,     0.18719,     0.18819,     0.18919,     0.19019,     0.19119,\n",
       "           0.19219,     0.19319,     0.19419,      0.1952,      0.1962,      0.1972,      0.1982,      0.1992,      0.2002,      0.2012,      0.2022,      0.2032,      0.2042,     0.20521,     0.20621,     0.20721,     0.20821,     0.20921,     0.21021,     0.21121,     0.21221,     0.21321,     0.21421,     0.21522,\n",
       "           0.21622,     0.21722,     0.21822,     0.21922,     0.22022,     0.22122,     0.22222,     0.22322,     0.22422,     0.22523,     0.22623,     0.22723,     0.22823,     0.22923,     0.23023,     0.23123,     0.23223,     0.23323,     0.23423,     0.23524,     0.23624,     0.23724,     0.23824,     0.23924,\n",
       "           0.24024,     0.24124,     0.24224,     0.24324,     0.24424,     0.24525,     0.24625,     0.24725,     0.24825,     0.24925,     0.25025,     0.25125,     0.25225,     0.25325,     0.25425,     0.25526,     0.25626,     0.25726,     0.25826,     0.25926,     0.26026,     0.26126,     0.26226,     0.26326,\n",
       "           0.26426,     0.26527,     0.26627,     0.26727,     0.26827,     0.26927,     0.27027,     0.27127,     0.27227,     0.27327,     0.27427,     0.27528,     0.27628,     0.27728,     0.27828,     0.27928,     0.28028,     0.28128,     0.28228,     0.28328,     0.28428,     0.28529,     0.28629,     0.28729,\n",
       "           0.28829,     0.28929,     0.29029,     0.29129,     0.29229,     0.29329,     0.29429,      0.2953,      0.2963,      0.2973,      0.2983,      0.2993,      0.3003,      0.3013,      0.3023,      0.3033,      0.3043,     0.30531,     0.30631,     0.30731,     0.30831,     0.30931,     0.31031,     0.31131,\n",
       "           0.31231,     0.31331,     0.31431,     0.31532,     0.31632,     0.31732,     0.31832,     0.31932,     0.32032,     0.32132,     0.32232,     0.32332,     0.32432,     0.32533,     0.32633,     0.32733,     0.32833,     0.32933,     0.33033,     0.33133,     0.33233,     0.33333,     0.33433,     0.33534,\n",
       "           0.33634,     0.33734,     0.33834,     0.33934,     0.34034,     0.34134,     0.34234,     0.34334,     0.34434,     0.34535,     0.34635,     0.34735,     0.34835,     0.34935,     0.35035,     0.35135,     0.35235,     0.35335,     0.35435,     0.35536,     0.35636,     0.35736,     0.35836,     0.35936,\n",
       "           0.36036,     0.36136,     0.36236,     0.36336,     0.36436,     0.36537,     0.36637,     0.36737,     0.36837,     0.36937,     0.37037,     0.37137,     0.37237,     0.37337,     0.37437,     0.37538,     0.37638,     0.37738,     0.37838,     0.37938,     0.38038,     0.38138,     0.38238,     0.38338,\n",
       "           0.38438,     0.38539,     0.38639,     0.38739,     0.38839,     0.38939,     0.39039,     0.39139,     0.39239,     0.39339,     0.39439,      0.3954,      0.3964,      0.3974,      0.3984,      0.3994,      0.4004,      0.4014,      0.4024,      0.4034,      0.4044,     0.40541,     0.40641,     0.40741,\n",
       "           0.40841,     0.40941,     0.41041,     0.41141,     0.41241,     0.41341,     0.41441,     0.41542,     0.41642,     0.41742,     0.41842,     0.41942,     0.42042,     0.42142,     0.42242,     0.42342,     0.42442,     0.42543,     0.42643,     0.42743,     0.42843,     0.42943,     0.43043,     0.43143,\n",
       "           0.43243,     0.43343,     0.43443,     0.43544,     0.43644,     0.43744,     0.43844,     0.43944,     0.44044,     0.44144,     0.44244,     0.44344,     0.44444,     0.44545,     0.44645,     0.44745,     0.44845,     0.44945,     0.45045,     0.45145,     0.45245,     0.45345,     0.45445,     0.45546,\n",
       "           0.45646,     0.45746,     0.45846,     0.45946,     0.46046,     0.46146,     0.46246,     0.46346,     0.46446,     0.46547,     0.46647,     0.46747,     0.46847,     0.46947,     0.47047,     0.47147,     0.47247,     0.47347,     0.47447,     0.47548,     0.47648,     0.47748,     0.47848,     0.47948,\n",
       "           0.48048,     0.48148,     0.48248,     0.48348,     0.48448,     0.48549,     0.48649,     0.48749,     0.48849,     0.48949,     0.49049,     0.49149,     0.49249,     0.49349,     0.49449,      0.4955,      0.4965,      0.4975,      0.4985,      0.4995,      0.5005,      0.5015,      0.5025,      0.5035,\n",
       "            0.5045,     0.50551,     0.50651,     0.50751,     0.50851,     0.50951,     0.51051,     0.51151,     0.51251,     0.51351,     0.51451,     0.51552,     0.51652,     0.51752,     0.51852,     0.51952,     0.52052,     0.52152,     0.52252,     0.52352,     0.52452,     0.52553,     0.52653,     0.52753,\n",
       "           0.52853,     0.52953,     0.53053,     0.53153,     0.53253,     0.53353,     0.53453,     0.53554,     0.53654,     0.53754,     0.53854,     0.53954,     0.54054,     0.54154,     0.54254,     0.54354,     0.54454,     0.54555,     0.54655,     0.54755,     0.54855,     0.54955,     0.55055,     0.55155,\n",
       "           0.55255,     0.55355,     0.55455,     0.55556,     0.55656,     0.55756,     0.55856,     0.55956,     0.56056,     0.56156,     0.56256,     0.56356,     0.56456,     0.56557,     0.56657,     0.56757,     0.56857,     0.56957,     0.57057,     0.57157,     0.57257,     0.57357,     0.57457,     0.57558,\n",
       "           0.57658,     0.57758,     0.57858,     0.57958,     0.58058,     0.58158,     0.58258,     0.58358,     0.58458,     0.58559,     0.58659,     0.58759,     0.58859,     0.58959,     0.59059,     0.59159,     0.59259,     0.59359,     0.59459,      0.5956,      0.5966,      0.5976,      0.5986,      0.5996,\n",
       "            0.6006,      0.6016,      0.6026,      0.6036,      0.6046,     0.60561,     0.60661,     0.60761,     0.60861,     0.60961,     0.61061,     0.61161,     0.61261,     0.61361,     0.61461,     0.61562,     0.61662,     0.61762,     0.61862,     0.61962,     0.62062,     0.62162,     0.62262,     0.62362,\n",
       "           0.62462,     0.62563,     0.62663,     0.62763,     0.62863,     0.62963,     0.63063,     0.63163,     0.63263,     0.63363,     0.63463,     0.63564,     0.63664,     0.63764,     0.63864,     0.63964,     0.64064,     0.64164,     0.64264,     0.64364,     0.64464,     0.64565,     0.64665,     0.64765,\n",
       "           0.64865,     0.64965,     0.65065,     0.65165,     0.65265,     0.65365,     0.65465,     0.65566,     0.65666,     0.65766,     0.65866,     0.65966,     0.66066,     0.66166,     0.66266,     0.66366,     0.66466,     0.66567,     0.66667,     0.66767,     0.66867,     0.66967,     0.67067,     0.67167,\n",
       "           0.67267,     0.67367,     0.67467,     0.67568,     0.67668,     0.67768,     0.67868,     0.67968,     0.68068,     0.68168,     0.68268,     0.68368,     0.68468,     0.68569,     0.68669,     0.68769,     0.68869,     0.68969,     0.69069,     0.69169,     0.69269,     0.69369,     0.69469,      0.6957,\n",
       "            0.6967,      0.6977,      0.6987,      0.6997,      0.7007,      0.7017,      0.7027,      0.7037,      0.7047,     0.70571,     0.70671,     0.70771,     0.70871,     0.70971,     0.71071,     0.71171,     0.71271,     0.71371,     0.71471,     0.71572,     0.71672,     0.71772,     0.71872,     0.71972,\n",
       "           0.72072,     0.72172,     0.72272,     0.72372,     0.72472,     0.72573,     0.72673,     0.72773,     0.72873,     0.72973,     0.73073,     0.73173,     0.73273,     0.73373,     0.73473,     0.73574,     0.73674,     0.73774,     0.73874,     0.73974,     0.74074,     0.74174,     0.74274,     0.74374,\n",
       "           0.74474,     0.74575,     0.74675,     0.74775,     0.74875,     0.74975,     0.75075,     0.75175,     0.75275,     0.75375,     0.75475,     0.75576,     0.75676,     0.75776,     0.75876,     0.75976,     0.76076,     0.76176,     0.76276,     0.76376,     0.76476,     0.76577,     0.76677,     0.76777,\n",
       "           0.76877,     0.76977,     0.77077,     0.77177,     0.77277,     0.77377,     0.77477,     0.77578,     0.77678,     0.77778,     0.77878,     0.77978,     0.78078,     0.78178,     0.78278,     0.78378,     0.78478,     0.78579,     0.78679,     0.78779,     0.78879,     0.78979,     0.79079,     0.79179,\n",
       "           0.79279,     0.79379,     0.79479,      0.7958,      0.7968,      0.7978,      0.7988,      0.7998,      0.8008,      0.8018,      0.8028,      0.8038,      0.8048,     0.80581,     0.80681,     0.80781,     0.80881,     0.80981,     0.81081,     0.81181,     0.81281,     0.81381,     0.81481,     0.81582,\n",
       "           0.81682,     0.81782,     0.81882,     0.81982,     0.82082,     0.82182,     0.82282,     0.82382,     0.82482,     0.82583,     0.82683,     0.82783,     0.82883,     0.82983,     0.83083,     0.83183,     0.83283,     0.83383,     0.83483,     0.83584,     0.83684,     0.83784,     0.83884,     0.83984,\n",
       "           0.84084,     0.84184,     0.84284,     0.84384,     0.84484,     0.84585,     0.84685,     0.84785,     0.84885,     0.84985,     0.85085,     0.85185,     0.85285,     0.85385,     0.85485,     0.85586,     0.85686,     0.85786,     0.85886,     0.85986,     0.86086,     0.86186,     0.86286,     0.86386,\n",
       "           0.86486,     0.86587,     0.86687,     0.86787,     0.86887,     0.86987,     0.87087,     0.87187,     0.87287,     0.87387,     0.87487,     0.87588,     0.87688,     0.87788,     0.87888,     0.87988,     0.88088,     0.88188,     0.88288,     0.88388,     0.88488,     0.88589,     0.88689,     0.88789,\n",
       "           0.88889,     0.88989,     0.89089,     0.89189,     0.89289,     0.89389,     0.89489,      0.8959,      0.8969,      0.8979,      0.8989,      0.8999,      0.9009,      0.9019,      0.9029,      0.9039,      0.9049,     0.90591,     0.90691,     0.90791,     0.90891,     0.90991,     0.91091,     0.91191,\n",
       "           0.91291,     0.91391,     0.91491,     0.91592,     0.91692,     0.91792,     0.91892,     0.91992,     0.92092,     0.92192,     0.92292,     0.92392,     0.92492,     0.92593,     0.92693,     0.92793,     0.92893,     0.92993,     0.93093,     0.93193,     0.93293,     0.93393,     0.93493,     0.93594,\n",
       "           0.93694,     0.93794,     0.93894,     0.93994,     0.94094,     0.94194,     0.94294,     0.94394,     0.94494,     0.94595,     0.94695,     0.94795,     0.94895,     0.94995,     0.95095,     0.95195,     0.95295,     0.95395,     0.95495,     0.95596,     0.95696,     0.95796,     0.95896,     0.95996,\n",
       "           0.96096,     0.96196,     0.96296,     0.96396,     0.96496,     0.96597,     0.96697,     0.96797,     0.96897,     0.96997,     0.97097,     0.97197,     0.97297,     0.97397,     0.97497,     0.97598,     0.97698,     0.97798,     0.97898,     0.97998,     0.98098,     0.98198,     0.98298,     0.98398,\n",
       "           0.98498,     0.98599,     0.98699,     0.98799,     0.98899,     0.98999,     0.99099,     0.99199,     0.99299,     0.99399,     0.99499,       0.996,       0.997,       0.998,       0.999,           1]), array([[   0.038171,    0.038171,    0.061905,    0.082681,     0.10007,     0.11556,     0.12919,     0.14006,     0.14984,     0.15802,     0.16518,     0.17209,     0.17811,     0.18345,     0.18906,     0.19411,     0.19886,     0.20314,     0.20841,     0.21211,     0.21562,     0.21923,      0.2224,\n",
       "            0.22527,     0.22849,     0.23132,     0.23418,     0.23708,     0.23957,     0.24252,     0.24495,      0.2477,     0.25005,     0.25266,     0.25499,     0.25772,      0.2596,     0.26156,     0.26427,      0.2664,     0.26887,     0.27167,     0.27362,     0.27577,     0.27786,     0.27941,\n",
       "             0.2813,     0.28255,     0.28454,      0.2864,     0.28767,     0.28872,     0.29053,     0.29163,     0.29318,     0.29439,     0.29556,     0.29708,     0.29898,     0.30046,     0.30212,     0.30427,     0.30538,     0.30735,     0.30842,     0.30999,     0.31173,     0.31284,     0.31503,\n",
       "            0.31716,     0.31837,     0.31969,     0.32061,     0.32213,     0.32337,     0.32482,     0.32609,     0.32803,     0.32975,     0.33159,     0.33324,     0.33504,     0.33601,      0.3382,     0.33946,     0.34114,     0.34313,     0.34504,     0.34696,     0.34919,     0.35231,     0.35464,\n",
       "            0.35693,     0.35982,     0.36199,      0.3646,     0.36763,     0.37048,     0.37205,     0.37418,     0.37733,     0.37939,     0.38178,     0.38382,     0.38575,       0.389,     0.39247,     0.39513,     0.39772,       0.402,     0.40543,     0.40746,     0.41021,      0.4118,     0.41464,\n",
       "            0.41633,     0.41894,     0.42032,     0.42363,     0.42491,     0.42736,     0.42993,     0.43175,      0.4348,     0.43742,     0.44056,     0.44338,     0.44483,     0.44759,      0.4497,     0.45129,     0.45338,     0.45607,      0.4585,     0.46102,     0.46374,     0.46837,     0.46969,\n",
       "            0.47206,     0.47476,     0.47751,     0.47875,     0.48111,     0.48327,     0.48482,     0.48898,     0.49133,     0.49311,     0.49539,     0.49782,     0.50003,     0.50314,     0.50507,     0.50754,     0.50909,     0.51117,     0.51234,     0.51352,     0.51455,     0.51539,     0.51634,\n",
       "            0.51771,     0.51972,     0.52102,     0.52296,     0.52423,     0.52594,     0.52693,     0.52841,     0.53126,     0.53256,     0.53348,     0.53536,     0.53602,      0.5382,     0.54123,     0.54291,     0.54331,     0.54597,     0.54755,     0.54833,     0.54886,     0.54975,     0.55144,\n",
       "            0.55266,     0.55468,     0.55569,     0.55745,     0.55752,     0.55882,       0.561,       0.562,     0.56483,     0.56634,     0.56747,     0.56837,     0.57068,     0.57081,     0.57315,     0.57322,     0.57524,     0.57733,     0.57939,     0.58063,     0.58108,     0.58263,     0.58374,\n",
       "            0.58592,      0.5896,     0.59038,     0.59192,     0.59439,     0.59731,     0.59823,     0.60106,     0.60065,     0.60228,     0.60448,     0.60709,     0.60793,     0.61011,     0.61054,     0.61255,     0.61379,     0.61562,     0.61792,     0.62016,     0.62128,     0.62352,     0.62359,\n",
       "            0.62543,     0.62594,     0.62744,     0.62851,     0.62863,     0.63082,     0.63211,     0.63447,     0.63474,     0.63665,     0.63898,     0.64128,     0.64354,     0.64405,      0.6444,     0.64607,     0.64662,     0.64875,     0.65225,     0.65412,     0.65633,     0.65753,     0.65886,\n",
       "            0.65861,     0.65978,     0.66057,     0.66209,     0.66315,     0.66268,     0.66363,     0.66403,     0.66666,     0.66714,     0.66816,     0.66904,     0.67009,     0.67361,     0.67486,     0.67794,     0.67897,     0.67929,     0.67982,     0.68091,     0.68319,     0.68325,     0.68526,\n",
       "            0.68604,     0.68761,     0.68911,     0.69138,     0.69308,      0.6935,     0.69631,     0.69763,     0.69869,      0.6984,     0.70151,     0.70287,       0.704,     0.70551,     0.70823,     0.71001,      0.7116,     0.71211,     0.71396,     0.71492,     0.71691,     0.72036,     0.72325,\n",
       "            0.72449,     0.72738,     0.72961,     0.73073,     0.73278,     0.73445,     0.73469,     0.73685,     0.73967,     0.74042,     0.74188,      0.7431,     0.74448,     0.74885,     0.75108,     0.75223,     0.75483,     0.75702,     0.75761,     0.75841,     0.75841,     0.76062,     0.76163,\n",
       "            0.76331,     0.76398,     0.76534,     0.76628,     0.76694,     0.76681,     0.76804,     0.76823,     0.77194,     0.77369,     0.77427,     0.77568,     0.77635,     0.77702,     0.77851,     0.77988,     0.78241,      0.7838,      0.7845,     0.78649,     0.78831,     0.79048,     0.79132,\n",
       "             0.7926,     0.79412,      0.7946,     0.79525,     0.79706,     0.79786,     0.79881,     0.80004,     0.80144,     0.80277,     0.80401,     0.80541,     0.80744,     0.80894,     0.80923,     0.81039,     0.81166,     0.81337,     0.81414,     0.81512,     0.81632,      0.8169,     0.81839,\n",
       "            0.81899,     0.82132,     0.82337,     0.82441,     0.82429,     0.82461,     0.82548,     0.82596,     0.82823,     0.82897,     0.83007,     0.83045,     0.83092,     0.83133,     0.83316,     0.83354,     0.83487,     0.83665,       0.837,     0.83804,     0.83834,     0.83865,     0.84024,\n",
       "            0.84064,     0.84175,     0.84402,     0.84453,     0.84571,     0.84636,     0.84709,     0.84796,     0.84955,     0.84949,     0.84991,     0.85235,     0.85409,     0.85464,     0.85453,     0.85621,     0.85731,     0.85765,     0.85844,       0.859,     0.86033,     0.86169,     0.86227,\n",
       "            0.86304,     0.86428,     0.86462,      0.8652,     0.86555,      0.8659,      0.8658,     0.86631,     0.86627,     0.86804,     0.86864,     0.87073,     0.87134,      0.8719,     0.87179,     0.87169,     0.87179,     0.87297,     0.87287,     0.87373,     0.87445,     0.87485,     0.87534,\n",
       "            0.87513,     0.87818,     0.87855,     0.87857,     0.87837,      0.8796,     0.88011,     0.88073,      0.8814,     0.88135,      0.8812,     0.88115,     0.88177,     0.88449,     0.88442,     0.88585,     0.88582,     0.88578,     0.88664,     0.88701,     0.88783,     0.88812,     0.88879,\n",
       "            0.88912,      0.8898,     0.88977,     0.88974,        0.89,     0.89067,     0.89088,     0.89153,     0.89285,     0.89396,     0.89409,     0.89403,     0.89399,     0.89601,     0.89665,     0.89668,     0.89641,     0.89691,     0.89742,     0.89733,      0.8981,      0.8985,     0.89878,\n",
       "            0.89852,     0.89853,     0.90011,     0.90077,     0.90059,     0.90051,     0.90047,     0.90143,     0.90294,     0.90447,      0.9049,     0.90473,     0.90536,     0.90519,     0.90511,     0.90502,     0.90485,     0.90478,     0.90474,     0.90509,     0.90592,     0.90675,     0.90749,\n",
       "            0.90833,     0.90855,     0.90846,     0.90986,     0.91062,     0.91146,     0.91235,     0.91233,      0.9123,     0.91223,      0.9133,     0.91358,     0.91386,     0.91379,     0.91607,     0.91765,     0.91835,     0.91831,     0.91819,     0.91797,     0.91793,     0.91788,     0.91773,\n",
       "            0.91765,     0.91827,     0.91813,     0.91811,     0.91808,     0.91798,     0.91797,     0.91795,     0.91793,     0.91792,     0.91787,     0.91858,     0.91852,     0.91848,     0.91844,      0.9184,     0.91826,     0.91881,     0.91904,     0.91897,     0.91889,     0.91873,     0.91861,\n",
       "            0.91857,     0.91834,     0.91826,     0.91814,      0.9181,     0.91864,      0.9191,     0.91955,     0.92015,     0.92134,     0.92119,      0.9216,     0.92251,     0.92335,     0.92419,     0.92444,     0.92422,     0.92464,     0.92557,     0.92568,     0.92564,     0.92562,     0.92559,\n",
       "            0.92557,      0.9255,     0.92634,     0.92819,     0.92906,     0.92981,     0.92985,     0.93059,     0.93045,     0.93031,     0.93026,     0.93022,     0.93019,     0.93015,     0.93009,     0.93002,     0.93088,     0.93083,      0.9308,     0.93073,     0.93066,     0.93063,      0.9306,\n",
       "            0.93055,     0.93135,     0.93128,      0.9315,     0.93198,     0.93201,     0.93194,     0.93221,      0.9327,     0.93278,     0.93265,     0.93261,     0.93258,     0.93256,     0.93254,     0.93253,     0.93242,     0.93235,     0.93218,     0.93189,     0.93185,     0.93182,     0.93154,\n",
       "            0.93204,      0.9334,     0.93333,     0.93325,     0.93317,     0.93314,     0.93308,     0.93297,     0.93294,     0.93292,     0.93272,     0.93366,      0.9336,     0.93357,     0.93549,     0.93542,     0.93536,     0.93531,     0.93524,      0.9355,     0.93575,     0.93601,     0.93623,\n",
       "            0.93613,     0.93599,     0.93595,     0.93593,     0.93591,     0.93581,     0.93575,     0.93573,     0.93571,     0.93569,     0.93649,     0.93657,     0.93728,     0.93832,     0.93897,     0.94033,      0.9403,     0.94025,     0.94111,     0.94104,     0.94078,     0.94072,     0.94059,\n",
       "            0.94054,      0.9409,     0.94143,     0.94142,     0.94139,     0.94135,     0.94234,     0.94229,     0.94223,     0.94306,     0.94454,     0.94525,      0.9458,     0.94705,     0.94808,     0.94805,     0.94795,     0.94889,     0.95029,     0.95085,     0.95147,     0.95205,     0.95201,\n",
       "            0.95273,     0.95291,     0.95289,      0.9539,      0.9538,     0.95378,     0.95376,     0.95355,     0.95456,     0.95563,     0.95657,     0.95655,     0.95651,     0.95646,     0.95643,     0.95626,     0.95615,     0.95609,     0.95597,     0.95586,     0.95567,     0.95565,      0.9556,\n",
       "            0.95655,     0.95669,     0.95655,     0.95648,     0.95637,     0.95744,     0.95739,     0.95797,     0.95843,      0.9584,     0.95835,     0.95822,      0.9582,     0.95819,     0.95814,     0.95805,     0.95866,     0.95889,     0.95886,     0.95879,     0.95871,     0.95862,      0.9586,\n",
       "            0.95852,     0.95839,     0.95818,     0.95804,     0.95903,     0.95897,     0.95889,     0.96009,     0.96008,     0.96006,     0.96002,     0.96118,     0.96097,      0.9609,     0.96107,     0.96191,     0.96293,     0.96313,     0.96302,     0.96415,     0.96525,     0.96515,     0.96512,\n",
       "            0.96505,     0.96632,     0.96619,     0.96589,     0.96586,      0.9671,     0.96827,     0.96824,     0.96948,     0.96943,     0.96926,     0.96921,     0.96909,     0.96907,     0.96903,     0.96891,     0.96979,     0.97005,     0.97127,     0.97118,     0.97241,     0.97238,     0.97228,\n",
       "            0.97205,     0.97335,     0.97466,     0.97453,     0.97435,     0.97425,     0.97403,     0.97543,     0.97609,     0.97672,     0.97658,     0.97653,     0.97639,     0.97778,     0.97768,      0.9774,     0.97731,     0.97729,     0.97707,     0.97686,     0.97682,     0.97666,     0.97653,\n",
       "            0.97796,     0.97785,      0.9793,     0.97904,     0.97896,     0.97882,     0.98038,     0.98023,     0.97994,     0.98143,     0.98132,      0.9811,     0.98083,      0.9807,     0.98235,     0.98397,     0.98374,     0.98556,     0.98538,     0.98524,     0.98507,      0.9848,     0.98666,\n",
       "            0.98647,     0.98619,       0.986,     0.99055,     0.99053,     0.99041,     0.99013,      0.9899,     0.98975,      0.9896,     0.98948,     0.98928,     0.98904,     0.99152,     0.99137,     0.99115,     0.99098,     0.99082,     0.99073,     0.99028,     0.99005,     0.98971,     0.98938,\n",
       "            0.98899,     0.99112,      0.9923,      0.9922,     0.99591,     0.99584,     0.99564,     0.99556,     0.99539,           1,           1,           1,           1,           1,           1,           1,           1,           1,           1,           1,           1,           1,           1,\n",
       "                  1,           1,           1,           1,           1,           1,           1,           1,           1,           1,           1,           1,           1,           1,           1,           1,           1,           1,           1,           1,           1,           1,           1,\n",
       "                  1,           1,           1,           1,           1,           1,           1,           1,           1,           1,           1,           1,           1,           1,           1,           1,           1,           1,           1,           1,           1,           1,           1,\n",
       "                  1,           1,           1,           1,           1,           1,           1,           1,           1,           1,           1,           1,           1,           1,           1,           1,           1,           1,           1,           1,           1,           1,           1,\n",
       "                  1,           1,           1,           1,           1,           1,           1,           1,           1,           1,           1,           1,           1,           1,           1,           1,           1,           1,           1,           1,           1,           1,           1,\n",
       "                  1,           1,           1,           1,           1,           1,           1,           1,           1,           1,           1,           1,           1,           1,           1,           1,           1,           1,           1,           1,           1,           1,           1,\n",
       "                  1,           1,           1,           1,           1,           1,           1,           1,           1,           1,           1]]), 'Confidence', 'Precision'], [array([          0,    0.001001,    0.002002,    0.003003,    0.004004,    0.005005,    0.006006,    0.007007,    0.008008,    0.009009,     0.01001,    0.011011,    0.012012,    0.013013,    0.014014,    0.015015,    0.016016,    0.017017,    0.018018,    0.019019,     0.02002,    0.021021,    0.022022,    0.023023,\n",
       "          0.024024,    0.025025,    0.026026,    0.027027,    0.028028,    0.029029,     0.03003,    0.031031,    0.032032,    0.033033,    0.034034,    0.035035,    0.036036,    0.037037,    0.038038,    0.039039,     0.04004,    0.041041,    0.042042,    0.043043,    0.044044,    0.045045,    0.046046,    0.047047,\n",
       "          0.048048,    0.049049,     0.05005,    0.051051,    0.052052,    0.053053,    0.054054,    0.055055,    0.056056,    0.057057,    0.058058,    0.059059,     0.06006,    0.061061,    0.062062,    0.063063,    0.064064,    0.065065,    0.066066,    0.067067,    0.068068,    0.069069,     0.07007,    0.071071,\n",
       "          0.072072,    0.073073,    0.074074,    0.075075,    0.076076,    0.077077,    0.078078,    0.079079,     0.08008,    0.081081,    0.082082,    0.083083,    0.084084,    0.085085,    0.086086,    0.087087,    0.088088,    0.089089,     0.09009,    0.091091,    0.092092,    0.093093,    0.094094,    0.095095,\n",
       "          0.096096,    0.097097,    0.098098,    0.099099,      0.1001,      0.1011,      0.1021,      0.1031,      0.1041,     0.10511,     0.10611,     0.10711,     0.10811,     0.10911,     0.11011,     0.11111,     0.11211,     0.11311,     0.11411,     0.11512,     0.11612,     0.11712,     0.11812,     0.11912,\n",
       "           0.12012,     0.12112,     0.12212,     0.12312,     0.12412,     0.12513,     0.12613,     0.12713,     0.12813,     0.12913,     0.13013,     0.13113,     0.13213,     0.13313,     0.13413,     0.13514,     0.13614,     0.13714,     0.13814,     0.13914,     0.14014,     0.14114,     0.14214,     0.14314,\n",
       "           0.14414,     0.14515,     0.14615,     0.14715,     0.14815,     0.14915,     0.15015,     0.15115,     0.15215,     0.15315,     0.15415,     0.15516,     0.15616,     0.15716,     0.15816,     0.15916,     0.16016,     0.16116,     0.16216,     0.16316,     0.16416,     0.16517,     0.16617,     0.16717,\n",
       "           0.16817,     0.16917,     0.17017,     0.17117,     0.17217,     0.17317,     0.17417,     0.17518,     0.17618,     0.17718,     0.17818,     0.17918,     0.18018,     0.18118,     0.18218,     0.18318,     0.18418,     0.18519,     0.18619,     0.18719,     0.18819,     0.18919,     0.19019,     0.19119,\n",
       "           0.19219,     0.19319,     0.19419,      0.1952,      0.1962,      0.1972,      0.1982,      0.1992,      0.2002,      0.2012,      0.2022,      0.2032,      0.2042,     0.20521,     0.20621,     0.20721,     0.20821,     0.20921,     0.21021,     0.21121,     0.21221,     0.21321,     0.21421,     0.21522,\n",
       "           0.21622,     0.21722,     0.21822,     0.21922,     0.22022,     0.22122,     0.22222,     0.22322,     0.22422,     0.22523,     0.22623,     0.22723,     0.22823,     0.22923,     0.23023,     0.23123,     0.23223,     0.23323,     0.23423,     0.23524,     0.23624,     0.23724,     0.23824,     0.23924,\n",
       "           0.24024,     0.24124,     0.24224,     0.24324,     0.24424,     0.24525,     0.24625,     0.24725,     0.24825,     0.24925,     0.25025,     0.25125,     0.25225,     0.25325,     0.25425,     0.25526,     0.25626,     0.25726,     0.25826,     0.25926,     0.26026,     0.26126,     0.26226,     0.26326,\n",
       "           0.26426,     0.26527,     0.26627,     0.26727,     0.26827,     0.26927,     0.27027,     0.27127,     0.27227,     0.27327,     0.27427,     0.27528,     0.27628,     0.27728,     0.27828,     0.27928,     0.28028,     0.28128,     0.28228,     0.28328,     0.28428,     0.28529,     0.28629,     0.28729,\n",
       "           0.28829,     0.28929,     0.29029,     0.29129,     0.29229,     0.29329,     0.29429,      0.2953,      0.2963,      0.2973,      0.2983,      0.2993,      0.3003,      0.3013,      0.3023,      0.3033,      0.3043,     0.30531,     0.30631,     0.30731,     0.30831,     0.30931,     0.31031,     0.31131,\n",
       "           0.31231,     0.31331,     0.31431,     0.31532,     0.31632,     0.31732,     0.31832,     0.31932,     0.32032,     0.32132,     0.32232,     0.32332,     0.32432,     0.32533,     0.32633,     0.32733,     0.32833,     0.32933,     0.33033,     0.33133,     0.33233,     0.33333,     0.33433,     0.33534,\n",
       "           0.33634,     0.33734,     0.33834,     0.33934,     0.34034,     0.34134,     0.34234,     0.34334,     0.34434,     0.34535,     0.34635,     0.34735,     0.34835,     0.34935,     0.35035,     0.35135,     0.35235,     0.35335,     0.35435,     0.35536,     0.35636,     0.35736,     0.35836,     0.35936,\n",
       "           0.36036,     0.36136,     0.36236,     0.36336,     0.36436,     0.36537,     0.36637,     0.36737,     0.36837,     0.36937,     0.37037,     0.37137,     0.37237,     0.37337,     0.37437,     0.37538,     0.37638,     0.37738,     0.37838,     0.37938,     0.38038,     0.38138,     0.38238,     0.38338,\n",
       "           0.38438,     0.38539,     0.38639,     0.38739,     0.38839,     0.38939,     0.39039,     0.39139,     0.39239,     0.39339,     0.39439,      0.3954,      0.3964,      0.3974,      0.3984,      0.3994,      0.4004,      0.4014,      0.4024,      0.4034,      0.4044,     0.40541,     0.40641,     0.40741,\n",
       "           0.40841,     0.40941,     0.41041,     0.41141,     0.41241,     0.41341,     0.41441,     0.41542,     0.41642,     0.41742,     0.41842,     0.41942,     0.42042,     0.42142,     0.42242,     0.42342,     0.42442,     0.42543,     0.42643,     0.42743,     0.42843,     0.42943,     0.43043,     0.43143,\n",
       "           0.43243,     0.43343,     0.43443,     0.43544,     0.43644,     0.43744,     0.43844,     0.43944,     0.44044,     0.44144,     0.44244,     0.44344,     0.44444,     0.44545,     0.44645,     0.44745,     0.44845,     0.44945,     0.45045,     0.45145,     0.45245,     0.45345,     0.45445,     0.45546,\n",
       "           0.45646,     0.45746,     0.45846,     0.45946,     0.46046,     0.46146,     0.46246,     0.46346,     0.46446,     0.46547,     0.46647,     0.46747,     0.46847,     0.46947,     0.47047,     0.47147,     0.47247,     0.47347,     0.47447,     0.47548,     0.47648,     0.47748,     0.47848,     0.47948,\n",
       "           0.48048,     0.48148,     0.48248,     0.48348,     0.48448,     0.48549,     0.48649,     0.48749,     0.48849,     0.48949,     0.49049,     0.49149,     0.49249,     0.49349,     0.49449,      0.4955,      0.4965,      0.4975,      0.4985,      0.4995,      0.5005,      0.5015,      0.5025,      0.5035,\n",
       "            0.5045,     0.50551,     0.50651,     0.50751,     0.50851,     0.50951,     0.51051,     0.51151,     0.51251,     0.51351,     0.51451,     0.51552,     0.51652,     0.51752,     0.51852,     0.51952,     0.52052,     0.52152,     0.52252,     0.52352,     0.52452,     0.52553,     0.52653,     0.52753,\n",
       "           0.52853,     0.52953,     0.53053,     0.53153,     0.53253,     0.53353,     0.53453,     0.53554,     0.53654,     0.53754,     0.53854,     0.53954,     0.54054,     0.54154,     0.54254,     0.54354,     0.54454,     0.54555,     0.54655,     0.54755,     0.54855,     0.54955,     0.55055,     0.55155,\n",
       "           0.55255,     0.55355,     0.55455,     0.55556,     0.55656,     0.55756,     0.55856,     0.55956,     0.56056,     0.56156,     0.56256,     0.56356,     0.56456,     0.56557,     0.56657,     0.56757,     0.56857,     0.56957,     0.57057,     0.57157,     0.57257,     0.57357,     0.57457,     0.57558,\n",
       "           0.57658,     0.57758,     0.57858,     0.57958,     0.58058,     0.58158,     0.58258,     0.58358,     0.58458,     0.58559,     0.58659,     0.58759,     0.58859,     0.58959,     0.59059,     0.59159,     0.59259,     0.59359,     0.59459,      0.5956,      0.5966,      0.5976,      0.5986,      0.5996,\n",
       "            0.6006,      0.6016,      0.6026,      0.6036,      0.6046,     0.60561,     0.60661,     0.60761,     0.60861,     0.60961,     0.61061,     0.61161,     0.61261,     0.61361,     0.61461,     0.61562,     0.61662,     0.61762,     0.61862,     0.61962,     0.62062,     0.62162,     0.62262,     0.62362,\n",
       "           0.62462,     0.62563,     0.62663,     0.62763,     0.62863,     0.62963,     0.63063,     0.63163,     0.63263,     0.63363,     0.63463,     0.63564,     0.63664,     0.63764,     0.63864,     0.63964,     0.64064,     0.64164,     0.64264,     0.64364,     0.64464,     0.64565,     0.64665,     0.64765,\n",
       "           0.64865,     0.64965,     0.65065,     0.65165,     0.65265,     0.65365,     0.65465,     0.65566,     0.65666,     0.65766,     0.65866,     0.65966,     0.66066,     0.66166,     0.66266,     0.66366,     0.66466,     0.66567,     0.66667,     0.66767,     0.66867,     0.66967,     0.67067,     0.67167,\n",
       "           0.67267,     0.67367,     0.67467,     0.67568,     0.67668,     0.67768,     0.67868,     0.67968,     0.68068,     0.68168,     0.68268,     0.68368,     0.68468,     0.68569,     0.68669,     0.68769,     0.68869,     0.68969,     0.69069,     0.69169,     0.69269,     0.69369,     0.69469,      0.6957,\n",
       "            0.6967,      0.6977,      0.6987,      0.6997,      0.7007,      0.7017,      0.7027,      0.7037,      0.7047,     0.70571,     0.70671,     0.70771,     0.70871,     0.70971,     0.71071,     0.71171,     0.71271,     0.71371,     0.71471,     0.71572,     0.71672,     0.71772,     0.71872,     0.71972,\n",
       "           0.72072,     0.72172,     0.72272,     0.72372,     0.72472,     0.72573,     0.72673,     0.72773,     0.72873,     0.72973,     0.73073,     0.73173,     0.73273,     0.73373,     0.73473,     0.73574,     0.73674,     0.73774,     0.73874,     0.73974,     0.74074,     0.74174,     0.74274,     0.74374,\n",
       "           0.74474,     0.74575,     0.74675,     0.74775,     0.74875,     0.74975,     0.75075,     0.75175,     0.75275,     0.75375,     0.75475,     0.75576,     0.75676,     0.75776,     0.75876,     0.75976,     0.76076,     0.76176,     0.76276,     0.76376,     0.76476,     0.76577,     0.76677,     0.76777,\n",
       "           0.76877,     0.76977,     0.77077,     0.77177,     0.77277,     0.77377,     0.77477,     0.77578,     0.77678,     0.77778,     0.77878,     0.77978,     0.78078,     0.78178,     0.78278,     0.78378,     0.78478,     0.78579,     0.78679,     0.78779,     0.78879,     0.78979,     0.79079,     0.79179,\n",
       "           0.79279,     0.79379,     0.79479,      0.7958,      0.7968,      0.7978,      0.7988,      0.7998,      0.8008,      0.8018,      0.8028,      0.8038,      0.8048,     0.80581,     0.80681,     0.80781,     0.80881,     0.80981,     0.81081,     0.81181,     0.81281,     0.81381,     0.81481,     0.81582,\n",
       "           0.81682,     0.81782,     0.81882,     0.81982,     0.82082,     0.82182,     0.82282,     0.82382,     0.82482,     0.82583,     0.82683,     0.82783,     0.82883,     0.82983,     0.83083,     0.83183,     0.83283,     0.83383,     0.83483,     0.83584,     0.83684,     0.83784,     0.83884,     0.83984,\n",
       "           0.84084,     0.84184,     0.84284,     0.84384,     0.84484,     0.84585,     0.84685,     0.84785,     0.84885,     0.84985,     0.85085,     0.85185,     0.85285,     0.85385,     0.85485,     0.85586,     0.85686,     0.85786,     0.85886,     0.85986,     0.86086,     0.86186,     0.86286,     0.86386,\n",
       "           0.86486,     0.86587,     0.86687,     0.86787,     0.86887,     0.86987,     0.87087,     0.87187,     0.87287,     0.87387,     0.87487,     0.87588,     0.87688,     0.87788,     0.87888,     0.87988,     0.88088,     0.88188,     0.88288,     0.88388,     0.88488,     0.88589,     0.88689,     0.88789,\n",
       "           0.88889,     0.88989,     0.89089,     0.89189,     0.89289,     0.89389,     0.89489,      0.8959,      0.8969,      0.8979,      0.8989,      0.8999,      0.9009,      0.9019,      0.9029,      0.9039,      0.9049,     0.90591,     0.90691,     0.90791,     0.90891,     0.90991,     0.91091,     0.91191,\n",
       "           0.91291,     0.91391,     0.91491,     0.91592,     0.91692,     0.91792,     0.91892,     0.91992,     0.92092,     0.92192,     0.92292,     0.92392,     0.92492,     0.92593,     0.92693,     0.92793,     0.92893,     0.92993,     0.93093,     0.93193,     0.93293,     0.93393,     0.93493,     0.93594,\n",
       "           0.93694,     0.93794,     0.93894,     0.93994,     0.94094,     0.94194,     0.94294,     0.94394,     0.94494,     0.94595,     0.94695,     0.94795,     0.94895,     0.94995,     0.95095,     0.95195,     0.95295,     0.95395,     0.95495,     0.95596,     0.95696,     0.95796,     0.95896,     0.95996,\n",
       "           0.96096,     0.96196,     0.96296,     0.96396,     0.96496,     0.96597,     0.96697,     0.96797,     0.96897,     0.96997,     0.97097,     0.97197,     0.97297,     0.97397,     0.97497,     0.97598,     0.97698,     0.97798,     0.97898,     0.97998,     0.98098,     0.98198,     0.98298,     0.98398,\n",
       "           0.98498,     0.98599,     0.98699,     0.98799,     0.98899,     0.98999,     0.99099,     0.99199,     0.99299,     0.99399,     0.99499,       0.996,       0.997,       0.998,       0.999,           1]), array([[    0.69059,     0.69059,     0.68387,     0.67876,     0.67446,     0.67097,     0.66909,     0.66828,     0.66694,     0.66613,     0.66344,     0.66237,     0.66183,     0.66022,     0.65968,      0.6578,     0.65753,     0.65484,      0.6543,     0.65269,     0.65161,     0.65054,     0.64946,\n",
       "            0.64785,     0.64651,     0.64624,     0.64543,     0.64435,     0.64328,     0.64328,     0.64247,     0.64167,     0.64032,     0.63925,     0.63925,     0.63871,     0.63771,     0.63683,     0.63602,     0.63522,     0.63414,     0.63414,      0.6336,     0.63306,     0.63306,     0.63226,\n",
       "            0.63065,     0.62984,     0.62849,     0.62823,     0.62823,     0.62715,     0.62634,     0.62527,     0.62527,     0.62419,     0.62312,     0.62285,     0.62124,     0.62043,     0.61969,     0.61882,     0.61801,     0.61774,     0.61694,     0.61667,     0.61586,     0.61559,     0.61505,\n",
       "            0.61452,     0.61398,     0.61263,     0.61158,     0.61156,     0.61102,     0.61048,     0.61048,     0.61048,     0.60914,      0.6086,     0.60806,     0.60753,     0.60618,     0.60538,     0.60457,     0.60323,     0.60323,     0.60215,     0.60081,     0.59973,     0.59892,     0.59812,\n",
       "            0.59785,     0.59677,     0.59597,     0.59516,     0.59382,     0.59355,     0.59167,     0.59086,     0.59005,     0.58871,     0.58817,     0.58758,     0.58683,     0.58468,     0.58387,     0.58226,     0.58091,     0.58011,     0.57796,     0.57661,     0.57581,       0.575,     0.57366,\n",
       "            0.57258,      0.5707,     0.56994,     0.56909,     0.56909,     0.56909,     0.56855,     0.56801,     0.56694,     0.56667,     0.56585,     0.56478,     0.56371,     0.56344,     0.56183,     0.56075,     0.55968,     0.55806,      0.5578,     0.55699,     0.55565,     0.55511,     0.55376,\n",
       "            0.55323,     0.55242,     0.55215,     0.55188,     0.55161,     0.55083,     0.54973,     0.54866,     0.54785,     0.54704,     0.54704,     0.54651,     0.54543,     0.54516,     0.54508,     0.54435,     0.54328,     0.54247,     0.54167,      0.5414,      0.5414,     0.53978,     0.53844,\n",
       "            0.53683,      0.5364,     0.53511,     0.53387,      0.5328,     0.53117,     0.53091,      0.5293,     0.52903,     0.52677,     0.52527,     0.52312,     0.52265,     0.52177,     0.52124,     0.52043,     0.51909,     0.51828,     0.51747,     0.51661,     0.51613,     0.51478,     0.51344,\n",
       "            0.51344,     0.51162,     0.50887,     0.50723,     0.50645,     0.50393,     0.50215,     0.50054,     0.49946,     0.49782,     0.49657,     0.49543,     0.49489,     0.49444,     0.49378,      0.4922,     0.49059,     0.48871,     0.48817,     0.48602,     0.48474,     0.48295,     0.48145,\n",
       "             0.4789,     0.47769,     0.47634,     0.47446,     0.47285,      0.4709,     0.46962,     0.46739,     0.46505,     0.46203,     0.46183,     0.46048,     0.45941,     0.45753,     0.45645,     0.45376,     0.45329,     0.45108,     0.45054,     0.44758,     0.44597,     0.44433,     0.44178,\n",
       "            0.44032,     0.43859,     0.43737,     0.43602,     0.43501,     0.43306,     0.43253,     0.43065,     0.42957,     0.42908,     0.42715,     0.42688,     0.42659,     0.42634,     0.42478,     0.42339,     0.42177,     0.42153,     0.41882,     0.41747,     0.41532,     0.41425,     0.41237,\n",
       "             0.4086,     0.40767,     0.40649,     0.40451,     0.40349,     0.40136,     0.39919,     0.39812,     0.39677,     0.39597,     0.39543,     0.39516,     0.39194,     0.39194,     0.39169,     0.39032,     0.38871,     0.38718,     0.38468,     0.38376,     0.38226,     0.38097,     0.37925,\n",
       "            0.37796,     0.37769,     0.37661,       0.375,     0.37473,     0.37419,     0.37285,     0.37124,     0.37027,     0.36913,     0.36694,     0.36628,     0.36532,     0.36452,     0.36344,       0.362,     0.36082,     0.35972,     0.35695,     0.35527,      0.3543,     0.35323,     0.35269,\n",
       "            0.34992,     0.34892,     0.34839,     0.34812,     0.34785,     0.34722,     0.34651,     0.34651,     0.34599,     0.34489,     0.34435,     0.34368,     0.34328,      0.3422,      0.3422,     0.34167,      0.3414,     0.34032,     0.33952,     0.33844,     0.33737,      0.3371,      0.3371,\n",
       "            0.33636,     0.33602,     0.33492,     0.33387,     0.33349,     0.33237,     0.33226,     0.33146,     0.33118,     0.33084,     0.33065,     0.33038,     0.32957,     0.32879,     0.32796,     0.32764,     0.32742,     0.32648,     0.32634,     0.32608,     0.32554,     0.32446,     0.32416,\n",
       "            0.32361,     0.32247,     0.32177,     0.32158,     0.32124,     0.32043,     0.32016,     0.31935,       0.319,     0.31801,      0.3176,     0.31747,     0.31675,     0.31641,     0.31586,     0.31478,     0.31478,     0.31478,      0.3144,     0.31408,     0.31344,     0.31344,     0.31263,\n",
       "            0.31263,     0.31263,     0.31203,     0.31175,     0.31148,      0.3109,     0.31075,     0.31048,     0.31022,     0.31022,     0.30995,     0.30941,     0.30914,     0.30833,     0.30833,      0.3078,     0.30716,     0.30672,     0.30672,     0.30645,     0.30618,     0.30618,     0.30537,\n",
       "            0.30484,     0.30455,     0.30401,     0.30372,     0.30296,     0.30296,      0.3023,     0.30215,     0.30208,     0.30192,      0.3014,     0.30134,     0.30081,     0.30031,     0.30003,     0.29946,     0.29866,     0.29866,     0.29832,     0.29805,     0.29758,     0.29758,     0.29731,\n",
       "            0.29731,     0.29731,     0.29731,     0.29731,     0.29704,     0.29704,     0.29657,     0.29651,     0.29602,     0.29516,     0.29489,     0.29489,     0.29462,     0.29457,      0.2943,     0.29402,     0.29382,     0.29374,     0.29346,     0.29328,     0.29328,     0.29314,     0.29256,\n",
       "            0.29202,     0.29194,     0.29194,     0.29173,     0.29119,     0.29064,      0.2901,     0.28982,     0.28967,     0.28953,     0.28912,     0.28898,     0.28871,     0.28817,      0.2879,      0.2879,      0.2878,      0.2877,     0.28763,     0.28763,     0.28725,      0.2871,     0.28683,\n",
       "            0.28669,     0.28651,     0.28642,     0.28633,     0.28575,     0.28548,     0.28531,     0.28503,     0.28449,     0.28387,     0.28367,      0.2835,     0.28336,     0.28257,     0.28253,     0.28229,     0.28148,     0.28066,     0.27985,     0.27957,     0.27957,     0.27957,     0.27928,\n",
       "            0.27847,     0.27823,     0.27823,     0.27818,     0.27764,     0.27739,     0.27725,     0.27715,     0.27688,     0.27661,     0.27625,     0.27571,     0.27516,     0.27462,     0.27434,     0.27407,     0.27352,     0.27332,     0.27318,     0.27285,     0.27285,     0.27285,     0.27258,\n",
       "            0.27258,      0.2724,     0.27212,     0.27204,     0.27177,     0.27177,     0.27143,     0.27134,     0.27125,       0.271,     0.27097,     0.27097,     0.27097,      0.2707,     0.26989,     0.26961,     0.26908,     0.26894,     0.26852,     0.26772,     0.26759,     0.26742,     0.26688,\n",
       "             0.2666,     0.26579,      0.2653,      0.2652,     0.26511,     0.26477,     0.26471,     0.26466,      0.2646,     0.26454,     0.26438,     0.26384,     0.26364,      0.2635,     0.26336,     0.26322,     0.26273,     0.26263,     0.26245,     0.26217,      0.2619,     0.26135,     0.26092,\n",
       "            0.26078,     0.25999,     0.25971,     0.25929,     0.25915,     0.25914,     0.25887,     0.25887,      0.2586,     0.25819,     0.25764,     0.25726,     0.25726,     0.25699,     0.25672,     0.25654,     0.25572,     0.25484,     0.25484,     0.25446,     0.25433,     0.25423,     0.25413,\n",
       "            0.25404,     0.25379,     0.25376,     0.25376,      0.2535,     0.25282,     0.25269,     0.25227,     0.25172,     0.25118,     0.25099,     0.25085,     0.25071,     0.25058,     0.25034,     0.25006,     0.24979,     0.24962,     0.24948,     0.24923,     0.24895,     0.24883,     0.24872,\n",
       "            0.24853,     0.24799,     0.24771,     0.24758,     0.24758,     0.24688,     0.24661,     0.24651,     0.24651,     0.24619,     0.24567,     0.24553,     0.24541,     0.24534,     0.24527,     0.24521,     0.24479,     0.24452,     0.24386,     0.24276,     0.24261,     0.24247,      0.2414,\n",
       "             0.2414,     0.24111,     0.24084,     0.24053,     0.24024,      0.2401,     0.23987,     0.23945,     0.23936,     0.23927,      0.2385,     0.23836,     0.23813,     0.23799,      0.2378,     0.23752,     0.23729,      0.2371,     0.23683,     0.23683,     0.23683,     0.23683,     0.23678,\n",
       "            0.23639,     0.23585,      0.2357,     0.23562,     0.23554,     0.23515,     0.23493,     0.23485,     0.23477,     0.23469,     0.23441,     0.23417,     0.23333,     0.23308,     0.23306,       0.233,     0.23286,     0.23265,     0.23197,      0.2317,     0.23061,     0.23034,     0.22981,\n",
       "            0.22963,     0.22957,     0.22957,     0.22895,     0.22884,     0.22868,     0.22843,     0.22825,     0.22799,     0.22742,     0.22688,     0.22634,     0.22634,     0.22598,      0.2258,     0.22566,     0.22522,     0.22457,     0.22446,     0.22446,     0.22419,     0.22415,     0.22397,\n",
       "            0.22339,     0.22303,     0.22292,     0.22249,       0.222,     0.22189,     0.22178,     0.22071,     0.22026,     0.22003,     0.21908,     0.21895,     0.21878,     0.21847,     0.21833,     0.21743,     0.21689,     0.21656,     0.21594,     0.21539,     0.21443,     0.21432,     0.21408,\n",
       "            0.21398,     0.21375,     0.21307,     0.21268,     0.21211,     0.21183,     0.21138,     0.21129,     0.21074,     0.21056,     0.21032,     0.20962,     0.20953,     0.20944,     0.20922,     0.20806,     0.20806,     0.20694,     0.20676,     0.20637,       0.206,     0.20553,     0.20539,\n",
       "              0.205,     0.20433,     0.20323,     0.20256,     0.20134,     0.20105,     0.20065,     0.20048,     0.20039,      0.2003,     0.20009,     0.19968,     0.19854,     0.19819,     0.19731,     0.19689,     0.19677,     0.19662,     0.19604,     0.19519,     0.19413,     0.19356,     0.19337,\n",
       "            0.19301,     0.19283,     0.19206,     0.19031,     0.19013,     0.18871,     0.18868,      0.1885,     0.18785,     0.18752,     0.18649,     0.18615,      0.1854,     0.18529,     0.18503,     0.18431,     0.18306,     0.18282,     0.18174,     0.18119,     0.18011,     0.17983,     0.17915,\n",
       "            0.17765,     0.17672,     0.17574,     0.17483,     0.17356,     0.17293,     0.17139,     0.17077,     0.16962,     0.16914,     0.16811,     0.16778,     0.16674,     0.16562,     0.16483,     0.16278,     0.16211,     0.16192,     0.16034,     0.15886,     0.15856,     0.15748,     0.15655,\n",
       "            0.15503,     0.15426,     0.15258,     0.15069,     0.15007,     0.14905,     0.14777,      0.1466,     0.14444,      0.1421,     0.14119,     0.13956,     0.13751,     0.13658,     0.13468,     0.13198,     0.13008,     0.12846,     0.12683,     0.12564,     0.12412,     0.12195,      0.1193,\n",
       "            0.11762,     0.11519,     0.11356,     0.11274,     0.11241,      0.1111,     0.10787,     0.10543,     0.10381,      0.1023,     0.10109,    0.099196,    0.097032,     0.09433,    0.092588,    0.090271,    0.088645,    0.087057,    0.086198,    0.082153,    0.080257,    0.077556,    0.075123,\n",
       "           0.072421,    0.070699,    0.069262,    0.068349,    0.065378,     0.06429,    0.061439,     0.06023,    0.058066,    0.055634,    0.054007,    0.052381,    0.049948,    0.048053,    0.046695,    0.045607,    0.042905,    0.041279,    0.039921,    0.038026,    0.036937,    0.035397,    0.034222,\n",
       "           0.032596,    0.031507,    0.029074,    0.028415,    0.028231,     0.02621,    0.025257,     0.02445,    0.023617,    0.022797,    0.022145,    0.020794,      0.0198,    0.019167,    0.017622,    0.017071,    0.016251,    0.015269,    0.015086,    0.014557,    0.014282,    0.013549,    0.012945,\n",
       "           0.012394,    0.011843,    0.010485,    0.009315,   0.0091142,   0.0082307,   0.0080383,    0.007461,   0.0064252,   0.0062415,   0.0052701,   0.0046444,   0.0042345,   0.0038856,   0.0036777,   0.0035674,   0.0034011,   0.0031972,   0.0031184,   0.0030397,    0.002961,   0.0026954,   0.0026115,\n",
       "          0.0025328,   0.0024541,   0.0023167,    0.002143,   0.0020643,   0.0019855,   0.0019068,     0.00184,   0.0017788,   0.0017175,   0.0016563,   0.0015951,   0.0015339,   0.0014726,   0.0014114,   0.0013502,   0.0010371,  0.00099469,   0.0009523,   0.0009099,  0.00086751,  0.00082512,  0.00065227,\n",
       "           0.000484,  0.00039215,   0.0003003,           0,           0,           0,           0,           0,           0,           0,           0,           0,           0,           0,           0,           0,           0,           0,           0,           0,           0,           0,           0,\n",
       "                  0,           0,           0,           0,           0,           0,           0,           0,           0,           0,           0,           0,           0,           0,           0,           0,           0,           0,           0,           0,           0,           0,           0,\n",
       "                  0,           0,           0,           0,           0,           0,           0,           0,           0,           0,           0]]), 'Confidence', 'Recall']]\n",
       "fitness: np.float64(0.3233214102057451)\n",
       "keys: ['metrics/precision(B)', 'metrics/recall(B)', 'metrics/mAP50(B)', 'metrics/mAP50-95(B)']\n",
       "maps: array([    0.30382])\n",
       "names: {0: 'ship'}\n",
       "plot: True\n",
       "results_dict: {'metrics/precision(B)': np.float64(0.5648253803295431), 'metrics/recall(B)': np.float64(0.49946236559139784), 'metrics/mAP50(B)': np.float64(0.49879316785298294), 'metrics/mAP50-95(B)': np.float64(0.30382454824494093), 'fitness': np.float64(0.3233214102057451)}\n",
       "save_dir: PosixPath('/home/jbenyam/cnnsat/runs/yolov8_ship_detection_v2')\n",
       "speed: {'preprocess': 0.11887109857783856, 'inference': 0.6296289985780077, 'loss': 0.0003993098234744876, 'postprocess': 0.6679363118583556}\n",
       "task: 'detect'"
      ]
     },
     "execution_count": 7,
     "metadata": {},
     "output_type": "execute_result"
    }
   ],
   "source": [
    "###### Step 2. Setting up YOLOv8_v2 for Transfer Learning\n",
    "model = YOLO('yolov8n.pt')  # Nano model is lightweight\n",
    "model.train(\n",
    "    data='/home/jbenyam/cnnsat/data/data.yaml',\n",
    "    epochs=100,\n",
    "    imgsz=640,\n",
    "    batch=8,\n",
    "    project= '/home/jbenyam/cnnsat/runs',\n",
    "    name='yolov8_ship_detection_v2',\n",
    "    verbose=True\n",
    ")\n"
   ]
  },
  {
   "cell_type": "code",
   "execution_count": 8,
   "metadata": {},
   "outputs": [
    {
     "name": "stdout",
     "output_type": "stream",
     "text": [
      "Ultralytics YOLOv8.2.96 🚀 Python-3.10.14 torch-2.4.1+cu121 CPU (Intel Core(TM) i9-14900KF)\n",
      "Model summary (fused): 168 layers, 3,005,843 parameters, 0 gradients, 8.1 GFLOPs\n",
      "\n",
      "\u001b[34m\u001b[1mPyTorch:\u001b[0m starting from '/home/jbenyam/cnnsat/runs/yolov8_ship_detection_v2/weights/best.pt' with input shape (1, 3, 640, 640) BCHW and output shape(s) (1, 5, 8400) (6.0 MB)\n",
      "\n",
      "\u001b[34m\u001b[1mTorchScript:\u001b[0m starting export with torch 2.4.1+cu121...\n",
      "\u001b[34m\u001b[1mTorchScript:\u001b[0m export success ✅ 0.7s, saved as '/home/jbenyam/cnnsat/runs/yolov8_ship_detection_v2/weights/best.torchscript' (11.9 MB)\n",
      "\n",
      "Export complete (2.2s)\n",
      "Results saved to \u001b[1m/home/jbenyam/cnnsat/runs/yolov8_ship_detection_v2/weights\u001b[0m\n",
      "Predict:         yolo predict task=detect model=/home/jbenyam/cnnsat/runs/yolov8_ship_detection_v2/weights/best.torchscript imgsz=640  \n",
      "Validate:        yolo val task=detect model=/home/jbenyam/cnnsat/runs/yolov8_ship_detection_v2/weights/best.torchscript imgsz=640 data=/home/jbenyam/cnnsat/data/data.yaml  \n",
      "Visualize:       https://netron.app\n"
     ]
    },
    {
     "data": {
      "text/plain": [
       "'/home/jbenyam/cnnsat/runs/yolov8_ship_detection_v2/weights/best.torchscript'"
      ]
     },
     "execution_count": 8,
     "metadata": {},
     "output_type": "execute_result"
    }
   ],
   "source": [
    "# Export the model in TorchScript format\n",
    "model.export(format='torchscript')  # TorchScript export, will save in the current directory\n"
   ]
  },
  {
   "cell_type": "code",
   "execution_count": null,
   "metadata": {},
   "outputs": [],
   "source": []
  }
 ],
 "metadata": {
  "kernelspec": {
   "display_name": "cnnsat",
   "language": "python",
   "name": "python3"
  },
  "language_info": {
   "codemirror_mode": {
    "name": "ipython",
    "version": 3
   },
   "file_extension": ".py",
   "mimetype": "text/x-python",
   "name": "python",
   "nbconvert_exporter": "python",
   "pygments_lexer": "ipython3",
   "version": "3.10.14"
  }
 },
 "nbformat": 4,
 "nbformat_minor": 2
}
